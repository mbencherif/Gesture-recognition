{
  "nbformat": 4,
  "nbformat_minor": 0,
  "metadata": {
    "colab": {
      "name": "Hybrid7Init6clsQ.ipynb",
      "version": "0.3.2",
      "provenance": [],
      "collapsed_sections": [],
      "include_colab_link": true
    },
    "kernelspec": {
      "display_name": "Python 3",
      "language": "python",
      "name": "python3"
    },
    "accelerator": "GPU"
  },
  "cells": [
    {
      "cell_type": "markdown",
      "metadata": {
        "id": "view-in-github",
        "colab_type": "text"
      },
      "source": [
        "[View in Colaboratory](https://colab.research.google.com/github/mingweihe/HandGestureRecognition/blob/master/Hybrid7Init6clsQ.ipynb)"
      ]
    },
    {
      "metadata": {
        "id": "M8h00KEOGc-P",
        "colab_type": "code",
        "colab": {}
      },
      "cell_type": "code",
      "source": [
        "import tensorflow as tf\n",
        "import numpy as np\n",
        "import random\n",
        "import matplotlib.pyplot as plt\n",
        "import time\n",
        "import os"
      ],
      "execution_count": 0,
      "outputs": []
    },
    {
      "metadata": {
        "id": "lReNlvi6VZQV",
        "colab_type": "code",
        "colab": {}
      },
      "cell_type": "code",
      "source": [
        "#@title\n",
        "# Set parameters\n",
        "image_height = 300\n",
        "image_width = 370\n",
        "num_channels = 3\n",
        "num_categories = 6\n",
        "num_filters1 = 32\n",
        "num_filters2 = 64\n",
        "num_filters3 = 64\n",
        "num_filters4 = 128\n",
        "num_filters5 = 256\n",
        "num_filters6 = 512\n",
        "num_filters7 = 1024\n",
        "filter_size = 3\n",
        "num_epochs = 10\n",
        "batch_size = 10\n",
        "pooling_size = 2\n",
        "fully_connected_size = 1024\n",
        "log_dir = os.path.join('log', 'cnnGesture')\n",
        "chkp_dir = os.path.join('checkpoints', 'cnnGesture')\n",
        "chkp_name = 'model'\n",
        "learning_rate = 5e-4\n",
        "min_after_dequeue = 1000\n",
        "capacity=min_after_dequeue+3*batch_size"
      ],
      "execution_count": 0,
      "outputs": []
    },
    {
      "metadata": {
        "id": "6efJF9O-kmzf",
        "colab_type": "code",
        "colab": {
          "base_uri": "https://localhost:8080/",
          "height": 34
        },
        "outputId": "e2162cf2-99f2-4cd7-8b18-c20e54ffd951"
      },
      "cell_type": "code",
      "source": [
        "tf.Variable(num_epochs, name='num_epochs')\n",
        "tf.Variable(batch_size, name='batch_size')\n",
        "tf.Variable(log_dir, name='log_dir')"
      ],
      "execution_count": 3,
      "outputs": [
        {
          "output_type": "execute_result",
          "data": {
            "text/plain": [
              "<tf.Variable 'log_dir:0' shape=() dtype=string_ref>"
            ]
          },
          "metadata": {
            "tags": []
          },
          "execution_count": 3
        }
      ]
    },
    {
      "metadata": {
        "id": "WtYcPcn7VZQY",
        "colab_type": "code",
        "colab": {}
      },
      "cell_type": "code",
      "source": [
        "# images plotting function\n",
        "def plotImg(imgs, titles = None):\n",
        "    fig = plt.figure()\n",
        "    for i in range(len(imgs)):\n",
        "        ax = fig.add_subplot(1, len(imgs), i + 1)\n",
        "        if titles != None:\n",
        "            ax.title.set_text(titles[i])\n",
        "        plt.imshow(imgs[i])\n",
        "        plt.axis('off')\n",
        "    plt.show()"
      ],
      "execution_count": 0,
      "outputs": []
    },
    {
      "metadata": {
        "id": "Tn77Tbr4VZQZ",
        "colab_type": "code",
        "colab": {}
      },
      "cell_type": "code",
      "source": [
        "reader=tf.TFRecordReader()\n",
        "fmt = {'image_raw':tf.FixedLenFeature([],tf.string), 'label':tf.FixedLenFeature([],tf.int64)}\n",
        "fmt1 = {'size':tf.FixedLenFeature([],tf.int64)}\n",
        "# read train set graph\n",
        "train_queue=tf.train.string_input_producer(['Records/train.tfrecords'], num_epochs=num_epochs, shuffle=True, name='train_queue')   \n",
        "_,serialized_train_set=reader.read(train_queue)\n",
        "train_features=tf.parse_single_example(serialized_train_set, features=fmt)\n",
        "train_images=tf.decode_raw(train_features['image_raw'],tf.uint8)\n",
        "train_images=tf.reshape(train_images,[image_height,image_width,num_channels])\n",
        "train_labels=tf.cast(train_features['label'],tf.int32)\n",
        "train_labels=tf.one_hot(train_labels, num_categories, on_value=1.0, off_value=0.0, dtype=tf.float32)\n",
        "\n",
        "train_queue1=tf.train.string_input_producer(['Records/train.meta'])\n",
        "_,serialized_train_set1=reader.read(train_queue1)\n",
        "train_features1=tf.parse_single_example(serialized_train_set1, features=fmt1)\n",
        "train_total=tf.cast(train_features1['size'],tf.int32)\n",
        "\n",
        "# read test set graph\n",
        "test_queue=tf.train.string_input_producer(['Records/test.tfrecords'])\n",
        "_,serialized_test_set=reader.read(test_queue)\n",
        "test_features=tf.parse_single_example(serialized_test_set,features=fmt)\n",
        "test_images=tf.decode_raw(test_features['image_raw'],tf.uint8)\n",
        "test_images=tf.reshape(test_images,[image_height,image_width,num_channels])\n",
        "test_labels=tf.cast(test_features['label'],tf.int32)\n",
        "test_labels=tf.one_hot(test_labels, num_categories, on_value=1.0, off_value=0.0, dtype=tf.float32)\n",
        "\n",
        "test_queue1=tf.train.string_input_producer(['Records/test.meta'])\n",
        "_,serialized_test_set1=reader.read(test_queue1)\n",
        "test_features1=tf.parse_single_example(serialized_test_set1,features=fmt1)\n",
        "test_total=tf.cast(test_features1['size'],tf.int32)\n",
        "\n",
        "sess=tf.Session()\n",
        "sess.run(tf.local_variables_initializer())\n",
        "coord=tf.train.Coordinator()\n",
        "threads=tf.train.start_queue_runners(sess=sess,coord=coord)\n",
        "train_total,test_total=sess.run([train_total,test_total])\n",
        "coord.request_stop()\n",
        "sess.close()\n",
        "\n",
        "tf.Variable(train_total, name='train_total')\n",
        "tf.Variable(test_total, name='test_total')\n",
        "\n",
        "# batch train set queue graph\n",
        "train_images_batch,train_label_batch=tf.train.shuffle_batch([train_images,train_labels],batch_size=batch_size,\n",
        "capacity=capacity,min_after_dequeue=min_after_dequeue, name='batchTrainData')\n",
        "\n",
        "# total test set queue graph\n",
        "test_images_batch,test_label_batch=tf.train.shuffle_batch([test_images,test_labels],batch_size=test_total,\n",
        "capacity=capacity,min_after_dequeue=min_after_dequeue, name='totalTestData')"
      ],
      "execution_count": 0,
      "outputs": []
    },
    {
      "metadata": {
        "id": "fLopZmdKGc-k",
        "colab_type": "code",
        "colab": {}
      },
      "cell_type": "code",
      "source": [
        "# Placeholders for images\n",
        "img_holder = tf.placeholder(tf.float32, [None, image_height, image_width,\n",
        "num_channels], name = 'img_holder')\n",
        "lbl_holder = tf.placeholder(tf.int8, [None, num_categories], name = 'lbl_holder')\n",
        "train = tf.placeholder(tf.bool, name = 'train_bool')"
      ],
      "execution_count": 0,
      "outputs": []
    },
    {
      "metadata": {
        "id": "Xds5-TaMPx1J",
        "colab_type": "code",
        "colab": {}
      },
      "cell_type": "code",
      "source": [
        "# Preprocess the image, Performs random transformations\n",
        "# Random flip left and right\n",
        "img_tensor_flip = tf.map_fn(lambda img: tf.image.random_flip_left_right(img), img_holder)\n",
        "# Random flip up and down \n",
        "img_tensor_flip1 = tf.map_fn(lambda img: tf.image.random_flip_up_down(img), img_tensor_flip)\n",
        "# Random brightness\n",
        "img_tensor_bri = tf.map_fn(lambda img: tf.image.random_brightness(img, max_delta=0.2), img_tensor_flip1)\n",
        "# Per-image scaling\n",
        "img_tensor_std = tf.map_fn(lambda img: tf.image.per_image_standardization(img), img_tensor_bri)"
      ],
      "execution_count": 0,
      "outputs": []
    },
    {
      "metadata": {
        "id": "FC6Yn9gPGc-o",
        "colab_type": "code",
        "colab": {
          "base_uri": "https://localhost:8080/",
          "height": 51
        },
        "outputId": "29c2fad9-c2b6-446b-dc0f-5ee8a32533b2"
      },
      "cell_type": "code",
      "source": [
        "# Create convolution/pooling layers\n",
        "conv1 = tf.layers.conv2d(img_tensor_std, num_filters1, filter_size, padding='same', \\\n",
        "activation=tf.nn.relu, name = 'conv1')\n",
        "print(np.shape(img_tensor_std))\n",
        "print(np.shape(conv1))"
      ],
      "execution_count": 8,
      "outputs": [
        {
          "output_type": "stream",
          "text": [
            "(?, 300, 370, 3)\n",
            "(?, 300, 370, 32)\n"
          ],
          "name": "stdout"
        }
      ]
    },
    {
      "metadata": {
        "id": "hILT35AmGc-v",
        "colab_type": "code",
        "colab": {
          "base_uri": "https://localhost:8080/",
          "height": 34
        },
        "outputId": "0d8c4aae-3789-42e7-b5e4-da1c9264636f"
      },
      "cell_type": "code",
      "source": [
        "pool1 = tf.layers.max_pooling2d(conv1, pooling_size, pooling_size, name = 'pool1')\n",
        "print(np.shape(pool1))"
      ],
      "execution_count": 9,
      "outputs": [
        {
          "output_type": "stream",
          "text": [
            "(?, 150, 185, 32)\n"
          ],
          "name": "stdout"
        }
      ]
    },
    {
      "metadata": {
        "id": "gXBCdNT4Gc-y",
        "colab_type": "code",
        "colab": {}
      },
      "cell_type": "code",
      "source": [
        "conv2 = tf.layers.conv2d(pool1, num_filters2, filter_size, padding='same',\n",
        "activation=tf.nn.relu, name = 'conv2')"
      ],
      "execution_count": 0,
      "outputs": []
    },
    {
      "metadata": {
        "id": "af_jYprGGc-4",
        "colab_type": "code",
        "colab": {
          "base_uri": "https://localhost:8080/",
          "height": 34
        },
        "outputId": "8166e513-7ece-44d6-826b-70bd9ae729a3"
      },
      "cell_type": "code",
      "source": [
        "pool2 = tf.layers.max_pooling2d(conv2, pooling_size, pooling_size, name = 'pool2')\n",
        "print(np.shape(pool2))"
      ],
      "execution_count": 11,
      "outputs": [
        {
          "output_type": "stream",
          "text": [
            "(?, 75, 92, 64)\n"
          ],
          "name": "stdout"
        }
      ]
    },
    {
      "metadata": {
        "id": "GkKANPaYGc-7",
        "colab_type": "code",
        "colab": {}
      },
      "cell_type": "code",
      "source": [
        "conv3 = tf.layers.conv2d(pool2, num_filters3, filter_size, padding='same',\n",
        "activation=tf.nn.relu, name = 'conv3')"
      ],
      "execution_count": 0,
      "outputs": []
    },
    {
      "metadata": {
        "id": "rb5tv6azGc--",
        "colab_type": "code",
        "colab": {
          "base_uri": "https://localhost:8080/",
          "height": 34
        },
        "outputId": "a8be58cc-a60a-4a2c-c162-9426648aa1b6"
      },
      "cell_type": "code",
      "source": [
        "pool3 = tf.layers.max_pooling2d(conv3, pooling_size, pooling_size, name = 'pool3')\n",
        "print(np.shape(pool3))"
      ],
      "execution_count": 13,
      "outputs": [
        {
          "output_type": "stream",
          "text": [
            "(?, 37, 46, 64)\n"
          ],
          "name": "stdout"
        }
      ]
    },
    {
      "metadata": {
        "id": "Oeqmx6_lGc_C",
        "colab_type": "code",
        "colab": {}
      },
      "cell_type": "code",
      "source": [
        "conv4 = tf.layers.conv2d(pool3, num_filters4, filter_size, padding='same',\n",
        "activation=tf.nn.relu, name = 'conv4')"
      ],
      "execution_count": 0,
      "outputs": []
    },
    {
      "metadata": {
        "id": "Teh4q6fDu7Yd",
        "colab_type": "code",
        "colab": {}
      },
      "cell_type": "code",
      "source": [
        "conv5 = tf.layers.conv2d(conv4, num_filters5, filter_size, padding='same',\n",
        "activation=tf.nn.relu, name = 'conv5')"
      ],
      "execution_count": 0,
      "outputs": []
    },
    {
      "metadata": {
        "id": "payynk9jmKcj",
        "colab_type": "code",
        "colab": {
          "base_uri": "https://localhost:8080/",
          "height": 34
        },
        "outputId": "0f3712a3-6982-4a41-dce9-134b55e65b64"
      },
      "cell_type": "code",
      "source": [
        "pool4 = tf.layers.max_pooling2d(conv5, pooling_size, pooling_size, name = 'pool4')\n",
        "print(np.shape(pool4))"
      ],
      "execution_count": 16,
      "outputs": [
        {
          "output_type": "stream",
          "text": [
            "(?, 18, 23, 256)\n"
          ],
          "name": "stdout"
        }
      ]
    },
    {
      "metadata": {
        "id": "b3E6VPEuvUxG",
        "colab_type": "code",
        "colab": {}
      },
      "cell_type": "code",
      "source": [
        "conv6 = tf.layers.conv2d(pool4, num_filters6, filter_size, padding='same',\n",
        "activation=tf.nn.relu, name = 'conv6')"
      ],
      "execution_count": 0,
      "outputs": []
    },
    {
      "metadata": {
        "id": "Dk9jbl9XvYy0",
        "colab_type": "code",
        "colab": {
          "base_uri": "https://localhost:8080/",
          "height": 34
        },
        "outputId": "cd41e814-2fd3-471e-ca32-5ce696d4f1ae"
      },
      "cell_type": "code",
      "source": [
        "pool5 = tf.layers.max_pooling2d(conv6, pooling_size, pooling_size, name = 'pool5')\n",
        "print(np.shape(pool5))"
      ],
      "execution_count": 18,
      "outputs": [
        {
          "output_type": "stream",
          "text": [
            "(?, 9, 11, 512)\n"
          ],
          "name": "stdout"
        }
      ]
    },
    {
      "metadata": {
        "id": "e-BVfCxTRUJ2",
        "colab_type": "code",
        "colab": {}
      },
      "cell_type": "code",
      "source": [
        "conv7 = tf.layers.conv2d(pool5, num_filters7, filter_size, padding='same',\n",
        "activation=tf.nn.relu, name = 'conv7')"
      ],
      "execution_count": 0,
      "outputs": []
    },
    {
      "metadata": {
        "id": "lCX_rkGsRUxI",
        "colab_type": "code",
        "colab": {
          "base_uri": "https://localhost:8080/",
          "height": 34
        },
        "outputId": "c47ca58e-4bd4-477a-e2bc-480a6a1cb7e5"
      },
      "cell_type": "code",
      "source": [
        "pool6 = tf.layers.average_pooling2d(conv7, 9, 11, name = 'pool6')\n",
        "print(np.shape(pool6))"
      ],
      "execution_count": 20,
      "outputs": [
        {
          "output_type": "stream",
          "text": [
            "(?, 1, 1, 1024)\n"
          ],
          "name": "stdout"
        }
      ]
    },
    {
      "metadata": {
        "id": "7HXR01AbGc_N",
        "colab_type": "code",
        "colab": {
          "base_uri": "https://localhost:8080/",
          "height": 34
        },
        "outputId": "9f91d74e-84c5-4f3e-c61c-cf74d9881199"
      },
      "cell_type": "code",
      "source": [
        "# Flatten input data\n",
        "flatten = tf.reshape(pool6, [-1, fully_connected_size], name = 'flatten')\n",
        "print(np.shape(flatten))"
      ],
      "execution_count": 21,
      "outputs": [
        {
          "output_type": "stream",
          "text": [
            "(?, 1024)\n"
          ],
          "name": "stdout"
        }
      ]
    },
    {
      "metadata": {
        "id": "lJ8HnWM6Gc_P",
        "colab_type": "code",
        "colab": {}
      },
      "cell_type": "code",
      "source": [
        "# Create connected layers\n",
        "with tf.contrib.framework.arg_scope(\n",
        "[tf.contrib.layers.fully_connected],\n",
        "normalizer_fn=tf.contrib.layers.batch_norm,\n",
        "normalizer_params={'is_training': train}):\n",
        "    fc1 = tf.contrib.layers.fully_connected(flatten, fully_connected_size, scope = 'fc1')\n",
        "    fc2 = tf.contrib.layers.fully_connected(fc1, num_categories,\n",
        "    activation_fn=None, scope = 'fc2')"
      ],
      "execution_count": 0,
      "outputs": []
    },
    {
      "metadata": {
        "id": "3GhZa8XPGc_S",
        "colab_type": "code",
        "colab": {
          "base_uri": "https://localhost:8080/",
          "height": 173
        },
        "outputId": "ec51fab2-2021-4228-b611-bd57e8609a40"
      },
      "cell_type": "code",
      "source": [
        "# Compute loss\n",
        "loss = tf.reduce_mean(\n",
        "tf.nn.softmax_cross_entropy_with_logits(\n",
        "logits=fc2, labels=lbl_holder), name = 'loss')"
      ],
      "execution_count": 23,
      "outputs": [
        {
          "output_type": "stream",
          "text": [
            "WARNING:tensorflow:From <ipython-input-23-5d7a5c5e4aa4>:3: softmax_cross_entropy_with_logits (from tensorflow.python.ops.nn_ops) is deprecated and will be removed in a future version.\n",
            "Instructions for updating:\n",
            "\n",
            "Future major versions of TensorFlow will allow gradients to flow\n",
            "into the labels input on backprop by default.\n",
            "\n",
            "See @{tf.nn.softmax_cross_entropy_with_logits_v2}.\n",
            "\n"
          ],
          "name": "stdout"
        }
      ]
    },
    {
      "metadata": {
        "id": "PsZi4MxAGc_W",
        "colab_type": "code",
        "colab": {}
      },
      "cell_type": "code",
      "source": [
        "# Create optimizer\n",
        "global_step = tf.Variable(0, name='global_step', trainable=False)\n",
        "optimizer = tf.train.AdamOptimizer(learning_rate).minimize(loss, name = 'optimizer', global_step = global_step)"
      ],
      "execution_count": 0,
      "outputs": []
    },
    {
      "metadata": {
        "id": "3guNjGGZVZRc",
        "colab_type": "code",
        "colab": {
          "base_uri": "https://localhost:8080/",
          "height": 2057
        },
        "outputId": "37222b21-3658-4787-d7e9-31e23f6ed102"
      },
      "cell_type": "code",
      "source": [
        "try:\n",
        "    test_images,test_labels = sess.run([test_images_batch, test_label_batch])\n",
        "    batch_i = 1\n",
        "    total_batch = 0\n",
        "    epoch = 1\n",
        "    start_time = time.time()\n",
        "    while not coord.should_stop():\n",
        "        imgs, labels = sess.run([train_images_batch, train_label_batch])\n",
        "        loss_val, accuracy_val, _, summary = sess.run([loss, accuracy, optimizer, merged_op],feed_dict={img_holder:imgs,lbl_holder:labels,train: True})\n",
        "        # Print the summary data\n",
        "        file_writer.add_summary(summary)\n",
        "        if batch_i % 100 == 0:\n",
        "            duration = time.time() - start_time\n",
        "            test_accuracy = sess.run(accuracy, feed_dict={img_holder:test_images,lbl_holder:test_labels,train: False})\n",
        "            print('epoch:', epoch, 'batch:', batch_i, 'loss:', loss_val, 'cur_accuracy:', accuracy_val, 'test_accuracy:', test_accuracy, \n",
        "                  'duration(100 steps): %.3fs' % duration)\n",
        "            file_writer.flush()\n",
        "            # save training result\n",
        "            saver.save(sess, os.path.join(chkp_dir, chkp_name))\n",
        "            start_time = time.time()\n",
        "        batch_i += 1\n",
        "        total_batch += batch_size\n",
        "        if total_batch >= train_total:\n",
        "            epoch += 1\n",
        "            total_batch = 0\n",
        "            batch_i = 1\n",
        "except tf.errors.OutOfRangeError:\n",
        "    print('Done.')\n",
        "except Exception as e:\n",
        "    coord.request_stop(e)\n",
        "finally:\n",
        "    coord.request_stop()\n",
        "coord.join(threads)"
      ],
      "execution_count": 27,
      "outputs": [
        {
          "output_type": "stream",
          "text": [
            "(369, 300, 370, 3) (369, 6)\n",
            "epoch: 1 batch: 100 loss: 1.8300765 cur_accuracy: 0.5 test_accuracy: 0.19512194 duration(100 steps): 17.352s\n",
            "epoch: 1 batch: 200 loss: 1.6042731 cur_accuracy: 0.4 test_accuracy: 0.15447155 duration(100 steps): 15.388s\n",
            "epoch: 1 batch: 300 loss: 1.5573158 cur_accuracy: 0.5 test_accuracy: 0.15718158 duration(100 steps): 15.520s\n",
            "epoch: 1 batch: 400 loss: 1.5483705 cur_accuracy: 0.3 test_accuracy: 0.19512194 duration(100 steps): 15.492s\n",
            "epoch: 1 batch: 500 loss: 1.4219602 cur_accuracy: 0.5 test_accuracy: 0.23306233 duration(100 steps): 15.611s\n",
            "epoch: 1 batch: 600 loss: 1.9219135 cur_accuracy: 0.0 test_accuracy: 0.14905149 duration(100 steps): 15.616s\n",
            "epoch: 1 batch: 700 loss: 1.4027654 cur_accuracy: 0.6 test_accuracy: 0.15447155 duration(100 steps): 15.648s\n",
            "epoch: 1 batch: 800 loss: 1.228614 cur_accuracy: 0.5 test_accuracy: 0.16531165 duration(100 steps): 15.727s\n",
            "epoch: 1 batch: 900 loss: 1.159055 cur_accuracy: 0.7 test_accuracy: 0.28184283 duration(100 steps): 15.671s\n",
            "epoch: 1 batch: 1000 loss: 1.3221213 cur_accuracy: 0.5 test_accuracy: 0.22764228 duration(100 steps): 15.573s\n",
            "epoch: 1 batch: 1100 loss: 1.3264638 cur_accuracy: 0.3 test_accuracy: 0.22222222 duration(100 steps): 15.386s\n",
            "epoch: 1 batch: 1200 loss: 0.9673527 cur_accuracy: 0.7 test_accuracy: 0.3197832 duration(100 steps): 15.542s\n",
            "epoch: 2 batch: 100 loss: 1.0089331 cur_accuracy: 0.7 test_accuracy: 0.3089431 duration(100 steps): 15.554s\n",
            "epoch: 2 batch: 200 loss: 1.0885147 cur_accuracy: 0.7 test_accuracy: 0.21138212 duration(100 steps): 15.589s\n",
            "epoch: 2 batch: 300 loss: 1.2757585 cur_accuracy: 0.6 test_accuracy: 0.20867209 duration(100 steps): 15.432s\n",
            "epoch: 2 batch: 400 loss: 1.4772726 cur_accuracy: 0.2 test_accuracy: 0.19783197 duration(100 steps): 15.492s\n",
            "epoch: 2 batch: 500 loss: 1.4207337 cur_accuracy: 0.5 test_accuracy: 0.34417343 duration(100 steps): 15.603s\n",
            "epoch: 2 batch: 600 loss: 0.8011652 cur_accuracy: 0.9 test_accuracy: 0.30081302 duration(100 steps): 15.616s\n",
            "epoch: 2 batch: 700 loss: 0.8221682 cur_accuracy: 0.8 test_accuracy: 0.26287264 duration(100 steps): 15.626s\n",
            "epoch: 2 batch: 800 loss: 0.9297285 cur_accuracy: 0.6 test_accuracy: 0.43089432 duration(100 steps): 15.627s\n",
            "epoch: 2 batch: 900 loss: 0.9924551 cur_accuracy: 0.6 test_accuracy: 0.22493225 duration(100 steps): 15.564s\n",
            "epoch: 2 batch: 1000 loss: 1.221956 cur_accuracy: 0.4 test_accuracy: 0.28184283 duration(100 steps): 15.608s\n",
            "epoch: 2 batch: 1100 loss: 0.8579626 cur_accuracy: 0.6 test_accuracy: 0.45528457 duration(100 steps): 15.448s\n",
            "epoch: 2 batch: 1200 loss: 1.0130936 cur_accuracy: 0.7 test_accuracy: 0.4688347 duration(100 steps): 15.389s\n",
            "epoch: 3 batch: 100 loss: 1.1122704 cur_accuracy: 0.6 test_accuracy: 0.32249323 duration(100 steps): 15.442s\n",
            "epoch: 3 batch: 200 loss: 1.224424 cur_accuracy: 0.5 test_accuracy: 0.44444445 duration(100 steps): 15.422s\n",
            "epoch: 3 batch: 300 loss: 0.93676776 cur_accuracy: 0.9 test_accuracy: 0.5121951 duration(100 steps): 15.357s\n",
            "epoch: 3 batch: 400 loss: 0.80333984 cur_accuracy: 0.7 test_accuracy: 0.43089432 duration(100 steps): 15.442s\n",
            "epoch: 3 batch: 500 loss: 1.5006015 cur_accuracy: 0.5 test_accuracy: 0.401084 duration(100 steps): 15.559s\n",
            "epoch: 3 batch: 600 loss: 0.99065626 cur_accuracy: 0.8 test_accuracy: 0.34146342 duration(100 steps): 15.436s\n",
            "epoch: 3 batch: 700 loss: 1.101463 cur_accuracy: 0.5 test_accuracy: 0.44444445 duration(100 steps): 15.387s\n",
            "epoch: 3 batch: 800 loss: 0.9762243 cur_accuracy: 0.7 test_accuracy: 0.43631437 duration(100 steps): 15.393s\n",
            "epoch: 3 batch: 900 loss: 0.8584248 cur_accuracy: 0.8 test_accuracy: 0.46341464 duration(100 steps): 15.354s\n",
            "epoch: 3 batch: 1000 loss: 1.0934244 cur_accuracy: 0.6 test_accuracy: 0.34417343 duration(100 steps): 15.346s\n",
            "epoch: 3 batch: 1100 loss: 0.6942961 cur_accuracy: 0.9 test_accuracy: 0.38753387 duration(100 steps): 15.391s\n",
            "epoch: 3 batch: 1200 loss: 0.7949677 cur_accuracy: 0.7 test_accuracy: 0.398374 duration(100 steps): 15.338s\n",
            "epoch: 4 batch: 100 loss: 0.96400154 cur_accuracy: 0.6 test_accuracy: 0.5067751 duration(100 steps): 15.361s\n",
            "epoch: 4 batch: 200 loss: 0.7487027 cur_accuracy: 0.8 test_accuracy: 0.42818427 duration(100 steps): 15.430s\n",
            "epoch: 4 batch: 300 loss: 0.67787087 cur_accuracy: 0.8 test_accuracy: 0.44715446 duration(100 steps): 15.375s\n",
            "epoch: 4 batch: 400 loss: 0.8560211 cur_accuracy: 0.6 test_accuracy: 0.42276424 duration(100 steps): 15.410s\n",
            "epoch: 4 batch: 500 loss: 0.60440207 cur_accuracy: 0.8 test_accuracy: 0.3604336 duration(100 steps): 15.396s\n",
            "epoch: 4 batch: 600 loss: 0.79935753 cur_accuracy: 0.7 test_accuracy: 0.36856368 duration(100 steps): 15.382s\n"
          ],
          "name": "stdout"
        },
        {
          "output_type": "stream",
          "text": [
            "epoch: 4 batch: 700 loss: 0.8650816 cur_accuracy: 0.8 test_accuracy: 0.35501355 duration(100 steps): 15.380s\n",
            "epoch: 4 batch: 800 loss: 0.8808813 cur_accuracy: 0.7 test_accuracy: 0.44715446 duration(100 steps): 15.360s\n",
            "epoch: 4 batch: 900 loss: 0.9033467 cur_accuracy: 0.7 test_accuracy: 0.50406504 duration(100 steps): 15.375s\n",
            "epoch: 4 batch: 1000 loss: 0.71730304 cur_accuracy: 0.8 test_accuracy: 0.35230353 duration(100 steps): 15.419s\n",
            "epoch: 4 batch: 1100 loss: 0.8668439 cur_accuracy: 0.8 test_accuracy: 0.2303523 duration(100 steps): 15.362s\n",
            "epoch: 4 batch: 1200 loss: 0.68243074 cur_accuracy: 0.8 test_accuracy: 0.57723576 duration(100 steps): 15.385s\n",
            "epoch: 5 batch: 100 loss: 0.89763737 cur_accuracy: 0.6 test_accuracy: 0.5718157 duration(100 steps): 15.419s\n",
            "epoch: 5 batch: 200 loss: 0.64030135 cur_accuracy: 0.9 test_accuracy: 0.4715447 duration(100 steps): 15.404s\n",
            "epoch: 5 batch: 300 loss: 0.8852603 cur_accuracy: 0.6 test_accuracy: 0.36585367 duration(100 steps): 15.393s\n",
            "epoch: 5 batch: 400 loss: 0.6471665 cur_accuracy: 0.8 test_accuracy: 0.401084 duration(100 steps): 15.467s\n",
            "epoch: 5 batch: 500 loss: 0.47179303 cur_accuracy: 1.0 test_accuracy: 0.41463414 duration(100 steps): 15.380s\n",
            "epoch: 5 batch: 600 loss: 0.8959564 cur_accuracy: 0.8 test_accuracy: 0.6287263 duration(100 steps): 15.414s\n",
            "epoch: 5 batch: 700 loss: 0.7188424 cur_accuracy: 0.8 test_accuracy: 0.4498645 duration(100 steps): 15.368s\n",
            "epoch: 5 batch: 800 loss: 0.81955165 cur_accuracy: 0.7 test_accuracy: 0.4607046 duration(100 steps): 15.406s\n",
            "epoch: 5 batch: 900 loss: 0.8007625 cur_accuracy: 0.9 test_accuracy: 0.6422764 duration(100 steps): 15.433s\n",
            "epoch: 5 batch: 1000 loss: 0.76555204 cur_accuracy: 0.8 test_accuracy: 0.40379405 duration(100 steps): 15.522s\n",
            "epoch: 5 batch: 1100 loss: 0.89383376 cur_accuracy: 0.9 test_accuracy: 0.5392954 duration(100 steps): 15.624s\n",
            "epoch: 5 batch: 1200 loss: 0.90975666 cur_accuracy: 0.6 test_accuracy: 0.62059623 duration(100 steps): 15.573s\n",
            "epoch: 6 batch: 100 loss: 0.72417456 cur_accuracy: 0.9 test_accuracy: 0.54742545 duration(100 steps): 15.393s\n",
            "epoch: 6 batch: 200 loss: 0.65685964 cur_accuracy: 0.9 test_accuracy: 0.5392954 duration(100 steps): 15.455s\n",
            "epoch: 6 batch: 300 loss: 0.7092371 cur_accuracy: 0.8 test_accuracy: 0.32249323 duration(100 steps): 15.425s\n",
            "epoch: 6 batch: 400 loss: 0.55497754 cur_accuracy: 0.9 test_accuracy: 0.35501355 duration(100 steps): 15.413s\n",
            "epoch: 6 batch: 500 loss: 0.83781636 cur_accuracy: 0.7 test_accuracy: 0.33604336 duration(100 steps): 15.434s\n",
            "epoch: 6 batch: 600 loss: 0.674769 cur_accuracy: 0.8 test_accuracy: 0.2872629 duration(100 steps): 15.399s\n",
            "epoch: 6 batch: 700 loss: 0.792899 cur_accuracy: 0.8 test_accuracy: 0.41463414 duration(100 steps): 15.363s\n",
            "epoch: 6 batch: 800 loss: 0.5191889 cur_accuracy: 0.9 test_accuracy: 0.32249323 duration(100 steps): 15.392s\n",
            "epoch: 6 batch: 900 loss: 0.7658265 cur_accuracy: 0.8 test_accuracy: 0.50406504 duration(100 steps): 15.403s\n",
            "epoch: 6 batch: 1000 loss: 0.8541929 cur_accuracy: 0.8 test_accuracy: 0.30623305 duration(100 steps): 15.379s\n",
            "epoch: 6 batch: 1100 loss: 0.5910891 cur_accuracy: 0.9 test_accuracy: 0.2303523 duration(100 steps): 15.350s\n",
            "epoch: 6 batch: 1200 loss: 0.4347187 cur_accuracy: 1.0 test_accuracy: 0.35501355 duration(100 steps): 15.369s\n",
            "epoch: 7 batch: 100 loss: 0.59322125 cur_accuracy: 0.8 test_accuracy: 0.47696477 duration(100 steps): 15.301s\n",
            "epoch: 7 batch: 200 loss: 0.6884528 cur_accuracy: 0.9 test_accuracy: 0.6422764 duration(100 steps): 15.528s\n",
            "epoch: 7 batch: 300 loss: 0.790883 cur_accuracy: 0.7 test_accuracy: 0.24119242 duration(100 steps): 15.375s\n",
            "epoch: 7 batch: 400 loss: 0.58721197 cur_accuracy: 0.9 test_accuracy: 0.3089431 duration(100 steps): 15.328s\n",
            "epoch: 7 batch: 500 loss: 0.6819111 cur_accuracy: 0.9 test_accuracy: 0.27913278 duration(100 steps): 15.350s\n",
            "epoch: 7 batch: 600 loss: 0.817623 cur_accuracy: 0.9 test_accuracy: 0.54742545 duration(100 steps): 15.434s\n",
            "epoch: 7 batch: 700 loss: 0.7378481 cur_accuracy: 0.8 test_accuracy: 0.43089432 duration(100 steps): 15.435s\n",
            "epoch: 7 batch: 800 loss: 0.7128004 cur_accuracy: 0.9 test_accuracy: 0.5257453 duration(100 steps): 15.383s\n",
            "epoch: 7 batch: 900 loss: 0.72455275 cur_accuracy: 0.8 test_accuracy: 0.31436315 duration(100 steps): 15.351s\n",
            "epoch: 7 batch: 1000 loss: 0.51143825 cur_accuracy: 0.9 test_accuracy: 0.3495935 duration(100 steps): 15.409s\n",
            "epoch: 7 batch: 1100 loss: 0.7305604 cur_accuracy: 0.8 test_accuracy: 0.3794038 duration(100 steps): 15.333s\n",
            "epoch: 7 batch: 1200 loss: 0.47590423 cur_accuracy: 1.0 test_accuracy: 0.398374 duration(100 steps): 15.379s\n"
          ],
          "name": "stdout"
        },
        {
          "output_type": "stream",
          "text": [
            "epoch: 8 batch: 100 loss: 0.6790062 cur_accuracy: 0.8 test_accuracy: 0.3794038 duration(100 steps): 15.412s\n",
            "epoch: 8 batch: 200 loss: 0.84304506 cur_accuracy: 0.8 test_accuracy: 0.31707317 duration(100 steps): 15.323s\n",
            "epoch: 8 batch: 300 loss: 0.5170489 cur_accuracy: 0.9 test_accuracy: 0.28455284 duration(100 steps): 15.334s\n",
            "epoch: 8 batch: 400 loss: 0.5358803 cur_accuracy: 1.0 test_accuracy: 0.45799458 duration(100 steps): 15.361s\n",
            "epoch: 8 batch: 500 loss: 0.5712854 cur_accuracy: 0.9 test_accuracy: 0.200542 duration(100 steps): 15.303s\n",
            "epoch: 8 batch: 600 loss: 0.6469343 cur_accuracy: 0.9 test_accuracy: 0.51490515 duration(100 steps): 15.365s\n",
            "epoch: 8 batch: 700 loss: 0.5368571 cur_accuracy: 0.9 test_accuracy: 0.51490515 duration(100 steps): 15.352s\n",
            "epoch: 8 batch: 800 loss: 1.0905441 cur_accuracy: 0.8 test_accuracy: 0.40921408 duration(100 steps): 15.327s\n",
            "epoch: 8 batch: 900 loss: 0.57319784 cur_accuracy: 1.0 test_accuracy: 0.54742545 duration(100 steps): 15.340s\n",
            "epoch: 8 batch: 1000 loss: 0.8392717 cur_accuracy: 0.8 test_accuracy: 0.59620595 duration(100 steps): 15.367s\n",
            "epoch: 8 batch: 1100 loss: 0.43502632 cur_accuracy: 1.0 test_accuracy: 0.63414633 duration(100 steps): 15.363s\n",
            "epoch: 8 batch: 1200 loss: 0.37423825 cur_accuracy: 1.0 test_accuracy: 0.5799458 duration(100 steps): 15.286s\n",
            "epoch: 9 batch: 100 loss: 0.45180392 cur_accuracy: 1.0 test_accuracy: 0.44444445 duration(100 steps): 15.502s\n",
            "epoch: 9 batch: 200 loss: 0.7457759 cur_accuracy: 0.9 test_accuracy: 0.5365854 duration(100 steps): 15.481s\n",
            "epoch: 9 batch: 300 loss: 0.6849945 cur_accuracy: 0.9 test_accuracy: 0.30623305 duration(100 steps): 15.438s\n",
            "epoch: 9 batch: 400 loss: 0.6811385 cur_accuracy: 0.7 test_accuracy: 0.2710027 duration(100 steps): 15.355s\n",
            "epoch: 9 batch: 500 loss: 0.4844726 cur_accuracy: 1.0 test_accuracy: 0.38482386 duration(100 steps): 15.442s\n",
            "epoch: 9 batch: 600 loss: 0.45332995 cur_accuracy: 1.0 test_accuracy: 0.42276424 duration(100 steps): 15.348s\n",
            "epoch: 9 batch: 700 loss: 0.55605334 cur_accuracy: 0.9 test_accuracy: 0.58265585 duration(100 steps): 15.364s\n",
            "epoch: 9 batch: 800 loss: 0.36251554 cur_accuracy: 1.0 test_accuracy: 0.50948507 duration(100 steps): 15.369s\n",
            "epoch: 9 batch: 900 loss: 0.8905573 cur_accuracy: 0.7 test_accuracy: 0.43631437 duration(100 steps): 15.327s\n",
            "epoch: 9 batch: 1000 loss: 0.45268822 cur_accuracy: 1.0 test_accuracy: 0.49322492 duration(100 steps): 15.317s\n",
            "epoch: 9 batch: 1100 loss: 0.60253227 cur_accuracy: 0.9 test_accuracy: 0.58536583 duration(100 steps): 15.354s\n",
            "epoch: 9 batch: 1200 loss: 0.44837618 cur_accuracy: 1.0 test_accuracy: 0.5230352 duration(100 steps): 15.336s\n",
            "epoch: 10 batch: 100 loss: 0.77112734 cur_accuracy: 0.9 test_accuracy: 0.32249323 duration(100 steps): 15.313s\n",
            "epoch: 10 batch: 200 loss: 0.8222312 cur_accuracy: 0.9 test_accuracy: 0.74525744 duration(100 steps): 15.548s\n",
            "epoch: 10 batch: 300 loss: 0.7461182 cur_accuracy: 0.9 test_accuracy: 0.24932249 duration(100 steps): 15.460s\n",
            "epoch: 10 batch: 400 loss: 0.66068584 cur_accuracy: 0.9 test_accuracy: 0.5392954 duration(100 steps): 15.298s\n",
            "epoch: 10 batch: 500 loss: 0.78698945 cur_accuracy: 0.8 test_accuracy: 0.69376695 duration(100 steps): 15.355s\n",
            "epoch: 10 batch: 600 loss: 0.7720106 cur_accuracy: 0.8 test_accuracy: 0.5609756 duration(100 steps): 15.300s\n",
            "epoch: 10 batch: 700 loss: 0.5318587 cur_accuracy: 1.0 test_accuracy: 0.70731705 duration(100 steps): 15.360s\n",
            "epoch: 10 batch: 800 loss: 0.46031666 cur_accuracy: 1.0 test_accuracy: 0.51490515 duration(100 steps): 15.312s\n",
            "epoch: 10 batch: 900 loss: 0.7078074 cur_accuracy: 0.9 test_accuracy: 0.48509485 duration(100 steps): 15.343s\n",
            "epoch: 10 batch: 1000 loss: 0.5431111 cur_accuracy: 1.0 test_accuracy: 0.32791328 duration(100 steps): 15.278s\n",
            "Done.\n"
          ],
          "name": "stdout"
        }
      ]
    },
    {
      "metadata": {
        "id": "nGSCQlz_Gc_Z",
        "colab_type": "code",
        "colab": {}
      },
      "cell_type": "code",
      "source": [
        "# Determine success rate\n",
        "prediction = tf.argmax(fc2, 1, name = 'prediction')\n",
        "correct_pred = tf.equal(prediction, tf.argmax(lbl_holder, 1), name = 'correct_pred')\n",
        "accuracy = tf.reduce_mean(tf.cast(correct_pred, tf.float32), name = 'accuracy')\n",
        "# probabilities of each class\n",
        "probabilities = tf.nn.softmax(fc2, name='probabilities')\n",
        "# tensorboard\n",
        "summary_loss=tf.summary.scalar('loss', loss)\n",
        "summary_accuracy=tf.summary.scalar('accuracy', accuracy)\n",
        "merged_op = tf.summary.merge([summary_loss, summary_accuracy])\n",
        "# Create FileWriter\n",
        "file_writer = tf.summary.FileWriter(log_dir, graph=tf.get_default_graph())"
      ],
      "execution_count": 0,
      "outputs": []
    },
    {
      "metadata": {
        "id": "FcSbtSUKGc_b",
        "colab_type": "code",
        "colab": {}
      },
      "cell_type": "code",
      "source": [
        "# session and variable initialize\n",
        "sess=tf.Session()\n",
        "sess.run(tf.global_variables_initializer())\n",
        "sess.run(tf.local_variables_initializer())\n",
        "coord=tf.train.Coordinator()\n",
        "threads=tf.train.start_queue_runners(sess=sess,coord=coord)\n",
        "# saver for storing training result\n",
        "saver = tf.train.Saver()"
      ],
      "execution_count": 0,
      "outputs": []
    },
    {
      "metadata": {
        "id": "t3idfhXwRpM9",
        "colab_type": "code",
        "colab": {}
      },
      "cell_type": "code",
      "source": [
        "sess.close()"
      ],
      "execution_count": 0,
      "outputs": []
    },
    {
      "metadata": {
        "id": "OSEdoLfqGdAV",
        "colab_type": "code",
        "colab": {
          "base_uri": "https://localhost:8080/",
          "height": 34
        },
        "outputId": "6fe105c5-a9f7-4866-d7d4-b2192011b9da"
      },
      "cell_type": "code",
      "source": [
        "# restore checkpoint\n",
        "sessRes = tf.Session()\n",
        "saver = tf.train.import_meta_graph(os.path.join(chkp_dir, 'model.meta'))\n",
        "saver.restore(sessRes, tf.train.latest_checkpoint(chkp_dir))"
      ],
      "execution_count": 29,
      "outputs": [
        {
          "output_type": "stream",
          "text": [
            "INFO:tensorflow:Restoring parameters from checkpoints/cnnGesture/model\n"
          ],
          "name": "stdout"
        }
      ]
    },
    {
      "metadata": {
        "id": "SqvCis4YHpSX",
        "colab_type": "code",
        "colab": {}
      },
      "cell_type": "code",
      "source": [
        "# test data prediction randomly\n",
        "img_holder = sessRes.graph.get_tensor_by_name('img_holder:0')\n",
        "lbl_holder =sessRes.graph.get_tensor_by_name('lbl_holder:0')\n",
        "predict=tf.get_default_graph().get_tensor_by_name('prediction:0')\n",
        "accuracy=tf.get_default_graph().get_tensor_by_name('accuracy:0')\n",
        "train = sessRes.graph.get_tensor_by_name('train_bool:0')\n",
        "test_total = sessRes.run('test_total:0')"
      ],
      "execution_count": 0,
      "outputs": []
    },
    {
      "metadata": {
        "id": "u1LGYolfIZSd",
        "colab_type": "code",
        "colab": {
          "base_uri": "https://localhost:8080/",
          "height": 34
        },
        "outputId": "32e841ea-2b26-47ea-ce52-bdd0a3fa0b07"
      },
      "cell_type": "code",
      "source": [
        "# session to exexute queuing\n",
        "# restore checkpoint\n",
        "sess4Q = tf.Session()\n",
        "saver4Q = tf.train.import_meta_graph(os.path.join(chkp_dir, 'model.meta'))\n",
        "saver4Q.restore(sess4Q, tf.train.latest_checkpoint(chkp_dir))\n",
        "sess4Q.run(tf.global_variables_initializer())\n",
        "sess4Q.run(tf.local_variables_initializer())\n",
        "coord=tf.train.Coordinator()\n",
        "threads=tf.train.start_queue_runners(sess=sess4Q,coord=coord)\n",
        "# batchTrainData = sess4Q.graph.get_tensor_by_name('batchTrainData:0')\n",
        "# batchTrainLabel = sess4Q.graph.get_tensor_by_name('batchTrainData:1')\n",
        "totalTestData = sess4Q.graph.get_tensor_by_name('totalTestData:0')\n",
        "totalTestLabel = sess4Q.graph.get_tensor_by_name('totalTestData:1')\n",
        "images,labels = sess4Q.run([totalTestData,totalTestLabel])\n",
        "# reason stop here is we use queue to get test set within one time 'coz we are only tesing training result here. \n",
        "coord.request_stop()\n",
        "sess4Q.close()"
      ],
      "execution_count": 31,
      "outputs": [
        {
          "output_type": "stream",
          "text": [
            "INFO:tensorflow:Restoring parameters from checkpoints/cnnGesture/model\n"
          ],
          "name": "stdout"
        }
      ]
    },
    {
      "metadata": {
        "id": "xG409xEyGdAW",
        "colab_type": "code",
        "colab": {
          "base_uri": "https://localhost:8080/",
          "height": 128
        },
        "outputId": "2540a77c-8228-495e-bb20-6fa54c9184f5"
      },
      "cell_type": "code",
      "source": [
        "begin = random.randrange(0, test_total-10)\n",
        "end = begin + 10\n",
        "print(begin, end)\n",
        "res, accuracy_val = sessRes.run([predict, accuracy], feed_dict = {img_holder: images[begin:end], lbl_holder:labels[begin:end], train: False})\n",
        "titles = [str(np.argmax(labels[i])) + '->' + str(res[i-begin]) for i in range(begin, end)] \n",
        "plotImg(images[begin:end], titles)\n",
        "print('Accuracy:', accuracy_val)"
      ],
      "execution_count": 32,
      "outputs": [
        {
          "output_type": "stream",
          "text": [
            "345 355\n"
          ],
          "name": "stdout"
        },
        {
          "output_type": "display_data",
          "data": {
            "image/png": "[encoded data removed]",
            "text/plain": [
              "<matplotlib.figure.Figure at 0x7f8bc09b2208>"
            ]
          },
          "metadata": {
            "tags": []
          }
        },
        {
          "output_type": "stream",
          "text": [
            "Accuracy: 0.1\n"
          ],
          "name": "stdout"
        }
      ]
    },
    {
      "metadata": {
        "id": "QKzVBejXTsYG",
        "colab_type": "code",
        "colab": {}
      },
      "cell_type": "code",
      "source": [
        "sessRes.close()"
      ],
      "execution_count": 0,
      "outputs": []
    },
    {
      "metadata": {
        "id": "STIvxtMuGdAc",
        "colab_type": "code",
        "colab": {}
      },
      "cell_type": "code",
      "source": [
        "# # memory footprint support libraries/code\n",
        "# !ln -sf /opt/bin/nvidia-smi /usr/bin/nvidia-smi\n",
        "# !pip install gputil\n",
        "# !pip install psutil\n",
        "# !pip install humanize\n",
        "# import psutil\n",
        "# import humanize\n",
        "# import os\n",
        "# import GPUtil as GPU\n",
        "# GPUs = GPU.getGPUs()\n",
        "# # XXX: only one GPU on Colab and isn’t guaranteed\n",
        "# gpu = GPUs[0]\n",
        "# def printm():\n",
        "#  process = psutil.Process(os.getpid())\n",
        "#  print(\"Gen RAM Free: \" + humanize.naturalsize( psutil.virtual_memory().available ), \" I Proc size: \" + humanize.naturalsize( process.memory_info().rss))\n",
        "#  print(\"GPU RAM Free: {0:.0f}MB | Used: {1:.0f}MB | Util {2:3.0f}% | Total {3:.0f}MB\".format(gpu.memoryFree, gpu.memoryUsed, gpu.memoryUtil*100, gpu.memoryTotal))\n",
        "# printm()"
      ],
      "execution_count": 0,
      "outputs": []
    },
    {
      "metadata": {
        "id": "VNY_y6KMNlrf",
        "colab_type": "code",
        "colab": {
          "base_uri": "https://localhost:8080/",
          "height": 153
        },
        "outputId": "4dace42d-5c48-4b24-e88b-708f29427d6e"
      },
      "cell_type": "code",
      "source": [
        "#------------------------------------------------\n",
        "#    Replace google drive trained model with new one\n",
        "#------------------------------------------------\n",
        "!rm -rf Hybrid7.zip\n",
        "!zip -r Hybrid7.zip checkpoints\n",
        "# Install the PyDrive wrapper & import libraries.\n",
        "# This only needs to be done once in a notebook.\n",
        "!pip install -U -q PyDrive\n",
        "from pydrive.auth import GoogleAuth\n",
        "from pydrive.drive import GoogleDrive\n",
        "from google.colab import auth\n",
        "from oauth2client.client import GoogleCredentials\n",
        "\n",
        "# Authenticate and create the PyDrive client.\n",
        "# This only needs to be done once in a notebook.\n",
        "auth.authenticate_user()\n",
        "gauth = GoogleAuth()\n",
        "gauth.credentials = GoogleCredentials.get_application_default()\n",
        "drive = GoogleDrive(gauth)\n",
        "\n",
        "file_list = drive.ListFile(\n",
        "    {'q': \"'19lVhhib3mhWMW_eQsFFoOQLVsmfN6SB3' in parents\"}).GetList()\n",
        "\n",
        "for f in file_list:\n",
        "  # delete old one\n",
        "  fname = f['title']\n",
        "  print('Deleting', fname)\n",
        "  f.Delete()\n",
        "file_metadata = {'title': 'Hybrid7.zip', \"parents\": [{\"id\": '19lVhhib3mhWMW_eQsFFoOQLVsmfN6SB3', \"kind\": \"drive#childList\"}]}\n",
        "# Create & upload a file.\n",
        "uploaded = drive.CreateFile(file_metadata)\n",
        "uploaded.SetContentFile('Hybrid7.zip')\n",
        "uploaded.Upload()\n",
        "print('Uploaded file with ID {}'.format(uploaded.get('id')))"
      ],
      "execution_count": 35,
      "outputs": [
        {
          "output_type": "stream",
          "text": [
            "  adding: checkpoints/ (stored 0%)\r\n",
            "  adding: checkpoints/cnnGesture/ (stored 0%)\r\n",
            "  adding: checkpoints/cnnGesture/checkpoint (deflated 39%)\n",
            "  adding: checkpoints/cnnGesture/model.data-00000-of-00001 (deflated 15%)\n",
            "  adding: checkpoints/cnnGesture/model.index (deflated 50%)\n",
            "  adding: checkpoints/cnnGesture/model.meta (deflated 88%)\n",
            "Deleting Hybrid7.zip\n",
            "Uploaded file with ID 1zjWkRqTlzcAoxjw6M5qRz4gd8YPkC9OV\n"
          ],
          "name": "stdout"
        }
      ]
    },
    {
      "metadata": {
        "id": "LAGbyy4ltk56",
        "colab_type": "code",
        "colab": {}
      },
      "cell_type": "code",
      "source": [
        ""
      ],
      "execution_count": 0,
      "outputs": []
    }
  ]
}