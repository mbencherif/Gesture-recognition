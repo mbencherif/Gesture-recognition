{
  "nbformat": 4,
  "nbformat_minor": 0,
  "metadata": {
    "colab": {
      "name": "Hybrid7Init6clsQ.ipynb",
      "version": "0.3.2",
      "provenance": [],
      "collapsed_sections": [],
      "include_colab_link": true
    },
    "kernelspec": {
      "display_name": "Python 3",
      "language": "python",
      "name": "python3"
    },
    "accelerator": "GPU"
  },
  "cells": [
    {
      "cell_type": "markdown",
      "metadata": {
        "id": "view-in-github",
        "colab_type": "text"
      },
      "source": [
        "[View in Colaboratory](https://colab.research.google.com/github/mingweihe/HandGestureRecognition/blob/master/Hybrid7Init6clsQ.ipynb)"
      ]
    },
    {
      "metadata": {
        "id": "M8h00KEOGc-P",
        "colab_type": "code",
        "colab": {}
      },
      "cell_type": "code",
      "source": [
        "import tensorflow as tf\n",
        "import numpy as np\n",
        "import random\n",
        "import matplotlib.pyplot as plt\n",
        "import time\n",
        "import os"
      ],
      "execution_count": 0,
      "outputs": []
    },
    {
      "metadata": {
        "id": "lReNlvi6VZQV",
        "colab_type": "code",
        "colab": {}
      },
      "cell_type": "code",
      "source": [
        "# Set parameters\n",
        "image_height = 300\n",
        "image_width = 370\n",
        "num_channels = 3\n",
        "num_categories = 6\n",
        "num_filters1 = 32\n",
        "num_filters2 = 64\n",
        "num_filters3 = 64\n",
        "num_filters4 = 128\n",
        "num_filters5 = 256\n",
        "num_filters6 = 512\n",
        "num_filters7 = 1024\n",
        "filter_size = 3\n",
        "num_epochs = 100\n",
        "batch_size = 10\n",
        "pooling_size = 2\n",
        "fully_connected_size = 1024\n",
        "log_dir = os.path.join('log', 'cnnGesture')\n",
        "chkp_dir = os.path.join('checkpoints', 'cnnGesture')\n",
        "chkp_name = 'model'\n",
        "learning_rate = 5e-4\n",
        "min_after_dequeue = 1000\n",
        "capacity=min_after_dequeue+3*batch_size"
      ],
      "execution_count": 0,
      "outputs": []
    },
    {
      "metadata": {
        "id": "6efJF9O-kmzf",
        "colab_type": "code",
        "colab": {}
      },
      "cell_type": "code",
      "source": [
        "tf.Variable(num_epochs, name='num_epochs')\n",
        "tf.Variable(batch_size, name='batch_size')\n",
        "tf.Variable(log_dir, name='log_dir')"
      ],
      "execution_count": 0,
      "outputs": []
    },
    {
      "metadata": {
        "id": "WtYcPcn7VZQY",
        "colab_type": "code",
        "colab": {}
      },
      "cell_type": "code",
      "source": [
        "# images plotting function\n",
        "def plotImg(imgs, titles = None):\n",
        "    fig = plt.figure()\n",
        "    for i in range(len(imgs)):\n",
        "        ax = fig.add_subplot(1, len(imgs), i + 1)\n",
        "        if titles != None:\n",
        "            ax.title.set_text(titles[i])\n",
        "        plt.imshow(imgs[i])\n",
        "        plt.axis('off')\n",
        "    plt.show()"
      ],
      "execution_count": 0,
      "outputs": []
    },
    {
      "metadata": {
        "id": "Tn77Tbr4VZQZ",
        "colab_type": "code",
        "colab": {}
      },
      "cell_type": "code",
      "source": [
        "trainSetReader=tf.TFRecordReader()\n",
        "testSetReader=tf.TFRecordReader()\n",
        "fmt = {'image_raw':tf.FixedLenFeature([],tf.string), 'label':tf.FixedLenFeature([],tf.int64)}\n",
        "fmt1 = {'size':tf.FixedLenFeature([],tf.int64)}\n",
        "# read train set graph\n",
        "train_queue=tf.train.string_input_producer(['Records/train.tfrecords'], num_epochs=num_epochs, shuffle=True, name='train_queue')   \n",
        "_,serialized_train_set=trainSetReader.read(train_queue)\n",
        "train_features=tf.parse_single_example(serialized_train_set, features=fmt)\n",
        "train_images=tf.decode_raw(train_features['image_raw'],tf.uint8)\n",
        "train_images=tf.reshape(train_images,[image_height,image_width,num_channels])\n",
        "train_labels=tf.cast(train_features['label'],tf.int32)\n",
        "train_labels=tf.one_hot(train_labels, num_categories, on_value=1.0, off_value=0.0, dtype=tf.float32)\n",
        "\n",
        "train_queue1=tf.train.string_input_producer(['Records/train.meta'])\n",
        "_,serialized_train_set1=trainSetReader.read(train_queue1)\n",
        "train_features1=tf.parse_single_example(serialized_train_set1, features=fmt1)\n",
        "train_total=tf.cast(train_features1['size'],tf.int32)\n",
        "\n",
        "# read test set graph\n",
        "test_queue=tf.train.string_input_producer(['Records/test.tfrecords'])\n",
        "_,serialized_test_set=testSetReader.read(test_queue)\n",
        "test_features=tf.parse_single_example(serialized_test_set,features=fmt)\n",
        "test_images=tf.decode_raw(test_features['image_raw'],tf.uint8)\n",
        "test_images=tf.reshape(test_images,[image_height,image_width,num_channels])\n",
        "test_labels=tf.cast(test_features['label'],tf.int32)\n",
        "test_labels=tf.one_hot(test_labels, num_categories, on_value=1.0, off_value=0.0, dtype=tf.float32)\n",
        "\n",
        "test_queue1=tf.train.string_input_producer(['Records/test.meta'])\n",
        "_,serialized_test_set1=testSetReader.read(test_queue1)\n",
        "test_features1=tf.parse_single_example(serialized_test_set1,features=fmt1)\n",
        "test_total=tf.cast(test_features1['size'],tf.int32)\n",
        "\n",
        "sess=tf.Session()\n",
        "sess.run(tf.local_variables_initializer())\n",
        "coord=tf.train.Coordinator()\n",
        "threads=tf.train.start_queue_runners(sess=sess,coord=coord)\n",
        "train_total,test_total=sess.run([train_total,test_total])\n",
        "coord.request_stop()\n",
        "coord.join(threads)\n",
        "sess.close()\n",
        "\n",
        "tf.Variable(train_total, name='train_total')\n",
        "tf.Variable(test_total, name='test_total')\n",
        "\n",
        "# batch train set queue graph\n",
        "train_images_batch,train_label_batch=tf.train.shuffle_batch([train_images,train_labels],batch_size=batch_size,\n",
        "capacity=capacity,min_after_dequeue=min_after_dequeue, name='batchTrainData')\n",
        "\n",
        "# total test set queue graph\n",
        "test_images_batch,test_label_batch=tf.train.shuffle_batch([test_images,test_labels],batch_size=test_total,\n",
        "capacity=capacity,min_after_dequeue=min_after_dequeue, name='totalTestData')"
      ],
      "execution_count": 0,
      "outputs": []
    },
    {
      "metadata": {
        "id": "fLopZmdKGc-k",
        "colab_type": "code",
        "colab": {}
      },
      "cell_type": "code",
      "source": [
        "# Placeholders for images\n",
        "img_holder = tf.placeholder(tf.float32, [None, image_height, image_width,\n",
        "num_channels], name = 'img_holder')\n",
        "lbl_holder = tf.placeholder(tf.int8, [None, num_categories], name = 'lbl_holder')\n",
        "train = tf.placeholder(tf.bool, name = 'train_bool')"
      ],
      "execution_count": 0,
      "outputs": []
    },
    {
      "metadata": {
        "id": "Xds5-TaMPx1J",
        "colab_type": "code",
        "colab": {}
      },
      "cell_type": "code",
      "source": [
        "# Preprocess the image, Performs random transformations\n",
        "# Random flip left and right\n",
        "img_tensor_flip = tf.map_fn(lambda img: tf.image.random_flip_left_right(img), img_holder)\n",
        "# Random flip up and down \n",
        "img_tensor_flip1 = tf.map_fn(lambda img: tf.image.random_flip_up_down(img), img_tensor_flip)\n",
        "# Random brightness\n",
        "img_tensor_bri = tf.map_fn(lambda img: tf.image.random_brightness(img, max_delta=0.2), img_tensor_flip1)\n",
        "# Per-image scaling\n",
        "img_tensor_std = tf.map_fn(lambda img: tf.image.per_image_standardization(img), img_tensor_bri)"
      ],
      "execution_count": 0,
      "outputs": []
    },
    {
      "metadata": {
        "id": "FC6Yn9gPGc-o",
        "colab_type": "code",
        "colab": {}
      },
      "cell_type": "code",
      "source": [
        "# Create convolution/pooling layers\n",
        "conv1 = tf.layers.conv2d(img_tensor_std, num_filters1, filter_size, padding='same', \\\n",
        "activation=tf.nn.relu, name = 'conv1')\n",
        "print(np.shape(img_tensor_std))\n",
        "print(np.shape(conv1))"
      ],
      "execution_count": 0,
      "outputs": []
    },
    {
      "metadata": {
        "id": "hILT35AmGc-v",
        "colab_type": "code",
        "colab": {}
      },
      "cell_type": "code",
      "source": [
        "pool1 = tf.layers.max_pooling2d(conv1, pooling_size, pooling_size, name = 'pool1')\n",
        "print(np.shape(pool1))"
      ],
      "execution_count": 0,
      "outputs": []
    },
    {
      "metadata": {
        "id": "gXBCdNT4Gc-y",
        "colab_type": "code",
        "colab": {}
      },
      "cell_type": "code",
      "source": [
        "conv2 = tf.layers.conv2d(pool1, num_filters2, filter_size, padding='same',\n",
        "activation=tf.nn.relu, name = 'conv2')"
      ],
      "execution_count": 0,
      "outputs": []
    },
    {
      "metadata": {
        "id": "af_jYprGGc-4",
        "colab_type": "code",
        "colab": {}
      },
      "cell_type": "code",
      "source": [
        "pool2 = tf.layers.max_pooling2d(conv2, pooling_size, pooling_size, name = 'pool2')\n",
        "print(np.shape(pool2))"
      ],
      "execution_count": 0,
      "outputs": []
    },
    {
      "metadata": {
        "id": "GkKANPaYGc-7",
        "colab_type": "code",
        "colab": {}
      },
      "cell_type": "code",
      "source": [
        "conv3 = tf.layers.conv2d(pool2, num_filters3, filter_size, padding='same',\n",
        "activation=tf.nn.relu, name = 'conv3')"
      ],
      "execution_count": 0,
      "outputs": []
    },
    {
      "metadata": {
        "id": "rb5tv6azGc--",
        "colab_type": "code",
        "colab": {}
      },
      "cell_type": "code",
      "source": [
        "pool3 = tf.layers.max_pooling2d(conv3, pooling_size, pooling_size, name = 'pool3')\n",
        "print(np.shape(pool3))"
      ],
      "execution_count": 0,
      "outputs": []
    },
    {
      "metadata": {
        "id": "Oeqmx6_lGc_C",
        "colab_type": "code",
        "colab": {}
      },
      "cell_type": "code",
      "source": [
        "conv4 = tf.layers.conv2d(pool3, num_filters4, filter_size, padding='same',\n",
        "activation=tf.nn.relu, name = 'conv4')"
      ],
      "execution_count": 0,
      "outputs": []
    },
    {
      "metadata": {
        "id": "Teh4q6fDu7Yd",
        "colab_type": "code",
        "colab": {}
      },
      "cell_type": "code",
      "source": [
        "conv5 = tf.layers.conv2d(conv4, num_filters5, filter_size, padding='same',\n",
        "activation=tf.nn.relu, name = 'conv5')"
      ],
      "execution_count": 0,
      "outputs": []
    },
    {
      "metadata": {
        "id": "payynk9jmKcj",
        "colab_type": "code",
        "colab": {}
      },
      "cell_type": "code",
      "source": [
        "pool4 = tf.layers.max_pooling2d(conv5, pooling_size, pooling_size, name = 'pool4')\n",
        "print(np.shape(pool4))"
      ],
      "execution_count": 0,
      "outputs": []
    },
    {
      "metadata": {
        "id": "b3E6VPEuvUxG",
        "colab_type": "code",
        "colab": {}
      },
      "cell_type": "code",
      "source": [
        "conv6 = tf.layers.conv2d(pool4, num_filters6, filter_size, padding='same',\n",
        "activation=tf.nn.relu, name = 'conv6')"
      ],
      "execution_count": 0,
      "outputs": []
    },
    {
      "metadata": {
        "id": "Dk9jbl9XvYy0",
        "colab_type": "code",
        "colab": {}
      },
      "cell_type": "code",
      "source": [
        "pool5 = tf.layers.max_pooling2d(conv6, pooling_size, pooling_size, name = 'pool5')\n",
        "print(np.shape(pool5))"
      ],
      "execution_count": 0,
      "outputs": []
    },
    {
      "metadata": {
        "id": "e-BVfCxTRUJ2",
        "colab_type": "code",
        "colab": {}
      },
      "cell_type": "code",
      "source": [
        "conv7 = tf.layers.conv2d(pool5, num_filters7, filter_size, padding='same',\n",
        "activation=tf.nn.relu, name = 'conv7')"
      ],
      "execution_count": 0,
      "outputs": []
    },
    {
      "metadata": {
        "id": "lCX_rkGsRUxI",
        "colab_type": "code",
        "colab": {}
      },
      "cell_type": "code",
      "source": [
        "pool6 = tf.layers.average_pooling2d(conv7, 9, 11, name = 'pool6')\n",
        "print(np.shape(pool6))"
      ],
      "execution_count": 0,
      "outputs": []
    },
    {
      "metadata": {
        "id": "7HXR01AbGc_N",
        "colab_type": "code",
        "colab": {}
      },
      "cell_type": "code",
      "source": [
        "# Flatten input data\n",
        "flatten = tf.reshape(pool6, [-1, fully_connected_size], name = 'flatten')\n",
        "print(np.shape(flatten))"
      ],
      "execution_count": 0,
      "outputs": []
    },
    {
      "metadata": {
        "id": "lJ8HnWM6Gc_P",
        "colab_type": "code",
        "colab": {}
      },
      "cell_type": "code",
      "source": [
        "# Create connected layers\n",
        "with tf.contrib.framework.arg_scope(\n",
        "[tf.contrib.layers.fully_connected],\n",
        "normalizer_fn=tf.contrib.layers.batch_norm,\n",
        "normalizer_params={'is_training': train}):\n",
        "    fc1 = tf.contrib.layers.fully_connected(flatten, fully_connected_size, scope = 'fc1')\n",
        "    fc2 = tf.contrib.layers.fully_connected(fc1, num_categories,\n",
        "    activation_fn=None, scope = 'fc2')"
      ],
      "execution_count": 0,
      "outputs": []
    },
    {
      "metadata": {
        "id": "3GhZa8XPGc_S",
        "colab_type": "code",
        "colab": {
          "base_uri": "https://localhost:8080/",
          "height": 173
        },
        "outputId": "b2c332fe-840c-4ec8-8e9f-0d9d1858f00c"
      },
      "cell_type": "code",
      "source": [
        "# Compute loss\n",
        "loss = tf.reduce_mean(\n",
        "tf.nn.softmax_cross_entropy_with_logits(\n",
        "logits=fc2, labels=lbl_holder), name = 'loss')"
      ],
      "execution_count": 23,
      "outputs": [
        {
          "output_type": "stream",
          "text": [
            "WARNING:tensorflow:From <ipython-input-23-5d7a5c5e4aa4>:3: softmax_cross_entropy_with_logits (from tensorflow.python.ops.nn_ops) is deprecated and will be removed in a future version.\n",
            "Instructions for updating:\n",
            "\n",
            "Future major versions of TensorFlow will allow gradients to flow\n",
            "into the labels input on backprop by default.\n",
            "\n",
            "See @{tf.nn.softmax_cross_entropy_with_logits_v2}.\n",
            "\n"
          ],
          "name": "stdout"
        }
      ]
    },
    {
      "metadata": {
        "id": "PsZi4MxAGc_W",
        "colab_type": "code",
        "colab": {}
      },
      "cell_type": "code",
      "source": [
        "# Create optimizer\n",
        "global_step = tf.Variable(0, name='global_step', trainable=False)\n",
        "optimizer = tf.train.AdamOptimizer(learning_rate).minimize(loss, name = 'optimizer', global_step = global_step)"
      ],
      "execution_count": 0,
      "outputs": []
    },
    {
      "metadata": {
        "id": "nGSCQlz_Gc_Z",
        "colab_type": "code",
        "colab": {}
      },
      "cell_type": "code",
      "source": [
        "# Determine success rate\n",
        "prediction = tf.argmax(fc2, 1, name = 'prediction')\n",
        "correct_pred = tf.equal(prediction, tf.argmax(lbl_holder, 1), name = 'correct_pred')\n",
        "accuracy = tf.reduce_mean(tf.cast(correct_pred, tf.float32), name = 'accuracy')\n",
        "# probabilities of each class\n",
        "probabilities = tf.nn.softmax(fc2, name='probabilities')\n",
        "# # tensorboard\n",
        "# summary_loss=tf.summary.scalar('loss', loss)\n",
        "# summary_accuracy=tf.summary.scalar('accuracy', accuracy)\n",
        "# merged_op = tf.summary.merge([summary_loss, summary_accuracy])\n",
        "# # Create FileWriter\n",
        "# file_writer = tf.summary.FileWriter(log_dir, graph=tf.get_default_graph())"
      ],
      "execution_count": 0,
      "outputs": []
    },
    {
      "metadata": {
        "id": "FcSbtSUKGc_b",
        "colab_type": "code",
        "colab": {}
      },
      "cell_type": "code",
      "source": [
        "# session and variable initialize\n",
        "sess=tf.Session()\n",
        "sess.run(tf.global_variables_initializer())\n",
        "sess.run(tf.local_variables_initializer())\n",
        "coord=tf.train.Coordinator()\n",
        "threads=tf.train.start_queue_runners(sess=sess,coord=coord)\n",
        "# saver for storing training result\n",
        "saver = tf.train.Saver()"
      ],
      "execution_count": 0,
      "outputs": []
    },
    {
      "metadata": {
        "id": "3guNjGGZVZRc",
        "colab_type": "code",
        "colab": {
          "base_uri": "https://localhost:8080/",
          "height": 10166
        },
        "outputId": "640003ec-791a-46bd-e5bb-facb6fc5f92c"
      },
      "cell_type": "code",
      "source": [
        "try:\n",
        "    test_images,test_labels = sess.run([test_images_batch, test_label_batch])\n",
        "    batch_i = 1\n",
        "    total_batch = 0\n",
        "    local_epoch = 1\n",
        "    start_time = time.time()\n",
        "    while not coord.should_stop():\n",
        "        imgs, labels = sess.run([train_images_batch, train_label_batch])\n",
        "        sess.run(optimizer, feed_dict={img_holder:imgs,lbl_holder:labels,train: True})\n",
        "#         # record the summary to the log file\n",
        "#         summary = sess.run(merged_op, feed_dict={img_holder:imgs,lbl_holder:labels,train: False})\n",
        "#         file_writer.add_summary(summary)\n",
        "#         file_writer.flush()\n",
        "        if batch_i % 10 == 0:\n",
        "            loss_val, accuracy_val = sess.run([loss, accuracy], feed_dict={img_holder:imgs,lbl_holder:labels,train: False})\n",
        "            test_accuracy = sess.run(accuracy, feed_dict={img_holder:test_images,lbl_holder:test_labels,train: False})\n",
        "            duration = time.time() - start_time\n",
        "            print('epoch:', str(local_epoch)+ '/' +str(num_epochs), 'batch:', batch_i, 'loss:', \n",
        "                  loss_val, 'cur_accuracy:', accuracy_val, 'test_accuracy:', test_accuracy, 'duration: %.3fs' % duration)\n",
        "            start_time = time.time()\n",
        "        batch_i += 1\n",
        "        total_batch += batch_size\n",
        "        if total_batch >= train_total:\n",
        "            local_epoch += 1\n",
        "            total_batch = 0\n",
        "            batch_i = 1\n",
        "except tf.errors.OutOfRangeError:\n",
        "    print('Done.')\n",
        "except Exception as e:\n",
        "    coord.request_stop(e)\n",
        "finally:\n",
        "    coord.request_stop()\n",
        "coord.join(threads)\n",
        "# save training result\n",
        "saver.save(sess, os.path.join(chkp_dir, chkp_name))\n",
        "sess.close()"
      ],
      "execution_count": 27,
      "outputs": [
        {
          "output_type": "stream",
          "text": [
            "epoch: 1/100 batch: 10 loss: 6.441991 cur_accuracy: 0.1 test_accuracy: 0.18897638 duration: 10.933s\n",
            "epoch: 1/100 batch: 20 loss: 17.298744 cur_accuracy: 0.2 test_accuracy: 0.18897638 duration: 3.141s\n",
            "epoch: 1/100 batch: 30 loss: 27.608103 cur_accuracy: 0.2 test_accuracy: 0.18897638 duration: 3.149s\n",
            "epoch: 1/100 batch: 40 loss: 25.73555 cur_accuracy: 0.2 test_accuracy: 0.18897638 duration: 3.125s\n",
            "epoch: 1/100 batch: 50 loss: 11.364553 cur_accuracy: 0.4 test_accuracy: 0.23228346 duration: 3.150s\n",
            "epoch: 1/100 batch: 60 loss: 64.63432 cur_accuracy: 0.1 test_accuracy: 0.23228346 duration: 3.164s\n",
            "epoch: 2/100 batch: 10 loss: 44.84416 cur_accuracy: 0.3 test_accuracy: 0.21259843 duration: 3.794s\n",
            "epoch: 2/100 batch: 20 loss: 103.08806 cur_accuracy: 0.1 test_accuracy: 0.18897638 duration: 3.155s\n",
            "epoch: 2/100 batch: 30 loss: 84.05056 cur_accuracy: 0.3 test_accuracy: 0.18897638 duration: 3.176s\n",
            "epoch: 2/100 batch: 40 loss: 73.21321 cur_accuracy: 0.3 test_accuracy: 0.18897638 duration: 3.168s\n",
            "epoch: 2/100 batch: 50 loss: 123.23232 cur_accuracy: 0.2 test_accuracy: 0.18897638 duration: 3.144s\n",
            "epoch: 2/100 batch: 60 loss: 130.49382 cur_accuracy: 0.1 test_accuracy: 0.18897638 duration: 3.171s\n",
            "epoch: 3/100 batch: 10 loss: 116.724464 cur_accuracy: 0.1 test_accuracy: 0.18897638 duration: 3.741s\n",
            "epoch: 3/100 batch: 20 loss: 131.5176 cur_accuracy: 0.1 test_accuracy: 0.23228346 duration: 3.176s\n",
            "epoch: 3/100 batch: 30 loss: 111.20111 cur_accuracy: 0.1 test_accuracy: 0.23228346 duration: 3.169s\n",
            "epoch: 3/100 batch: 40 loss: 25.507076 cur_accuracy: 0.3 test_accuracy: 0.17322835 duration: 3.127s\n",
            "epoch: 3/100 batch: 50 loss: 57.73409 cur_accuracy: 0.0 test_accuracy: 0.0 duration: 3.154s\n",
            "epoch: 3/100 batch: 60 loss: 54.263714 cur_accuracy: 0.2 test_accuracy: 0.18110237 duration: 3.159s\n",
            "epoch: 4/100 batch: 10 loss: 65.03956 cur_accuracy: 0.1 test_accuracy: 0.18897638 duration: 3.775s\n",
            "epoch: 4/100 batch: 20 loss: 54.839428 cur_accuracy: 0.1 test_accuracy: 0.12598425 duration: 3.192s\n",
            "epoch: 4/100 batch: 30 loss: 37.5735 cur_accuracy: 0.3 test_accuracy: 0.0 duration: 3.164s\n",
            "epoch: 4/100 batch: 40 loss: 69.56915 cur_accuracy: 0.0 test_accuracy: 0.08661418 duration: 3.160s\n",
            "epoch: 4/100 batch: 50 loss: 60.738136 cur_accuracy: 0.1 test_accuracy: 0.17322835 duration: 3.149s\n",
            "epoch: 4/100 batch: 60 loss: 111.91691 cur_accuracy: 0.1 test_accuracy: 0.18110237 duration: 3.171s\n",
            "epoch: 5/100 batch: 10 loss: 74.669785 cur_accuracy: 0.1 test_accuracy: 0.18110237 duration: 3.746s\n",
            "epoch: 5/100 batch: 20 loss: 69.53754 cur_accuracy: 0.3 test_accuracy: 0.0 duration: 3.180s\n",
            "epoch: 5/100 batch: 30 loss: 80.618 cur_accuracy: 0.0 test_accuracy: 0.18110237 duration: 3.135s\n",
            "epoch: 5/100 batch: 40 loss: 65.11273 cur_accuracy: 0.1 test_accuracy: 0.18110237 duration: 3.185s\n",
            "epoch: 5/100 batch: 50 loss: 79.72788 cur_accuracy: 0.2 test_accuracy: 0.18110237 duration: 3.186s\n",
            "epoch: 5/100 batch: 60 loss: 52.34556 cur_accuracy: 0.3 test_accuracy: 0.18110237 duration: 3.176s\n",
            "epoch: 6/100 batch: 10 loss: 102.43827 cur_accuracy: 0.2 test_accuracy: 0.0 duration: 3.788s\n",
            "epoch: 6/100 batch: 20 loss: 98.04392 cur_accuracy: 0.1 test_accuracy: 0.0 duration: 3.159s\n",
            "epoch: 6/100 batch: 30 loss: 211.92233 cur_accuracy: 0.2 test_accuracy: 0.0 duration: 3.176s\n",
            "epoch: 6/100 batch: 40 loss: 75.75376 cur_accuracy: 0.3 test_accuracy: 0.0 duration: 3.192s\n",
            "epoch: 6/100 batch: 50 loss: 116.97085 cur_accuracy: 0.1 test_accuracy: 0.0 duration: 3.159s\n",
            "epoch: 6/100 batch: 60 loss: 122.647606 cur_accuracy: 0.1 test_accuracy: 0.0 duration: 3.169s\n",
            "epoch: 7/100 batch: 10 loss: 94.26959 cur_accuracy: 0.3 test_accuracy: 0.0 duration: 3.785s\n",
            "epoch: 7/100 batch: 20 loss: 73.08003 cur_accuracy: 0.4 test_accuracy: 0.0 duration: 3.164s\n",
            "epoch: 7/100 batch: 30 loss: 84.372246 cur_accuracy: 0.0 test_accuracy: 0.0 duration: 3.131s\n",
            "epoch: 7/100 batch: 40 loss: 83.51864 cur_accuracy: 0.2 test_accuracy: 0.18110237 duration: 3.140s\n",
            "epoch: 7/100 batch: 50 loss: 101.30912 cur_accuracy: 0.0 test_accuracy: 0.18110237 duration: 3.167s\n",
            "epoch: 7/100 batch: 60 loss: 78.19182 cur_accuracy: 0.1 test_accuracy: 0.23228346 duration: 3.147s\n",
            "epoch: 8/100 batch: 10 loss: 93.03927 cur_accuracy: 0.2 test_accuracy: 0.23228346 duration: 3.792s\n",
            "epoch: 8/100 batch: 20 loss: 87.08304 cur_accuracy: 0.2 test_accuracy: 0.23228346 duration: 3.162s\n"
          ],
          "name": "stdout"
        },
        {
          "output_type": "stream",
          "text": [
            "epoch: 8/100 batch: 30 loss: 141.26797 cur_accuracy: 0.1 test_accuracy: 0.23228346 duration: 3.128s\n",
            "epoch: 8/100 batch: 40 loss: 140.82443 cur_accuracy: 0.1 test_accuracy: 0.18110237 duration: 3.142s\n",
            "epoch: 8/100 batch: 50 loss: 35.179382 cur_accuracy: 0.2 test_accuracy: 0.18110237 duration: 3.179s\n",
            "epoch: 8/100 batch: 60 loss: 12.084087 cur_accuracy: 0.3 test_accuracy: 0.18897638 duration: 3.170s\n",
            "epoch: 9/100 batch: 10 loss: 109.64414 cur_accuracy: 0.1 test_accuracy: 0.23228346 duration: 3.777s\n",
            "epoch: 9/100 batch: 20 loss: 74.62817 cur_accuracy: 0.4 test_accuracy: 0.23228346 duration: 3.168s\n",
            "epoch: 9/100 batch: 30 loss: 133.35425 cur_accuracy: 0.0 test_accuracy: 0.0 duration: 3.159s\n",
            "epoch: 9/100 batch: 40 loss: 120.02571 cur_accuracy: 0.1 test_accuracy: 0.0 duration: 3.159s\n",
            "epoch: 9/100 batch: 50 loss: 137.85495 cur_accuracy: 0.0 test_accuracy: 0.23228346 duration: 3.186s\n",
            "epoch: 9/100 batch: 60 loss: 187.04688 cur_accuracy: 0.1 test_accuracy: 0.23228346 duration: 3.159s\n",
            "epoch: 10/100 batch: 10 loss: 95.56319 cur_accuracy: 0.0 test_accuracy: 0.0 duration: 3.794s\n",
            "epoch: 10/100 batch: 20 loss: 60.62896 cur_accuracy: 0.2 test_accuracy: 0.0 duration: 3.161s\n",
            "epoch: 10/100 batch: 30 loss: 57.28404 cur_accuracy: 0.3 test_accuracy: 0.0 duration: 3.143s\n",
            "epoch: 10/100 batch: 40 loss: 102.47136 cur_accuracy: 0.2 test_accuracy: 0.0 duration: 3.152s\n",
            "epoch: 10/100 batch: 50 loss: 113.54765 cur_accuracy: 0.5 test_accuracy: 0.0 duration: 3.177s\n",
            "epoch: 10/100 batch: 60 loss: 167.9458 cur_accuracy: 0.1 test_accuracy: 0.0 duration: 3.180s\n",
            "epoch: 11/100 batch: 10 loss: 178.44615 cur_accuracy: 0.1 test_accuracy: 0.0 duration: 3.747s\n",
            "epoch: 11/100 batch: 20 loss: 172.51054 cur_accuracy: 0.2 test_accuracy: 0.23228346 duration: 3.128s\n",
            "epoch: 11/100 batch: 30 loss: 136.99426 cur_accuracy: 0.1 test_accuracy: 0.23228346 duration: 3.184s\n",
            "epoch: 11/100 batch: 40 loss: 168.21216 cur_accuracy: 0.2 test_accuracy: 0.12992126 duration: 3.166s\n",
            "epoch: 11/100 batch: 50 loss: 123.899635 cur_accuracy: 0.3 test_accuracy: 0.0 duration: 3.162s\n",
            "epoch: 11/100 batch: 60 loss: 132.01321 cur_accuracy: 0.3 test_accuracy: 0.0 duration: 3.164s\n",
            "epoch: 12/100 batch: 10 loss: 95.277054 cur_accuracy: 0.2 test_accuracy: 0.0 duration: 3.800s\n",
            "epoch: 12/100 batch: 20 loss: 136.82309 cur_accuracy: 0.3 test_accuracy: 0.0 duration: 3.139s\n",
            "epoch: 12/100 batch: 30 loss: 138.48148 cur_accuracy: 0.2 test_accuracy: 0.0 duration: 3.128s\n",
            "epoch: 12/100 batch: 40 loss: 162.37798 cur_accuracy: 0.1 test_accuracy: 0.0 duration: 3.157s\n",
            "epoch: 12/100 batch: 50 loss: 157.76921 cur_accuracy: 0.0 test_accuracy: 0.0 duration: 3.155s\n",
            "epoch: 12/100 batch: 60 loss: 127.328224 cur_accuracy: 0.1 test_accuracy: 0.0 duration: 3.130s\n",
            "epoch: 13/100 batch: 10 loss: 53.863335 cur_accuracy: 0.0 test_accuracy: 0.0 duration: 3.764s\n",
            "epoch: 13/100 batch: 20 loss: 51.851807 cur_accuracy: 0.0 test_accuracy: 0.16929133 duration: 3.122s\n",
            "epoch: 13/100 batch: 30 loss: 76.628784 cur_accuracy: 0.1 test_accuracy: 0.15354331 duration: 3.126s\n",
            "epoch: 13/100 batch: 40 loss: 77.54214 cur_accuracy: 0.1 test_accuracy: 0.18110237 duration: 3.195s\n",
            "epoch: 13/100 batch: 50 loss: 79.84893 cur_accuracy: 0.0 test_accuracy: 0.18110237 duration: 3.126s\n",
            "epoch: 13/100 batch: 60 loss: 37.48383 cur_accuracy: 0.2 test_accuracy: 0.0 duration: 3.195s\n",
            "epoch: 14/100 batch: 10 loss: 142.48996 cur_accuracy: 0.1 test_accuracy: 0.0 duration: 3.801s\n",
            "epoch: 14/100 batch: 20 loss: 150.3837 cur_accuracy: 0.2 test_accuracy: 0.0 duration: 3.166s\n",
            "epoch: 14/100 batch: 30 loss: 208.4415 cur_accuracy: 0.0 test_accuracy: 0.0 duration: 3.132s\n",
            "epoch: 14/100 batch: 40 loss: 184.39021 cur_accuracy: 0.2 test_accuracy: 0.0 duration: 3.147s\n",
            "epoch: 14/100 batch: 50 loss: 181.62428 cur_accuracy: 0.2 test_accuracy: 0.0 duration: 3.191s\n",
            "epoch: 14/100 batch: 60 loss: 213.5575 cur_accuracy: 0.2 test_accuracy: 0.0 duration: 3.134s\n",
            "epoch: 15/100 batch: 10 loss: 187.16516 cur_accuracy: 0.3 test_accuracy: 0.0 duration: 3.770s\n",
            "epoch: 15/100 batch: 20 loss: 155.48306 cur_accuracy: 0.4 test_accuracy: 0.0 duration: 3.122s\n",
            "epoch: 15/100 batch: 30 loss: 206.04683 cur_accuracy: 0.2 test_accuracy: 0.0 duration: 3.118s\n",
            "epoch: 15/100 batch: 40 loss: 136.95187 cur_accuracy: 0.3 test_accuracy: 0.0 duration: 3.145s\n",
            "epoch: 15/100 batch: 50 loss: 177.4379 cur_accuracy: 0.2 test_accuracy: 0.0 duration: 3.129s\n"
          ],
          "name": "stdout"
        },
        {
          "output_type": "stream",
          "text": [
            "epoch: 15/100 batch: 60 loss: 143.06674 cur_accuracy: 0.1 test_accuracy: 0.0 duration: 3.147s\n",
            "epoch: 16/100 batch: 10 loss: 93.71952 cur_accuracy: 0.2 test_accuracy: 0.0 duration: 3.737s\n",
            "epoch: 16/100 batch: 20 loss: 78.08486 cur_accuracy: 0.1 test_accuracy: 0.0 duration: 3.142s\n",
            "epoch: 16/100 batch: 30 loss: 9.183229 cur_accuracy: 0.1 test_accuracy: 0.22047244 duration: 3.137s\n",
            "epoch: 16/100 batch: 40 loss: 82.22813 cur_accuracy: 0.1 test_accuracy: 0.18897638 duration: 3.136s\n",
            "epoch: 16/100 batch: 50 loss: 114.9749 cur_accuracy: 0.1 test_accuracy: 0.18897638 duration: 3.139s\n",
            "epoch: 16/100 batch: 60 loss: 167.93503 cur_accuracy: 0.1 test_accuracy: 0.18897638 duration: 3.138s\n",
            "epoch: 17/100 batch: 10 loss: 120.047775 cur_accuracy: 0.2 test_accuracy: 0.0 duration: 3.749s\n",
            "epoch: 17/100 batch: 20 loss: 109.63772 cur_accuracy: 0.1 test_accuracy: 0.0 duration: 3.137s\n",
            "epoch: 17/100 batch: 30 loss: 77.099396 cur_accuracy: 0.0 test_accuracy: 0.0 duration: 3.168s\n",
            "epoch: 17/100 batch: 40 loss: 49.655373 cur_accuracy: 0.2 test_accuracy: 0.0 duration: 3.166s\n",
            "epoch: 17/100 batch: 50 loss: 124.43406 cur_accuracy: 0.2 test_accuracy: 0.0 duration: 3.152s\n",
            "epoch: 17/100 batch: 60 loss: 194.71011 cur_accuracy: 0.2 test_accuracy: 0.0 duration: 3.154s\n",
            "epoch: 18/100 batch: 10 loss: 251.20589 cur_accuracy: 0.1 test_accuracy: 0.0 duration: 3.737s\n",
            "epoch: 18/100 batch: 20 loss: 170.30647 cur_accuracy: 0.2 test_accuracy: 0.0 duration: 3.162s\n",
            "epoch: 18/100 batch: 30 loss: 129.7761 cur_accuracy: 0.5 test_accuracy: 0.0 duration: 3.152s\n",
            "epoch: 18/100 batch: 40 loss: 248.8187 cur_accuracy: 0.3 test_accuracy: 0.0 duration: 3.126s\n",
            "epoch: 18/100 batch: 50 loss: 325.497 cur_accuracy: 0.1 test_accuracy: 0.0 duration: 3.142s\n",
            "epoch: 18/100 batch: 60 loss: 179.76315 cur_accuracy: 0.4 test_accuracy: 0.0 duration: 3.144s\n",
            "epoch: 19/100 batch: 10 loss: 252.51224 cur_accuracy: 0.1 test_accuracy: 0.0 duration: 3.761s\n",
            "epoch: 19/100 batch: 20 loss: 162.88675 cur_accuracy: 0.0 test_accuracy: 0.0 duration: 3.176s\n",
            "epoch: 19/100 batch: 30 loss: 151.86778 cur_accuracy: 0.1 test_accuracy: 0.0 duration: 3.171s\n",
            "epoch: 19/100 batch: 40 loss: 111.539894 cur_accuracy: 0.1 test_accuracy: 0.0 duration: 3.161s\n",
            "epoch: 19/100 batch: 50 loss: 159.07068 cur_accuracy: 0.1 test_accuracy: 0.0 duration: 3.202s\n",
            "epoch: 19/100 batch: 60 loss: 236.51749 cur_accuracy: 0.1 test_accuracy: 0.0 duration: 3.145s\n",
            "epoch: 20/100 batch: 10 loss: 180.728 cur_accuracy: 0.0 test_accuracy: 0.0 duration: 3.737s\n",
            "epoch: 20/100 batch: 20 loss: 164.88182 cur_accuracy: 0.1 test_accuracy: 0.0 duration: 3.135s\n",
            "epoch: 20/100 batch: 30 loss: 150.51915 cur_accuracy: 0.3 test_accuracy: 0.0 duration: 3.153s\n",
            "epoch: 20/100 batch: 40 loss: 192.40053 cur_accuracy: 0.1 test_accuracy: 0.0 duration: 3.131s\n",
            "epoch: 20/100 batch: 50 loss: 212.85239 cur_accuracy: 0.2 test_accuracy: 0.0 duration: 3.137s\n",
            "epoch: 20/100 batch: 60 loss: 188.28694 cur_accuracy: 0.3 test_accuracy: 0.0 duration: 3.166s\n",
            "epoch: 21/100 batch: 10 loss: 164.02852 cur_accuracy: 0.1 test_accuracy: 0.0 duration: 3.740s\n",
            "epoch: 21/100 batch: 20 loss: 142.82927 cur_accuracy: 0.0 test_accuracy: 0.0 duration: 3.133s\n",
            "epoch: 21/100 batch: 30 loss: 130.59518 cur_accuracy: 0.0 test_accuracy: 0.0 duration: 3.141s\n",
            "epoch: 21/100 batch: 40 loss: 74.59043 cur_accuracy: 0.2 test_accuracy: 0.0 duration: 3.139s\n",
            "epoch: 21/100 batch: 50 loss: 74.68999 cur_accuracy: 0.3 test_accuracy: 0.0 duration: 3.142s\n",
            "epoch: 21/100 batch: 60 loss: 30.618725 cur_accuracy: 0.2 test_accuracy: 0.14173229 duration: 3.121s\n",
            "epoch: 22/100 batch: 10 loss: 51.00364 cur_accuracy: 0.2 test_accuracy: 0.24015749 duration: 3.748s\n",
            "epoch: 22/100 batch: 20 loss: 32.05529 cur_accuracy: 0.2 test_accuracy: 0.0 duration: 3.150s\n",
            "epoch: 22/100 batch: 30 loss: 18.196154 cur_accuracy: 0.1 test_accuracy: 0.24015749 duration: 3.175s\n",
            "epoch: 22/100 batch: 40 loss: 27.757599 cur_accuracy: 0.2 test_accuracy: 0.24015749 duration: 3.152s\n",
            "epoch: 22/100 batch: 50 loss: 39.83284 cur_accuracy: 0.2 test_accuracy: 0.0 duration: 3.138s\n",
            "epoch: 22/100 batch: 60 loss: 32.936134 cur_accuracy: 0.2 test_accuracy: 0.12992126 duration: 3.170s\n",
            "epoch: 23/100 batch: 10 loss: 91.54551 cur_accuracy: 0.0 test_accuracy: 0.23228346 duration: 3.783s\n",
            "epoch: 23/100 batch: 20 loss: 88.13877 cur_accuracy: 0.1 test_accuracy: 0.23228346 duration: 3.142s\n"
          ],
          "name": "stdout"
        },
        {
          "output_type": "stream",
          "text": [
            "epoch: 23/100 batch: 30 loss: 92.802414 cur_accuracy: 0.2 test_accuracy: 0.24015749 duration: 3.137s\n",
            "epoch: 23/100 batch: 40 loss: 77.63433 cur_accuracy: 0.1 test_accuracy: 0.24015749 duration: 3.147s\n",
            "epoch: 23/100 batch: 50 loss: 50.421364 cur_accuracy: 0.3 test_accuracy: 0.24015749 duration: 3.196s\n",
            "epoch: 23/100 batch: 60 loss: 85.95912 cur_accuracy: 0.0 test_accuracy: 0.24015749 duration: 3.133s\n",
            "epoch: 24/100 batch: 10 loss: 259.02057 cur_accuracy: 0.2 test_accuracy: 0.24015749 duration: 3.754s\n",
            "epoch: 24/100 batch: 20 loss: 210.06123 cur_accuracy: 0.3 test_accuracy: 0.18897638 duration: 3.149s\n",
            "epoch: 24/100 batch: 30 loss: 114.72878 cur_accuracy: 0.2 test_accuracy: 0.18897638 duration: 3.109s\n",
            "epoch: 24/100 batch: 40 loss: 204.0853 cur_accuracy: 0.2 test_accuracy: 0.06692913 duration: 3.119s\n",
            "epoch: 24/100 batch: 50 loss: 202.55617 cur_accuracy: 0.4 test_accuracy: 0.0 duration: 3.159s\n",
            "epoch: 24/100 batch: 60 loss: 249.52432 cur_accuracy: 0.3 test_accuracy: 0.0 duration: 3.171s\n",
            "epoch: 25/100 batch: 10 loss: 109.89449 cur_accuracy: 0.1 test_accuracy: 0.08661418 duration: 3.734s\n",
            "epoch: 25/100 batch: 20 loss: 366.77203 cur_accuracy: 0.1 test_accuracy: 0.23228346 duration: 3.165s\n",
            "epoch: 25/100 batch: 30 loss: 696.0565 cur_accuracy: 0.0 test_accuracy: 0.23228346 duration: 3.136s\n",
            "epoch: 25/100 batch: 40 loss: 528.69104 cur_accuracy: 0.2 test_accuracy: 0.23228346 duration: 3.159s\n",
            "epoch: 25/100 batch: 50 loss: 142.08235 cur_accuracy: 0.5 test_accuracy: 0.22834645 duration: 3.158s\n",
            "epoch: 25/100 batch: 60 loss: 98.55107 cur_accuracy: 0.0 test_accuracy: 0.2559055 duration: 3.133s\n",
            "epoch: 26/100 batch: 10 loss: 182.98529 cur_accuracy: 0.5 test_accuracy: 0.070866145 duration: 3.741s\n",
            "epoch: 26/100 batch: 20 loss: 316.78198 cur_accuracy: 0.1 test_accuracy: 0.24015749 duration: 3.179s\n",
            "epoch: 26/100 batch: 30 loss: 437.31143 cur_accuracy: 0.0 test_accuracy: 0.24015749 duration: 3.162s\n",
            "epoch: 26/100 batch: 40 loss: 172.07681 cur_accuracy: 0.3 test_accuracy: 0.16929133 duration: 3.158s\n",
            "epoch: 26/100 batch: 50 loss: 214.06465 cur_accuracy: 0.1 test_accuracy: 0.2007874 duration: 3.183s\n",
            "epoch: 26/100 batch: 60 loss: 291.944 cur_accuracy: 0.1 test_accuracy: 0.18897638 duration: 3.176s\n",
            "epoch: 27/100 batch: 10 loss: 411.05145 cur_accuracy: 0.2 test_accuracy: 0.18897638 duration: 3.771s\n",
            "epoch: 27/100 batch: 20 loss: 434.71835 cur_accuracy: 0.2 test_accuracy: 0.12992126 duration: 3.171s\n",
            "epoch: 27/100 batch: 30 loss: 743.4808 cur_accuracy: 0.1 test_accuracy: 0.0 duration: 3.164s\n",
            "epoch: 27/100 batch: 40 loss: 363.9595 cur_accuracy: 0.3 test_accuracy: 0.21653543 duration: 3.160s\n",
            "epoch: 27/100 batch: 50 loss: 458.35492 cur_accuracy: 0.2 test_accuracy: 0.28346458 duration: 3.138s\n",
            "epoch: 27/100 batch: 60 loss: 188.98486 cur_accuracy: 0.2 test_accuracy: 0.24409449 duration: 3.115s\n",
            "epoch: 28/100 batch: 10 loss: 124.335266 cur_accuracy: 0.3 test_accuracy: 0.2913386 duration: 3.762s\n",
            "epoch: 28/100 batch: 20 loss: 185.54575 cur_accuracy: 0.2 test_accuracy: 0.15748031 duration: 3.130s\n",
            "epoch: 28/100 batch: 30 loss: 169.86685 cur_accuracy: 0.1 test_accuracy: 0.30708662 duration: 3.171s\n",
            "epoch: 28/100 batch: 40 loss: 437.92123 cur_accuracy: 0.0 test_accuracy: 0.17716536 duration: 3.161s\n",
            "epoch: 28/100 batch: 50 loss: 201.81361 cur_accuracy: 0.2 test_accuracy: 0.18897638 duration: 3.145s\n",
            "epoch: 28/100 batch: 60 loss: 871.88965 cur_accuracy: 0.0 test_accuracy: 0.18897638 duration: 3.168s\n",
            "epoch: 29/100 batch: 10 loss: 320.76627 cur_accuracy: 0.2 test_accuracy: 0.18897638 duration: 3.792s\n",
            "epoch: 29/100 batch: 20 loss: 673.1125 cur_accuracy: 0.1 test_accuracy: 0.23228346 duration: 3.127s\n",
            "epoch: 29/100 batch: 30 loss: 519.5765 cur_accuracy: 0.1 test_accuracy: 0.23228346 duration: 3.123s\n",
            "epoch: 29/100 batch: 40 loss: 494.35565 cur_accuracy: 0.1 test_accuracy: 0.23228346 duration: 3.135s\n",
            "epoch: 29/100 batch: 50 loss: 338.65997 cur_accuracy: 0.2 test_accuracy: 0.23228346 duration: 3.150s\n",
            "epoch: 29/100 batch: 60 loss: 430.72626 cur_accuracy: 0.0 test_accuracy: 0.23228346 duration: 3.112s\n",
            "epoch: 30/100 batch: 10 loss: 348.41818 cur_accuracy: 0.2 test_accuracy: 0.22834645 duration: 3.793s\n",
            "epoch: 30/100 batch: 20 loss: 677.5721 cur_accuracy: 0.0 test_accuracy: 0.011811024 duration: 3.144s\n",
            "epoch: 30/100 batch: 30 loss: 729.77423 cur_accuracy: 0.3 test_accuracy: 0.007874016 duration: 3.129s\n",
            "epoch: 30/100 batch: 40 loss: 162.65495 cur_accuracy: 0.4 test_accuracy: 0.23228346 duration: 3.164s\n"
          ],
          "name": "stdout"
        },
        {
          "output_type": "stream",
          "text": [
            "epoch: 30/100 batch: 50 loss: 818.9701 cur_accuracy: 0.1 test_accuracy: 0.23228346 duration: 3.118s\n",
            "epoch: 30/100 batch: 60 loss: 111.196945 cur_accuracy: 0.4 test_accuracy: 0.13385826 duration: 3.121s\n",
            "epoch: 31/100 batch: 10 loss: 452.87534 cur_accuracy: 0.1 test_accuracy: 0.0 duration: 3.762s\n",
            "epoch: 31/100 batch: 20 loss: 659.90515 cur_accuracy: 0.4 test_accuracy: 0.0 duration: 3.118s\n",
            "epoch: 31/100 batch: 30 loss: 243.88257 cur_accuracy: 0.4 test_accuracy: 0.023622047 duration: 3.147s\n",
            "epoch: 31/100 batch: 40 loss: 509.3853 cur_accuracy: 0.3 test_accuracy: 0.0 duration: 3.150s\n",
            "epoch: 31/100 batch: 50 loss: 702.2564 cur_accuracy: 0.1 test_accuracy: 0.031496063 duration: 3.148s\n",
            "epoch: 31/100 batch: 60 loss: 407.6548 cur_accuracy: 0.3 test_accuracy: 0.17716536 duration: 3.143s\n",
            "epoch: 32/100 batch: 10 loss: 951.3831 cur_accuracy: 0.0 test_accuracy: 0.0 duration: 3.771s\n",
            "epoch: 32/100 batch: 20 loss: 646.6673 cur_accuracy: 0.2 test_accuracy: 0.0 duration: 3.172s\n",
            "epoch: 32/100 batch: 30 loss: 743.44495 cur_accuracy: 0.1 test_accuracy: 0.16141732 duration: 3.147s\n",
            "epoch: 32/100 batch: 40 loss: 488.1 cur_accuracy: 0.3 test_accuracy: 0.22834645 duration: 3.142s\n",
            "epoch: 32/100 batch: 50 loss: 1073.8698 cur_accuracy: 0.1 test_accuracy: 0.23228346 duration: 3.190s\n",
            "epoch: 32/100 batch: 60 loss: 707.60956 cur_accuracy: 0.1 test_accuracy: 0.23228346 duration: 3.151s\n",
            "epoch: 33/100 batch: 10 loss: 241.36514 cur_accuracy: 0.3 test_accuracy: 0.07874016 duration: 3.756s\n",
            "epoch: 33/100 batch: 20 loss: 650.1481 cur_accuracy: 0.3 test_accuracy: 0.03937008 duration: 3.163s\n",
            "epoch: 33/100 batch: 30 loss: 1085.7258 cur_accuracy: 0.2 test_accuracy: 0.0 duration: 3.167s\n",
            "epoch: 33/100 batch: 40 loss: 1499.8666 cur_accuracy: 0.0 test_accuracy: 0.0 duration: 3.200s\n",
            "epoch: 33/100 batch: 50 loss: 588.56903 cur_accuracy: 0.3 test_accuracy: 0.031496063 duration: 3.176s\n",
            "epoch: 33/100 batch: 60 loss: 613.7547 cur_accuracy: 0.0 test_accuracy: 0.0 duration: 3.184s\n",
            "epoch: 34/100 batch: 10 loss: 317.19687 cur_accuracy: 0.1 test_accuracy: 0.007874016 duration: 3.841s\n",
            "epoch: 34/100 batch: 20 loss: 78.96118 cur_accuracy: 0.2 test_accuracy: 0.1496063 duration: 3.190s\n",
            "epoch: 34/100 batch: 30 loss: 191.2558 cur_accuracy: 0.1 test_accuracy: 0.15354331 duration: 3.156s\n",
            "epoch: 34/100 batch: 40 loss: 304.57355 cur_accuracy: 0.0 test_accuracy: 0.22047244 duration: 3.157s\n",
            "epoch: 34/100 batch: 50 loss: 245.49072 cur_accuracy: 0.2 test_accuracy: 0.11811024 duration: 3.202s\n",
            "epoch: 34/100 batch: 60 loss: 128.19968 cur_accuracy: 0.2 test_accuracy: 0.22047244 duration: 3.229s\n",
            "epoch: 35/100 batch: 10 loss: 245.9709 cur_accuracy: 0.3 test_accuracy: 0.16141732 duration: 3.800s\n",
            "epoch: 35/100 batch: 20 loss: 211.09338 cur_accuracy: 0.2 test_accuracy: 0.06692913 duration: 3.176s\n",
            "epoch: 35/100 batch: 30 loss: 249.58122 cur_accuracy: 0.3 test_accuracy: 0.007874016 duration: 3.238s\n",
            "epoch: 35/100 batch: 40 loss: 176.34575 cur_accuracy: 0.2 test_accuracy: 0.21653543 duration: 3.204s\n",
            "epoch: 35/100 batch: 50 loss: 1047.7507 cur_accuracy: 0.1 test_accuracy: 0.23228346 duration: 3.222s\n",
            "epoch: 35/100 batch: 60 loss: 694.859 cur_accuracy: 0.1 test_accuracy: 0.23228346 duration: 3.195s\n",
            "epoch: 36/100 batch: 10 loss: 411.34406 cur_accuracy: 0.0 test_accuracy: 0.16141732 duration: 3.826s\n",
            "epoch: 36/100 batch: 20 loss: 534.1875 cur_accuracy: 0.3 test_accuracy: 0.0 duration: 3.231s\n",
            "epoch: 36/100 batch: 30 loss: 682.4891 cur_accuracy: 0.1 test_accuracy: 0.003937008 duration: 3.232s\n",
            "epoch: 36/100 batch: 40 loss: 936.6409 cur_accuracy: 0.2 test_accuracy: 0.003937008 duration: 3.196s\n",
            "epoch: 36/100 batch: 50 loss: 964.70105 cur_accuracy: 0.1 test_accuracy: 0.05905512 duration: 3.232s\n",
            "epoch: 36/100 batch: 60 loss: 707.23004 cur_accuracy: 0.2 test_accuracy: 0.15354331 duration: 3.193s\n",
            "epoch: 37/100 batch: 10 loss: 484.31387 cur_accuracy: 0.4 test_accuracy: 0.18503937 duration: 3.827s\n",
            "epoch: 37/100 batch: 20 loss: 778.9522 cur_accuracy: 0.2 test_accuracy: 0.23228346 duration: 3.184s\n",
            "epoch: 37/100 batch: 30 loss: 706.8707 cur_accuracy: 0.3 test_accuracy: 0.16141732 duration: 3.204s\n",
            "epoch: 37/100 batch: 40 loss: 761.28125 cur_accuracy: 0.2 test_accuracy: 0.19291338 duration: 3.178s\n",
            "epoch: 37/100 batch: 50 loss: 367.22766 cur_accuracy: 0.4 test_accuracy: 0.21259843 duration: 3.230s\n",
            "epoch: 37/100 batch: 60 loss: 287.38452 cur_accuracy: 0.4 test_accuracy: 0.01968504 duration: 3.174s\n"
          ],
          "name": "stdout"
        },
        {
          "output_type": "stream",
          "text": [
            "epoch: 38/100 batch: 10 loss: 636.5428 cur_accuracy: 0.0 test_accuracy: 0.04330709 duration: 3.822s\n",
            "epoch: 38/100 batch: 20 loss: 323.4676 cur_accuracy: 0.3 test_accuracy: 0.09448819 duration: 3.198s\n",
            "epoch: 38/100 batch: 30 loss: 210.98804 cur_accuracy: 0.1 test_accuracy: 0.015748031 duration: 3.401s\n",
            "epoch: 38/100 batch: 40 loss: 196.31174 cur_accuracy: 0.5 test_accuracy: 0.11023622 duration: 3.216s\n",
            "epoch: 38/100 batch: 50 loss: 210.5332 cur_accuracy: 0.2 test_accuracy: 0.16929133 duration: 3.214s\n",
            "epoch: 38/100 batch: 60 loss: 254.51506 cur_accuracy: 0.2 test_accuracy: 0.17716536 duration: 3.197s\n",
            "epoch: 39/100 batch: 10 loss: 262.53134 cur_accuracy: 0.1 test_accuracy: 0.051181104 duration: 3.820s\n",
            "epoch: 39/100 batch: 20 loss: 345.07657 cur_accuracy: 0.0 test_accuracy: 0.027559055 duration: 3.246s\n",
            "epoch: 39/100 batch: 30 loss: 164.83116 cur_accuracy: 0.2 test_accuracy: 0.03937008 duration: 3.215s\n",
            "epoch: 39/100 batch: 40 loss: 115.08317 cur_accuracy: 0.3 test_accuracy: 0.062992126 duration: 3.186s\n",
            "epoch: 39/100 batch: 50 loss: 146.03928 cur_accuracy: 0.1 test_accuracy: 0.12992126 duration: 3.233s\n",
            "epoch: 39/100 batch: 60 loss: 128.18973 cur_accuracy: 0.2 test_accuracy: 0.13779527 duration: 3.230s\n",
            "epoch: 40/100 batch: 10 loss: 236.49336 cur_accuracy: 0.1 test_accuracy: 0.18110237 duration: 3.832s\n",
            "epoch: 40/100 batch: 20 loss: 255.76558 cur_accuracy: 0.4 test_accuracy: 0.15748031 duration: 3.235s\n",
            "epoch: 40/100 batch: 30 loss: 387.95856 cur_accuracy: 0.0 test_accuracy: 0.15748031 duration: 3.248s\n",
            "epoch: 40/100 batch: 40 loss: 161.32834 cur_accuracy: 0.3 test_accuracy: 0.22047244 duration: 3.198s\n",
            "epoch: 40/100 batch: 50 loss: 68.48643 cur_accuracy: 0.5 test_accuracy: 0.19685039 duration: 3.186s\n",
            "epoch: 40/100 batch: 60 loss: 64.15757 cur_accuracy: 0.2 test_accuracy: 0.15748031 duration: 3.170s\n",
            "epoch: 41/100 batch: 10 loss: 152.80095 cur_accuracy: 0.3 test_accuracy: 0.16929133 duration: 3.869s\n",
            "epoch: 41/100 batch: 20 loss: 180.74004 cur_accuracy: 0.2 test_accuracy: 0.19685039 duration: 3.210s\n",
            "epoch: 41/100 batch: 30 loss: 169.68031 cur_accuracy: 0.5 test_accuracy: 0.22047244 duration: 3.206s\n",
            "epoch: 41/100 batch: 40 loss: 96.08494 cur_accuracy: 0.4 test_accuracy: 0.22440945 duration: 3.188s\n",
            "epoch: 41/100 batch: 50 loss: 51.7852 cur_accuracy: 0.4 test_accuracy: 0.22834645 duration: 3.239s\n",
            "epoch: 41/100 batch: 60 loss: 132.99031 cur_accuracy: 0.2 test_accuracy: 0.18503937 duration: 3.199s\n",
            "epoch: 42/100 batch: 10 loss: 130.97896 cur_accuracy: 0.3 test_accuracy: 0.21259843 duration: 3.838s\n",
            "epoch: 42/100 batch: 20 loss: 37.87453 cur_accuracy: 0.5 test_accuracy: 0.18503937 duration: 3.220s\n",
            "epoch: 42/100 batch: 30 loss: 71.51839 cur_accuracy: 0.3 test_accuracy: 0.18110237 duration: 3.203s\n",
            "epoch: 42/100 batch: 40 loss: 71.30561 cur_accuracy: 0.1 test_accuracy: 0.13779527 duration: 3.185s\n",
            "epoch: 42/100 batch: 50 loss: 310.1556 cur_accuracy: 0.1 test_accuracy: 0.18110237 duration: 3.210s\n",
            "epoch: 42/100 batch: 60 loss: 305.93527 cur_accuracy: 0.2 test_accuracy: 0.18110237 duration: 3.224s\n",
            "epoch: 43/100 batch: 10 loss: 181.57187 cur_accuracy: 0.3 test_accuracy: 0.21653543 duration: 3.835s\n",
            "epoch: 43/100 batch: 20 loss: 245.08554 cur_accuracy: 0.2 test_accuracy: 0.19291338 duration: 3.200s\n",
            "epoch: 43/100 batch: 30 loss: 132.54068 cur_accuracy: 0.4 test_accuracy: 0.122047246 duration: 3.194s\n",
            "epoch: 43/100 batch: 40 loss: 267.99323 cur_accuracy: 0.3 test_accuracy: 0.20866142 duration: 3.211s\n",
            "epoch: 43/100 batch: 50 loss: 109.036606 cur_accuracy: 0.6 test_accuracy: 0.19291338 duration: 3.194s\n",
            "epoch: 43/100 batch: 60 loss: 32.32678 cur_accuracy: 0.6 test_accuracy: 0.18503937 duration: 3.211s\n",
            "epoch: 44/100 batch: 10 loss: 229.965 cur_accuracy: 0.3 test_accuracy: 0.23228346 duration: 3.827s\n",
            "epoch: 44/100 batch: 20 loss: 255.49771 cur_accuracy: 0.3 test_accuracy: 0.22440945 duration: 3.248s\n",
            "epoch: 44/100 batch: 30 loss: 80.84395 cur_accuracy: 0.6 test_accuracy: 0.19685039 duration: 3.214s\n",
            "epoch: 44/100 batch: 40 loss: 289.7562 cur_accuracy: 0.1 test_accuracy: 0.1456693 duration: 3.232s\n",
            "epoch: 44/100 batch: 50 loss: 225.81021 cur_accuracy: 0.2 test_accuracy: 0.22834645 duration: 3.221s\n",
            "epoch: 44/100 batch: 60 loss: 100.435135 cur_accuracy: 0.4 test_accuracy: 0.22440945 duration: 3.244s\n",
            "epoch: 45/100 batch: 10 loss: 227.82588 cur_accuracy: 0.4 test_accuracy: 0.23228346 duration: 3.840s\n",
            "epoch: 45/100 batch: 20 loss: 210.03696 cur_accuracy: 0.3 test_accuracy: 0.23228346 duration: 3.217s\n"
          ],
          "name": "stdout"
        },
        {
          "output_type": "stream",
          "text": [
            "epoch: 45/100 batch: 30 loss: 88.3073 cur_accuracy: 0.3 test_accuracy: 0.23622048 duration: 3.203s\n",
            "epoch: 45/100 batch: 40 loss: 348.28824 cur_accuracy: 0.2 test_accuracy: 0.23228346 duration: 3.238s\n",
            "epoch: 45/100 batch: 50 loss: 314.91898 cur_accuracy: 0.4 test_accuracy: 0.23228346 duration: 3.209s\n",
            "epoch: 45/100 batch: 60 loss: 451.5244 cur_accuracy: 0.2 test_accuracy: 0.24015749 duration: 3.191s\n",
            "epoch: 46/100 batch: 10 loss: 70.38023 cur_accuracy: 0.3 test_accuracy: 0.21259843 duration: 3.800s\n",
            "epoch: 46/100 batch: 20 loss: 201.84059 cur_accuracy: 0.2 test_accuracy: 0.15748031 duration: 3.221s\n",
            "epoch: 46/100 batch: 30 loss: 88.184074 cur_accuracy: 0.3 test_accuracy: 0.17322835 duration: 3.162s\n",
            "epoch: 46/100 batch: 40 loss: 120.23789 cur_accuracy: 0.5 test_accuracy: 0.17322835 duration: 3.206s\n",
            "epoch: 46/100 batch: 50 loss: 130.53256 cur_accuracy: 0.3 test_accuracy: 0.22047244 duration: 3.238s\n",
            "epoch: 46/100 batch: 60 loss: 161.27603 cur_accuracy: 0.3 test_accuracy: 0.21259843 duration: 3.259s\n",
            "epoch: 47/100 batch: 10 loss: 242.40681 cur_accuracy: 0.3 test_accuracy: 0.24409449 duration: 3.817s\n",
            "epoch: 47/100 batch: 20 loss: 253.06424 cur_accuracy: 0.2 test_accuracy: 0.23622048 duration: 3.207s\n",
            "epoch: 47/100 batch: 30 loss: 420.19882 cur_accuracy: 0.0 test_accuracy: 0.1456693 duration: 3.238s\n",
            "epoch: 47/100 batch: 40 loss: 297.51846 cur_accuracy: 0.2 test_accuracy: 0.106299214 duration: 3.243s\n",
            "epoch: 47/100 batch: 50 loss: 150.28397 cur_accuracy: 0.4 test_accuracy: 0.09448819 duration: 3.225s\n",
            "epoch: 47/100 batch: 60 loss: 294.5896 cur_accuracy: 0.3 test_accuracy: 0.062992126 duration: 3.243s\n",
            "epoch: 48/100 batch: 10 loss: 109.697205 cur_accuracy: 0.3 test_accuracy: 0.22440945 duration: 3.801s\n",
            "epoch: 48/100 batch: 20 loss: 74.30185 cur_accuracy: 0.0 test_accuracy: 0.22834645 duration: 3.214s\n",
            "epoch: 48/100 batch: 30 loss: 150.38138 cur_accuracy: 0.3 test_accuracy: 0.24409449 duration: 3.243s\n",
            "epoch: 48/100 batch: 40 loss: 247.6376 cur_accuracy: 0.2 test_accuracy: 0.22834645 duration: 3.197s\n",
            "epoch: 48/100 batch: 50 loss: 629.6033 cur_accuracy: 0.2 test_accuracy: 0.23228346 duration: 3.232s\n",
            "epoch: 48/100 batch: 60 loss: 419.3249 cur_accuracy: 0.3 test_accuracy: 0.23228346 duration: 3.216s\n",
            "epoch: 49/100 batch: 10 loss: 282.83017 cur_accuracy: 0.2 test_accuracy: 0.21259843 duration: 3.847s\n",
            "epoch: 49/100 batch: 20 loss: 212.14554 cur_accuracy: 0.1 test_accuracy: 0.22047244 duration: 3.203s\n",
            "epoch: 49/100 batch: 30 loss: 465.98404 cur_accuracy: 0.1 test_accuracy: 0.23228346 duration: 3.220s\n",
            "epoch: 49/100 batch: 40 loss: 441.11475 cur_accuracy: 0.1 test_accuracy: 0.23228346 duration: 3.262s\n",
            "epoch: 49/100 batch: 50 loss: 321.07748 cur_accuracy: 0.3 test_accuracy: 0.22047244 duration: 3.207s\n",
            "epoch: 49/100 batch: 60 loss: 223.11617 cur_accuracy: 0.1 test_accuracy: 0.22834645 duration: 3.234s\n",
            "epoch: 50/100 batch: 10 loss: 74.42186 cur_accuracy: 0.4 test_accuracy: 0.23622048 duration: 3.820s\n",
            "epoch: 50/100 batch: 20 loss: 279.9736 cur_accuracy: 0.1 test_accuracy: 0.23228346 duration: 3.189s\n",
            "epoch: 50/100 batch: 30 loss: 301.21918 cur_accuracy: 0.2 test_accuracy: 0.23228346 duration: 3.260s\n",
            "epoch: 50/100 batch: 40 loss: 32.186855 cur_accuracy: 0.5 test_accuracy: 0.36614174 duration: 3.245s\n",
            "epoch: 50/100 batch: 50 loss: 104.16238 cur_accuracy: 0.4 test_accuracy: 0.27165353 duration: 3.220s\n",
            "epoch: 50/100 batch: 60 loss: 159.4596 cur_accuracy: 0.4 test_accuracy: 0.2874016 duration: 3.176s\n",
            "epoch: 51/100 batch: 10 loss: 1301.3225 cur_accuracy: 0.0 test_accuracy: 0.23228346 duration: 3.835s\n",
            "epoch: 51/100 batch: 20 loss: 466.6603 cur_accuracy: 0.3 test_accuracy: 0.27165353 duration: 3.186s\n",
            "epoch: 51/100 batch: 30 loss: 491.49823 cur_accuracy: 0.0 test_accuracy: 0.23228346 duration: 3.217s\n",
            "epoch: 51/100 batch: 40 loss: 261.93396 cur_accuracy: 0.2 test_accuracy: 0.27952754 duration: 3.220s\n",
            "epoch: 51/100 batch: 50 loss: 302.67514 cur_accuracy: 0.1 test_accuracy: 0.28346458 duration: 3.256s\n",
            "epoch: 51/100 batch: 60 loss: 143.97066 cur_accuracy: 0.3 test_accuracy: 0.2952756 duration: 3.179s\n",
            "epoch: 52/100 batch: 10 loss: 113.49345 cur_accuracy: 0.2 test_accuracy: 0.27559054 duration: 3.801s\n",
            "epoch: 52/100 batch: 20 loss: 22.033392 cur_accuracy: 0.6 test_accuracy: 0.27559054 duration: 3.213s\n",
            "epoch: 52/100 batch: 30 loss: 133.49182 cur_accuracy: 0.2 test_accuracy: 0.22834645 duration: 3.163s\n",
            "epoch: 52/100 batch: 40 loss: 114.49188 cur_accuracy: 0.4 test_accuracy: 0.20472442 duration: 3.174s\n"
          ],
          "name": "stdout"
        },
        {
          "output_type": "stream",
          "text": [
            "epoch: 52/100 batch: 50 loss: 152.3431 cur_accuracy: 0.2 test_accuracy: 0.1496063 duration: 3.171s\n",
            "epoch: 52/100 batch: 60 loss: 57.72343 cur_accuracy: 0.6 test_accuracy: 0.122047246 duration: 3.199s\n",
            "epoch: 53/100 batch: 10 loss: 132.97371 cur_accuracy: 0.3 test_accuracy: 0.16141732 duration: 3.812s\n",
            "epoch: 53/100 batch: 20 loss: 44.030243 cur_accuracy: 0.5 test_accuracy: 0.18110237 duration: 3.201s\n",
            "epoch: 53/100 batch: 30 loss: 198.55876 cur_accuracy: 0.3 test_accuracy: 0.08267716 duration: 3.216s\n",
            "epoch: 53/100 batch: 40 loss: 329.3117 cur_accuracy: 0.2 test_accuracy: 0.08661418 duration: 3.204s\n",
            "epoch: 53/100 batch: 50 loss: 137.21591 cur_accuracy: 0.5 test_accuracy: 0.24409449 duration: 3.208s\n",
            "epoch: 53/100 batch: 60 loss: 622.302 cur_accuracy: 0.4 test_accuracy: 0.22440945 duration: 3.181s\n",
            "epoch: 54/100 batch: 10 loss: 356.50995 cur_accuracy: 0.1 test_accuracy: 0.21259843 duration: 3.776s\n",
            "epoch: 54/100 batch: 20 loss: 285.61163 cur_accuracy: 0.1 test_accuracy: 0.22047244 duration: 3.192s\n",
            "epoch: 54/100 batch: 30 loss: 76.292816 cur_accuracy: 0.1 test_accuracy: 0.33858266 duration: 3.198s\n",
            "epoch: 54/100 batch: 40 loss: 44.92198 cur_accuracy: 0.4 test_accuracy: 0.2874016 duration: 3.161s\n",
            "epoch: 54/100 batch: 50 loss: 54.615364 cur_accuracy: 0.3 test_accuracy: 0.36220473 duration: 3.173s\n",
            "epoch: 54/100 batch: 60 loss: 56.170166 cur_accuracy: 0.3 test_accuracy: 0.32283464 duration: 3.187s\n",
            "epoch: 55/100 batch: 10 loss: 47.391903 cur_accuracy: 0.4 test_accuracy: 0.2952756 duration: 3.796s\n",
            "epoch: 55/100 batch: 20 loss: 83.2271 cur_accuracy: 0.2 test_accuracy: 0.17716536 duration: 3.217s\n",
            "epoch: 55/100 batch: 30 loss: 75.60154 cur_accuracy: 0.1 test_accuracy: 0.20472442 duration: 3.217s\n",
            "epoch: 55/100 batch: 40 loss: 50.664337 cur_accuracy: 0.5 test_accuracy: 0.26771653 duration: 3.205s\n",
            "epoch: 55/100 batch: 50 loss: 184.4537 cur_accuracy: 0.2 test_accuracy: 0.23622048 duration: 3.210s\n",
            "epoch: 55/100 batch: 60 loss: 38.2105 cur_accuracy: 0.5 test_accuracy: 0.26377952 duration: 3.185s\n",
            "epoch: 56/100 batch: 10 loss: 137.11035 cur_accuracy: 0.2 test_accuracy: 0.2007874 duration: 3.801s\n",
            "epoch: 56/100 batch: 20 loss: 328.2837 cur_accuracy: 0.1 test_accuracy: 0.23228346 duration: 3.210s\n",
            "epoch: 56/100 batch: 30 loss: 369.9665 cur_accuracy: 0.1 test_accuracy: 0.22834645 duration: 3.206s\n",
            "epoch: 56/100 batch: 40 loss: 553.87024 cur_accuracy: 0.1 test_accuracy: 0.23228346 duration: 3.215s\n",
            "epoch: 56/100 batch: 50 loss: 305.95792 cur_accuracy: 0.1 test_accuracy: 0.2519685 duration: 3.187s\n",
            "epoch: 56/100 batch: 60 loss: 38.827774 cur_accuracy: 0.1 test_accuracy: 0.32677165 duration: 3.185s\n",
            "epoch: 57/100 batch: 10 loss: 79.88251 cur_accuracy: 0.3 test_accuracy: 0.36614174 duration: 3.829s\n",
            "epoch: 57/100 batch: 20 loss: 185.45242 cur_accuracy: 0.1 test_accuracy: 0.26377952 duration: 3.201s\n",
            "epoch: 57/100 batch: 30 loss: 431.21637 cur_accuracy: 0.0 test_accuracy: 0.22440945 duration: 3.198s\n",
            "epoch: 57/100 batch: 40 loss: 80.77316 cur_accuracy: 0.2 test_accuracy: 0.24409449 duration: 3.204s\n",
            "epoch: 57/100 batch: 50 loss: 189.7089 cur_accuracy: 0.2 test_accuracy: 0.1496063 duration: 3.190s\n",
            "epoch: 57/100 batch: 60 loss: 72.99943 cur_accuracy: 0.5 test_accuracy: 0.19685039 duration: 3.215s\n",
            "epoch: 58/100 batch: 10 loss: 150.12889 cur_accuracy: 0.4 test_accuracy: 0.2519685 duration: 3.820s\n",
            "epoch: 58/100 batch: 20 loss: 232.37822 cur_accuracy: 0.2 test_accuracy: 0.23228346 duration: 3.196s\n",
            "epoch: 58/100 batch: 30 loss: 59.46473 cur_accuracy: 0.3 test_accuracy: 0.39370078 duration: 3.177s\n",
            "epoch: 58/100 batch: 40 loss: 49.33443 cur_accuracy: 0.4 test_accuracy: 0.48425198 duration: 3.261s\n",
            "epoch: 58/100 batch: 50 loss: 104.29164 cur_accuracy: 0.3 test_accuracy: 0.37007874 duration: 3.230s\n",
            "epoch: 58/100 batch: 60 loss: 141.3457 cur_accuracy: 0.1 test_accuracy: 0.26377952 duration: 3.215s\n",
            "epoch: 59/100 batch: 10 loss: 150.32085 cur_accuracy: 0.1 test_accuracy: 0.3503937 duration: 3.875s\n",
            "epoch: 59/100 batch: 20 loss: 179.27792 cur_accuracy: 0.1 test_accuracy: 0.19685039 duration: 3.238s\n",
            "epoch: 59/100 batch: 30 loss: 69.3032 cur_accuracy: 0.3 test_accuracy: 0.2874016 duration: 3.255s\n",
            "epoch: 59/100 batch: 40 loss: 241.10762 cur_accuracy: 0.2 test_accuracy: 0.18897638 duration: 3.216s\n",
            "epoch: 59/100 batch: 50 loss: 78.709915 cur_accuracy: 0.4 test_accuracy: 0.21259843 duration: 3.185s\n",
            "epoch: 59/100 batch: 60 loss: 210.74362 cur_accuracy: 0.1 test_accuracy: 0.22834645 duration: 3.244s\n"
          ],
          "name": "stdout"
        },
        {
          "output_type": "stream",
          "text": [
            "epoch: 60/100 batch: 10 loss: 117.492714 cur_accuracy: 0.3 test_accuracy: 0.18897638 duration: 3.828s\n",
            "epoch: 60/100 batch: 20 loss: 199.5331 cur_accuracy: 0.4 test_accuracy: 0.20866142 duration: 3.204s\n",
            "epoch: 60/100 batch: 30 loss: 74.902176 cur_accuracy: 0.4 test_accuracy: 0.17716536 duration: 3.215s\n",
            "epoch: 60/100 batch: 40 loss: 55.916363 cur_accuracy: 0.3 test_accuracy: 0.2519685 duration: 3.205s\n",
            "epoch: 60/100 batch: 50 loss: 18.405474 cur_accuracy: 0.7 test_accuracy: 0.27165353 duration: 3.233s\n",
            "epoch: 60/100 batch: 60 loss: 104.17488 cur_accuracy: 0.1 test_accuracy: 0.22047244 duration: 3.184s\n",
            "epoch: 61/100 batch: 10 loss: 35.11544 cur_accuracy: 0.5 test_accuracy: 0.23622048 duration: 3.790s\n",
            "epoch: 61/100 batch: 20 loss: 92.92961 cur_accuracy: 0.2 test_accuracy: 0.16929133 duration: 3.225s\n",
            "epoch: 61/100 batch: 30 loss: 183.14157 cur_accuracy: 0.3 test_accuracy: 0.16929133 duration: 3.215s\n",
            "epoch: 61/100 batch: 40 loss: 297.13846 cur_accuracy: 0.0 test_accuracy: 0.16929133 duration: 3.201s\n",
            "epoch: 61/100 batch: 50 loss: 171.15422 cur_accuracy: 0.2 test_accuracy: 0.22834645 duration: 3.200s\n",
            "epoch: 61/100 batch: 60 loss: 71.359505 cur_accuracy: 0.2 test_accuracy: 0.24409449 duration: 3.170s\n",
            "epoch: 62/100 batch: 10 loss: 123.974014 cur_accuracy: 0.1 test_accuracy: 0.27559054 duration: 3.830s\n",
            "epoch: 62/100 batch: 20 loss: 265.02762 cur_accuracy: 0.2 test_accuracy: 0.22834645 duration: 3.219s\n",
            "epoch: 62/100 batch: 30 loss: 119.98518 cur_accuracy: 0.1 test_accuracy: 0.23228346 duration: 3.150s\n",
            "epoch: 62/100 batch: 40 loss: 114.38289 cur_accuracy: 0.2 test_accuracy: 0.27559054 duration: 3.227s\n",
            "epoch: 62/100 batch: 50 loss: 71.49298 cur_accuracy: 0.3 test_accuracy: 0.2913386 duration: 3.194s\n",
            "epoch: 62/100 batch: 60 loss: 150.92953 cur_accuracy: 0.1 test_accuracy: 0.21653543 duration: 3.197s\n",
            "epoch: 63/100 batch: 10 loss: 70.0503 cur_accuracy: 0.3 test_accuracy: 0.31889763 duration: 3.835s\n",
            "epoch: 63/100 batch: 20 loss: 42.261333 cur_accuracy: 0.3 test_accuracy: 0.23622048 duration: 3.211s\n",
            "epoch: 63/100 batch: 30 loss: 72.60652 cur_accuracy: 0.1 test_accuracy: 0.31496063 duration: 3.237s\n",
            "epoch: 63/100 batch: 40 loss: 64.456436 cur_accuracy: 0.3 test_accuracy: 0.36220473 duration: 3.195s\n",
            "epoch: 63/100 batch: 50 loss: 179.82901 cur_accuracy: 0.2 test_accuracy: 0.22834645 duration: 3.226s\n",
            "epoch: 63/100 batch: 60 loss: 113.977844 cur_accuracy: 0.0 test_accuracy: 0.27559054 duration: 3.226s\n",
            "epoch: 64/100 batch: 10 loss: 82.64055 cur_accuracy: 0.1 test_accuracy: 0.23622048 duration: 3.843s\n",
            "epoch: 64/100 batch: 20 loss: 37.43872 cur_accuracy: 0.6 test_accuracy: 0.28346458 duration: 3.264s\n",
            "epoch: 64/100 batch: 30 loss: 37.140793 cur_accuracy: 0.3 test_accuracy: 0.31102362 duration: 3.191s\n",
            "epoch: 64/100 batch: 40 loss: 126.55239 cur_accuracy: 0.2 test_accuracy: 0.2480315 duration: 3.205s\n",
            "epoch: 64/100 batch: 50 loss: 155.76102 cur_accuracy: 0.3 test_accuracy: 0.23228346 duration: 3.220s\n",
            "epoch: 64/100 batch: 60 loss: 184.70482 cur_accuracy: 0.2 test_accuracy: 0.27952754 duration: 3.227s\n",
            "epoch: 65/100 batch: 10 loss: 48.584553 cur_accuracy: 0.2 test_accuracy: 0.35826772 duration: 3.863s\n",
            "epoch: 65/100 batch: 20 loss: 24.516308 cur_accuracy: 0.3 test_accuracy: 0.2992126 duration: 3.211s\n",
            "epoch: 65/100 batch: 30 loss: 15.596617 cur_accuracy: 0.7 test_accuracy: 0.26377952 duration: 3.205s\n",
            "epoch: 65/100 batch: 40 loss: 76.72443 cur_accuracy: 0.4 test_accuracy: 0.41732284 duration: 3.213s\n",
            "epoch: 65/100 batch: 50 loss: 285.6696 cur_accuracy: 0.2 test_accuracy: 0.28346458 duration: 3.253s\n",
            "epoch: 65/100 batch: 60 loss: 72.63914 cur_accuracy: 0.2 test_accuracy: 0.37007874 duration: 3.202s\n",
            "epoch: 66/100 batch: 10 loss: 108.36568 cur_accuracy: 0.1 test_accuracy: 0.23622048 duration: 3.827s\n",
            "epoch: 66/100 batch: 20 loss: 50.379463 cur_accuracy: 0.4 test_accuracy: 0.27952754 duration: 3.218s\n",
            "epoch: 66/100 batch: 30 loss: 179.88664 cur_accuracy: 0.1 test_accuracy: 0.23228346 duration: 3.266s\n",
            "epoch: 66/100 batch: 40 loss: 125.015625 cur_accuracy: 0.2 test_accuracy: 0.2952756 duration: 3.240s\n",
            "epoch: 66/100 batch: 50 loss: 98.30425 cur_accuracy: 0.2 test_accuracy: 0.3031496 duration: 3.246s\n",
            "epoch: 66/100 batch: 60 loss: 160.16377 cur_accuracy: 0.3 test_accuracy: 0.23622048 duration: 3.232s\n",
            "epoch: 67/100 batch: 10 loss: 454.02686 cur_accuracy: 0.3 test_accuracy: 0.23228346 duration: 3.832s\n",
            "epoch: 67/100 batch: 20 loss: 351.06998 cur_accuracy: 0.2 test_accuracy: 0.23228346 duration: 3.208s\n"
          ],
          "name": "stdout"
        },
        {
          "output_type": "stream",
          "text": [
            "epoch: 67/100 batch: 30 loss: 119.839294 cur_accuracy: 0.3 test_accuracy: 0.24409449 duration: 3.239s\n",
            "epoch: 67/100 batch: 40 loss: 186.57315 cur_accuracy: 0.2 test_accuracy: 0.2480315 duration: 3.202s\n",
            "epoch: 67/100 batch: 50 loss: 144.11203 cur_accuracy: 0.3 test_accuracy: 0.2519685 duration: 3.234s\n",
            "epoch: 67/100 batch: 60 loss: 130.07039 cur_accuracy: 0.3 test_accuracy: 0.22834645 duration: 3.181s\n",
            "epoch: 68/100 batch: 10 loss: 180.64056 cur_accuracy: 0.2 test_accuracy: 0.22834645 duration: 3.801s\n",
            "epoch: 68/100 batch: 20 loss: 150.25731 cur_accuracy: 0.2 test_accuracy: 0.24409449 duration: 3.180s\n",
            "epoch: 68/100 batch: 30 loss: 75.12168 cur_accuracy: 0.3 test_accuracy: 0.34251967 duration: 3.192s\n",
            "epoch: 68/100 batch: 40 loss: 101.99341 cur_accuracy: 0.2 test_accuracy: 0.2992126 duration: 3.164s\n",
            "epoch: 68/100 batch: 50 loss: 188.04185 cur_accuracy: 0.3 test_accuracy: 0.24015749 duration: 3.163s\n",
            "epoch: 68/100 batch: 60 loss: 352.92438 cur_accuracy: 0.2 test_accuracy: 0.2480315 duration: 3.181s\n",
            "epoch: 69/100 batch: 10 loss: 158.288 cur_accuracy: 0.2 test_accuracy: 0.22047244 duration: 3.791s\n",
            "epoch: 69/100 batch: 20 loss: 251.94173 cur_accuracy: 0.0 test_accuracy: 0.22440945 duration: 3.156s\n",
            "epoch: 69/100 batch: 30 loss: 52.17983 cur_accuracy: 0.3 test_accuracy: 0.20472442 duration: 3.181s\n",
            "epoch: 69/100 batch: 40 loss: 82.689606 cur_accuracy: 0.5 test_accuracy: 0.27165353 duration: 3.158s\n",
            "epoch: 69/100 batch: 50 loss: 74.60755 cur_accuracy: 0.4 test_accuracy: 0.31496063 duration: 3.166s\n",
            "epoch: 69/100 batch: 60 loss: 71.24766 cur_accuracy: 0.2 test_accuracy: 0.26377952 duration: 3.177s\n",
            "epoch: 70/100 batch: 10 loss: 161.29143 cur_accuracy: 0.3 test_accuracy: 0.22834645 duration: 3.820s\n",
            "epoch: 70/100 batch: 20 loss: 165.47412 cur_accuracy: 0.2 test_accuracy: 0.23228346 duration: 3.216s\n",
            "epoch: 70/100 batch: 30 loss: 47.671684 cur_accuracy: 0.2 test_accuracy: 0.33858266 duration: 3.182s\n",
            "epoch: 70/100 batch: 40 loss: 39.869953 cur_accuracy: 0.4 test_accuracy: 0.19291338 duration: 3.195s\n",
            "epoch: 70/100 batch: 50 loss: 91.046425 cur_accuracy: 0.3 test_accuracy: 0.23228346 duration: 3.211s\n",
            "epoch: 70/100 batch: 60 loss: 118.08441 cur_accuracy: 0.2 test_accuracy: 0.2480315 duration: 3.153s\n",
            "epoch: 71/100 batch: 10 loss: 80.13124 cur_accuracy: 0.2 test_accuracy: 0.27559054 duration: 3.786s\n",
            "epoch: 71/100 batch: 20 loss: 132.54953 cur_accuracy: 0.3 test_accuracy: 0.28346458 duration: 3.176s\n",
            "epoch: 71/100 batch: 30 loss: 34.409084 cur_accuracy: 0.5 test_accuracy: 0.3503937 duration: 3.189s\n",
            "epoch: 71/100 batch: 40 loss: 54.245197 cur_accuracy: 0.3 test_accuracy: 0.27559054 duration: 3.165s\n",
            "epoch: 71/100 batch: 50 loss: 26.005085 cur_accuracy: 0.6 test_accuracy: 0.25984251 duration: 3.172s\n",
            "epoch: 71/100 batch: 60 loss: 58.386925 cur_accuracy: 0.3 test_accuracy: 0.33464566 duration: 3.187s\n",
            "epoch: 72/100 batch: 10 loss: 248.44858 cur_accuracy: 0.2 test_accuracy: 0.27559054 duration: 3.788s\n",
            "epoch: 72/100 batch: 20 loss: 52.139 cur_accuracy: 0.1 test_accuracy: 0.30708662 duration: 3.187s\n",
            "epoch: 72/100 batch: 30 loss: 144.8414 cur_accuracy: 0.1 test_accuracy: 0.2519685 duration: 3.216s\n",
            "epoch: 72/100 batch: 40 loss: 119.0863 cur_accuracy: 0.3 test_accuracy: 0.22047244 duration: 3.225s\n",
            "epoch: 72/100 batch: 50 loss: 265.5402 cur_accuracy: 0.1 test_accuracy: 0.24409449 duration: 3.185s\n",
            "epoch: 72/100 batch: 60 loss: 164.05759 cur_accuracy: 0.3 test_accuracy: 0.27559054 duration: 3.219s\n",
            "epoch: 73/100 batch: 10 loss: 119.231346 cur_accuracy: 0.4 test_accuracy: 0.24409449 duration: 3.800s\n",
            "epoch: 73/100 batch: 20 loss: 74.66783 cur_accuracy: 0.5 test_accuracy: 0.23228346 duration: 3.190s\n",
            "epoch: 73/100 batch: 30 loss: 101.64685 cur_accuracy: 0.4 test_accuracy: 0.23228346 duration: 3.197s\n",
            "epoch: 73/100 batch: 40 loss: 130.85562 cur_accuracy: 0.2 test_accuracy: 0.27165353 duration: 3.215s\n",
            "epoch: 73/100 batch: 50 loss: 70.62419 cur_accuracy: 0.4 test_accuracy: 0.35433072 duration: 3.212s\n",
            "epoch: 73/100 batch: 60 loss: 71.70707 cur_accuracy: 0.1 test_accuracy: 0.3464567 duration: 3.198s\n",
            "epoch: 74/100 batch: 10 loss: 137.16435 cur_accuracy: 0.1 test_accuracy: 0.2874016 duration: 3.811s\n",
            "epoch: 74/100 batch: 20 loss: 182.18726 cur_accuracy: 0.1 test_accuracy: 0.27952754 duration: 3.224s\n",
            "epoch: 74/100 batch: 30 loss: 137.11697 cur_accuracy: 0.3 test_accuracy: 0.26377952 duration: 3.205s\n",
            "epoch: 74/100 batch: 40 loss: 183.79025 cur_accuracy: 0.3 test_accuracy: 0.22834645 duration: 3.189s\n"
          ],
          "name": "stdout"
        },
        {
          "output_type": "stream",
          "text": [
            "epoch: 74/100 batch: 50 loss: 149.65738 cur_accuracy: 0.1 test_accuracy: 0.22440945 duration: 3.199s\n",
            "epoch: 74/100 batch: 60 loss: 90.43384 cur_accuracy: 0.4 test_accuracy: 0.23622048 duration: 3.190s\n",
            "epoch: 75/100 batch: 10 loss: 87.738365 cur_accuracy: 0.1 test_accuracy: 0.16929133 duration: 3.774s\n",
            "epoch: 75/100 batch: 20 loss: 72.90897 cur_accuracy: 0.5 test_accuracy: 0.16141732 duration: 3.218s\n",
            "epoch: 75/100 batch: 30 loss: 209.69087 cur_accuracy: 0.2 test_accuracy: 0.1496063 duration: 3.195s\n",
            "epoch: 75/100 batch: 40 loss: 57.02003 cur_accuracy: 0.4 test_accuracy: 0.15354331 duration: 3.210s\n",
            "epoch: 75/100 batch: 50 loss: 84.62518 cur_accuracy: 0.3 test_accuracy: 0.22047244 duration: 3.207s\n",
            "epoch: 75/100 batch: 60 loss: 106.16958 cur_accuracy: 0.1 test_accuracy: 0.26377952 duration: 3.206s\n",
            "epoch: 76/100 batch: 10 loss: 66.84199 cur_accuracy: 0.4 test_accuracy: 0.3464567 duration: 3.824s\n",
            "epoch: 76/100 batch: 20 loss: 37.960716 cur_accuracy: 0.3 test_accuracy: 0.31496063 duration: 3.181s\n",
            "epoch: 76/100 batch: 30 loss: 67.58971 cur_accuracy: 0.4 test_accuracy: 0.32283464 duration: 3.196s\n",
            "epoch: 76/100 batch: 40 loss: 190.10867 cur_accuracy: 0.1 test_accuracy: 0.25984251 duration: 3.195s\n",
            "epoch: 76/100 batch: 50 loss: 50.32528 cur_accuracy: 0.2 test_accuracy: 0.27952754 duration: 3.180s\n",
            "epoch: 76/100 batch: 60 loss: 67.13662 cur_accuracy: 0.4 test_accuracy: 0.33070865 duration: 3.174s\n",
            "epoch: 77/100 batch: 10 loss: 96.35368 cur_accuracy: 0.1 test_accuracy: 0.22440945 duration: 3.786s\n",
            "epoch: 77/100 batch: 20 loss: 47.104618 cur_accuracy: 0.3 test_accuracy: 0.24409449 duration: 3.180s\n",
            "epoch: 77/100 batch: 30 loss: 76.70964 cur_accuracy: 0.1 test_accuracy: 0.2913386 duration: 3.220s\n",
            "epoch: 77/100 batch: 40 loss: 33.244278 cur_accuracy: 0.2 test_accuracy: 0.20866142 duration: 3.210s\n",
            "epoch: 77/100 batch: 50 loss: 50.30882 cur_accuracy: 0.3 test_accuracy: 0.23228346 duration: 3.208s\n",
            "epoch: 77/100 batch: 60 loss: 65.38629 cur_accuracy: 0.1 test_accuracy: 0.2480315 duration: 3.207s\n",
            "epoch: 78/100 batch: 10 loss: 16.1365 cur_accuracy: 0.5 test_accuracy: 0.27559054 duration: 3.817s\n",
            "epoch: 78/100 batch: 20 loss: 112.473816 cur_accuracy: 0.1 test_accuracy: 0.27165353 duration: 3.194s\n",
            "epoch: 78/100 batch: 30 loss: 29.664454 cur_accuracy: 0.2 test_accuracy: 0.38188976 duration: 3.208s\n",
            "epoch: 78/100 batch: 40 loss: 24.571255 cur_accuracy: 0.4 test_accuracy: 0.30708662 duration: 3.200s\n",
            "epoch: 78/100 batch: 50 loss: 64.20954 cur_accuracy: 0.2 test_accuracy: 0.32283464 duration: 3.205s\n",
            "epoch: 78/100 batch: 60 loss: 67.21578 cur_accuracy: 0.2 test_accuracy: 0.26771653 duration: 3.213s\n",
            "epoch: 79/100 batch: 10 loss: 109.18069 cur_accuracy: 0.4 test_accuracy: 0.26771653 duration: 3.738s\n",
            "epoch: 79/100 batch: 20 loss: 28.450012 cur_accuracy: 0.3 test_accuracy: 0.25984251 duration: 3.169s\n",
            "epoch: 79/100 batch: 30 loss: 43.40616 cur_accuracy: 0.5 test_accuracy: 0.25984251 duration: 3.203s\n",
            "epoch: 79/100 batch: 40 loss: 80.723465 cur_accuracy: 0.1 test_accuracy: 0.27952754 duration: 3.182s\n",
            "epoch: 79/100 batch: 50 loss: 46.84046 cur_accuracy: 0.3 test_accuracy: 0.31496063 duration: 3.181s\n",
            "epoch: 79/100 batch: 60 loss: 104.53267 cur_accuracy: 0.4 test_accuracy: 0.32677165 duration: 3.204s\n",
            "epoch: 80/100 batch: 10 loss: 71.19341 cur_accuracy: 0.0 test_accuracy: 0.32677165 duration: 3.793s\n",
            "epoch: 80/100 batch: 20 loss: 88.42535 cur_accuracy: 0.3 test_accuracy: 0.31102362 duration: 3.230s\n",
            "epoch: 80/100 batch: 30 loss: 15.3646145 cur_accuracy: 0.5 test_accuracy: 0.3031496 duration: 3.244s\n",
            "epoch: 80/100 batch: 40 loss: 28.543911 cur_accuracy: 0.3 test_accuracy: 0.31889763 duration: 3.235s\n",
            "epoch: 80/100 batch: 50 loss: 93.83244 cur_accuracy: 0.1 test_accuracy: 0.16535433 duration: 3.214s\n",
            "epoch: 80/100 batch: 60 loss: 38.603382 cur_accuracy: 0.2 test_accuracy: 0.28346458 duration: 3.263s\n",
            "epoch: 81/100 batch: 10 loss: 29.682333 cur_accuracy: 0.6 test_accuracy: 0.32283464 duration: 3.825s\n",
            "epoch: 81/100 batch: 20 loss: 80.00574 cur_accuracy: 0.2 test_accuracy: 0.28346458 duration: 3.193s\n",
            "epoch: 81/100 batch: 30 loss: 99.26829 cur_accuracy: 0.3 test_accuracy: 0.27559054 duration: 3.210s\n",
            "epoch: 81/100 batch: 40 loss: 87.50914 cur_accuracy: 0.1 test_accuracy: 0.2480315 duration: 3.196s\n",
            "epoch: 81/100 batch: 50 loss: 42.386253 cur_accuracy: 0.4 test_accuracy: 0.26771653 duration: 3.176s\n",
            "epoch: 81/100 batch: 60 loss: 22.913416 cur_accuracy: 0.1 test_accuracy: 0.3503937 duration: 3.187s\n"
          ],
          "name": "stdout"
        },
        {
          "output_type": "stream",
          "text": [
            "epoch: 82/100 batch: 10 loss: 188.25876 cur_accuracy: 0.2 test_accuracy: 0.23622048 duration: 3.794s\n",
            "epoch: 82/100 batch: 20 loss: 47.3853 cur_accuracy: 0.3 test_accuracy: 0.3464567 duration: 3.201s\n",
            "epoch: 82/100 batch: 30 loss: 35.329494 cur_accuracy: 0.1 test_accuracy: 0.33858266 duration: 3.223s\n",
            "epoch: 82/100 batch: 40 loss: 75.26611 cur_accuracy: 0.0 test_accuracy: 0.27165353 duration: 3.168s\n",
            "epoch: 82/100 batch: 50 loss: 23.377579 cur_accuracy: 0.5 test_accuracy: 0.35433072 duration: 3.199s\n",
            "epoch: 82/100 batch: 60 loss: 30.495478 cur_accuracy: 0.4 test_accuracy: 0.33858266 duration: 3.190s\n",
            "epoch: 83/100 batch: 10 loss: 49.81167 cur_accuracy: 0.1 test_accuracy: 0.20472442 duration: 3.828s\n",
            "epoch: 83/100 batch: 20 loss: 8.330151 cur_accuracy: 0.7 test_accuracy: 0.2992126 duration: 3.208s\n",
            "epoch: 83/100 batch: 30 loss: 29.356823 cur_accuracy: 0.1 test_accuracy: 0.25984251 duration: 3.196s\n",
            "epoch: 83/100 batch: 40 loss: 51.34912 cur_accuracy: 0.3 test_accuracy: 0.20472442 duration: 3.193s\n",
            "epoch: 83/100 batch: 50 loss: 99.02272 cur_accuracy: 0.3 test_accuracy: 0.22047244 duration: 3.216s\n",
            "epoch: 83/100 batch: 60 loss: 58.13631 cur_accuracy: 0.4 test_accuracy: 0.2913386 duration: 3.201s\n",
            "epoch: 84/100 batch: 10 loss: 8.860495 cur_accuracy: 0.5 test_accuracy: 0.37007874 duration: 3.784s\n",
            "epoch: 84/100 batch: 20 loss: 31.603674 cur_accuracy: 0.3 test_accuracy: 0.27952754 duration: 3.202s\n",
            "epoch: 84/100 batch: 30 loss: 33.03204 cur_accuracy: 0.2 test_accuracy: 0.30708662 duration: 3.173s\n",
            "epoch: 84/100 batch: 40 loss: 27.056042 cur_accuracy: 0.5 test_accuracy: 0.2952756 duration: 3.153s\n",
            "epoch: 84/100 batch: 50 loss: 69.32704 cur_accuracy: 0.1 test_accuracy: 0.26377952 duration: 3.197s\n",
            "epoch: 84/100 batch: 60 loss: 28.036276 cur_accuracy: 0.6 test_accuracy: 0.31889763 duration: 3.226s\n",
            "epoch: 85/100 batch: 10 loss: 35.670387 cur_accuracy: 0.5 test_accuracy: 0.23622048 duration: 3.791s\n",
            "epoch: 85/100 batch: 20 loss: 56.121643 cur_accuracy: 0.2 test_accuracy: 0.20472442 duration: 3.209s\n",
            "epoch: 85/100 batch: 30 loss: 25.033058 cur_accuracy: 0.1 test_accuracy: 0.18503937 duration: 3.220s\n",
            "epoch: 85/100 batch: 40 loss: 38.04438 cur_accuracy: 0.2 test_accuracy: 0.26771653 duration: 3.198s\n",
            "epoch: 85/100 batch: 50 loss: 30.591904 cur_accuracy: 0.4 test_accuracy: 0.26377952 duration: 3.179s\n",
            "epoch: 85/100 batch: 60 loss: 43.68856 cur_accuracy: 0.3 test_accuracy: 0.24015749 duration: 3.180s\n",
            "epoch: 86/100 batch: 10 loss: 28.50642 cur_accuracy: 0.4 test_accuracy: 0.32283464 duration: 3.804s\n",
            "epoch: 86/100 batch: 20 loss: 12.107531 cur_accuracy: 0.4 test_accuracy: 0.31102362 duration: 3.208s\n",
            "epoch: 86/100 batch: 30 loss: 32.688454 cur_accuracy: 0.4 test_accuracy: 0.33858266 duration: 3.198s\n",
            "epoch: 86/100 batch: 40 loss: 38.243664 cur_accuracy: 0.2 test_accuracy: 0.30708662 duration: 3.206s\n",
            "epoch: 86/100 batch: 50 loss: 18.07452 cur_accuracy: 0.2 test_accuracy: 0.41338584 duration: 3.199s\n",
            "epoch: 86/100 batch: 60 loss: 16.299723 cur_accuracy: 0.3 test_accuracy: 0.37795275 duration: 3.184s\n",
            "epoch: 87/100 batch: 10 loss: 37.418648 cur_accuracy: 0.4 test_accuracy: 0.44094488 duration: 3.817s\n",
            "epoch: 87/100 batch: 20 loss: 8.04745 cur_accuracy: 0.6 test_accuracy: 0.44094488 duration: 3.174s\n",
            "epoch: 87/100 batch: 30 loss: 8.977806 cur_accuracy: 0.4 test_accuracy: 0.3503937 duration: 3.212s\n",
            "epoch: 87/100 batch: 40 loss: 15.191408 cur_accuracy: 0.7 test_accuracy: 0.27559054 duration: 3.218s\n",
            "epoch: 87/100 batch: 50 loss: 31.533615 cur_accuracy: 0.1 test_accuracy: 0.26377952 duration: 3.214s\n",
            "epoch: 87/100 batch: 60 loss: 38.24447 cur_accuracy: 0.1 test_accuracy: 0.2519685 duration: 3.175s\n",
            "epoch: 88/100 batch: 10 loss: 35.920227 cur_accuracy: 0.3 test_accuracy: 0.33070865 duration: 3.783s\n",
            "epoch: 88/100 batch: 20 loss: 15.158472 cur_accuracy: 0.5 test_accuracy: 0.28346458 duration: 3.185s\n",
            "epoch: 88/100 batch: 30 loss: 19.19431 cur_accuracy: 0.3 test_accuracy: 0.28346458 duration: 3.174s\n",
            "epoch: 88/100 batch: 40 loss: 52.563915 cur_accuracy: 0.4 test_accuracy: 0.27952754 duration: 3.177s\n",
            "epoch: 88/100 batch: 50 loss: 67.59197 cur_accuracy: 0.2 test_accuracy: 0.28346458 duration: 3.183s\n",
            "epoch: 88/100 batch: 60 loss: 36.731575 cur_accuracy: 0.4 test_accuracy: 0.2952756 duration: 3.199s\n",
            "epoch: 89/100 batch: 10 loss: 48.412594 cur_accuracy: 0.5 test_accuracy: 0.21259843 duration: 3.801s\n",
            "epoch: 89/100 batch: 20 loss: 17.817783 cur_accuracy: 0.2 test_accuracy: 0.19685039 duration: 3.172s\n"
          ],
          "name": "stdout"
        },
        {
          "output_type": "stream",
          "text": [
            "epoch: 89/100 batch: 30 loss: 31.932312 cur_accuracy: 0.3 test_accuracy: 0.27165353 duration: 3.198s\n",
            "epoch: 89/100 batch: 40 loss: 18.869473 cur_accuracy: 0.5 test_accuracy: 0.4566929 duration: 3.167s\n",
            "epoch: 89/100 batch: 50 loss: 77.50246 cur_accuracy: 0.1 test_accuracy: 0.33464566 duration: 3.205s\n",
            "epoch: 89/100 batch: 60 loss: 4.5757165 cur_accuracy: 0.7 test_accuracy: 0.38582677 duration: 3.208s\n",
            "epoch: 90/100 batch: 10 loss: 4.4334574 cur_accuracy: 0.8 test_accuracy: 0.28346458 duration: 3.783s\n",
            "epoch: 90/100 batch: 20 loss: 11.378365 cur_accuracy: 0.4 test_accuracy: 0.26771653 duration: 3.187s\n",
            "epoch: 90/100 batch: 30 loss: 23.522457 cur_accuracy: 0.3 test_accuracy: 0.25984251 duration: 3.188s\n",
            "epoch: 90/100 batch: 40 loss: 23.836437 cur_accuracy: 0.5 test_accuracy: 0.35826772 duration: 3.140s\n",
            "epoch: 90/100 batch: 50 loss: 17.78371 cur_accuracy: 0.4 test_accuracy: 0.35433072 duration: 3.221s\n",
            "epoch: 90/100 batch: 60 loss: 5.3328953 cur_accuracy: 0.5 test_accuracy: 0.2992126 duration: 3.228s\n",
            "epoch: 91/100 batch: 10 loss: 38.321693 cur_accuracy: 0.2 test_accuracy: 0.17322835 duration: 3.805s\n",
            "epoch: 91/100 batch: 20 loss: 43.206177 cur_accuracy: 0.4 test_accuracy: 0.22047244 duration: 3.221s\n",
            "epoch: 91/100 batch: 30 loss: 14.155719 cur_accuracy: 0.7 test_accuracy: 0.18110237 duration: 3.200s\n",
            "epoch: 91/100 batch: 40 loss: 49.248215 cur_accuracy: 0.2 test_accuracy: 0.19291338 duration: 3.213s\n",
            "epoch: 91/100 batch: 50 loss: 33.585854 cur_accuracy: 0.5 test_accuracy: 0.21653543 duration: 3.191s\n",
            "epoch: 91/100 batch: 60 loss: 45.97316 cur_accuracy: 0.3 test_accuracy: 0.24015749 duration: 3.189s\n",
            "epoch: 92/100 batch: 10 loss: 51.68032 cur_accuracy: 0.2 test_accuracy: 0.31889763 duration: 3.806s\n",
            "epoch: 92/100 batch: 20 loss: 44.910076 cur_accuracy: 0.4 test_accuracy: 0.31496063 duration: 3.211s\n",
            "epoch: 92/100 batch: 30 loss: 127.29269 cur_accuracy: 0.1 test_accuracy: 0.31496063 duration: 3.193s\n",
            "epoch: 92/100 batch: 40 loss: 69.0116 cur_accuracy: 0.2 test_accuracy: 0.3503937 duration: 3.182s\n",
            "epoch: 92/100 batch: 50 loss: 53.344666 cur_accuracy: 0.5 test_accuracy: 0.3464567 duration: 3.180s\n",
            "epoch: 92/100 batch: 60 loss: 62.101074 cur_accuracy: 0.0 test_accuracy: 0.3503937 duration: 3.182s\n",
            "epoch: 93/100 batch: 10 loss: 12.82646 cur_accuracy: 0.7 test_accuracy: 0.32677165 duration: 3.852s\n",
            "epoch: 93/100 batch: 20 loss: 33.824932 cur_accuracy: 0.2 test_accuracy: 0.35826772 duration: 3.190s\n",
            "epoch: 93/100 batch: 30 loss: 26.001932 cur_accuracy: 0.4 test_accuracy: 0.3503937 duration: 3.230s\n",
            "epoch: 93/100 batch: 40 loss: 30.71102 cur_accuracy: 0.1 test_accuracy: 0.43700787 duration: 3.199s\n",
            "epoch: 93/100 batch: 50 loss: 18.722881 cur_accuracy: 0.2 test_accuracy: 0.4566929 duration: 3.184s\n",
            "epoch: 93/100 batch: 60 loss: 57.229958 cur_accuracy: 0.4 test_accuracy: 0.36614174 duration: 3.127s\n",
            "epoch: 94/100 batch: 10 loss: 17.220207 cur_accuracy: 0.3 test_accuracy: 0.4606299 duration: 3.757s\n",
            "epoch: 94/100 batch: 20 loss: 24.090736 cur_accuracy: 0.2 test_accuracy: 0.47637796 duration: 3.110s\n",
            "epoch: 94/100 batch: 30 loss: 76.11526 cur_accuracy: 0.2 test_accuracy: 0.36220473 duration: 3.162s\n",
            "epoch: 94/100 batch: 40 loss: 48.76312 cur_accuracy: 0.3 test_accuracy: 0.42913386 duration: 3.136s\n",
            "epoch: 94/100 batch: 50 loss: 25.74265 cur_accuracy: 0.3 test_accuracy: 0.42913386 duration: 3.108s\n",
            "epoch: 94/100 batch: 60 loss: 33.870415 cur_accuracy: 0.3 test_accuracy: 0.33858266 duration: 3.140s\n",
            "epoch: 95/100 batch: 10 loss: 28.618786 cur_accuracy: 0.3 test_accuracy: 0.46456692 duration: 3.741s\n",
            "epoch: 95/100 batch: 20 loss: 15.108815 cur_accuracy: 0.5 test_accuracy: 0.36614174 duration: 3.133s\n",
            "epoch: 95/100 batch: 30 loss: 33.662086 cur_accuracy: 0.3 test_accuracy: 0.39763778 duration: 3.190s\n",
            "epoch: 95/100 batch: 40 loss: 3.9007442 cur_accuracy: 0.8 test_accuracy: 0.38976377 duration: 3.183s\n",
            "epoch: 95/100 batch: 50 loss: 2.8254485 cur_accuracy: 0.6 test_accuracy: 0.36614174 duration: 3.167s\n",
            "epoch: 95/100 batch: 60 loss: 7.277026 cur_accuracy: 0.5 test_accuracy: 0.27952754 duration: 3.168s\n",
            "epoch: 96/100 batch: 10 loss: 45.568474 cur_accuracy: 0.3 test_accuracy: 0.22047244 duration: 3.806s\n",
            "epoch: 96/100 batch: 20 loss: 32.115433 cur_accuracy: 0.6 test_accuracy: 0.27952754 duration: 3.163s\n",
            "epoch: 96/100 batch: 30 loss: 37.719994 cur_accuracy: 0.4 test_accuracy: 0.2952756 duration: 3.163s\n",
            "epoch: 96/100 batch: 40 loss: 36.780373 cur_accuracy: 0.4 test_accuracy: 0.2913386 duration: 3.149s\n"
          ],
          "name": "stdout"
        },
        {
          "output_type": "stream",
          "text": [
            "epoch: 96/100 batch: 50 loss: 69.78088 cur_accuracy: 0.2 test_accuracy: 0.26771653 duration: 3.161s\n",
            "epoch: 96/100 batch: 60 loss: 7.7269754 cur_accuracy: 0.4 test_accuracy: 0.2480315 duration: 3.151s\n",
            "epoch: 97/100 batch: 10 loss: 17.862232 cur_accuracy: 0.5 test_accuracy: 0.31889763 duration: 3.772s\n",
            "epoch: 97/100 batch: 20 loss: 28.166742 cur_accuracy: 0.3 test_accuracy: 0.31496063 duration: 3.180s\n",
            "epoch: 97/100 batch: 30 loss: 13.988126 cur_accuracy: 0.3 test_accuracy: 0.24015749 duration: 3.175s\n",
            "epoch: 97/100 batch: 40 loss: 26.440622 cur_accuracy: 0.3 test_accuracy: 0.3503937 duration: 3.163s\n",
            "epoch: 97/100 batch: 50 loss: 14.847799 cur_accuracy: 0.6 test_accuracy: 0.32677165 duration: 3.157s\n",
            "epoch: 97/100 batch: 60 loss: 24.662603 cur_accuracy: 0.4 test_accuracy: 0.31889763 duration: 3.162s\n",
            "epoch: 98/100 batch: 10 loss: 13.2462635 cur_accuracy: 0.4 test_accuracy: 0.33464566 duration: 3.792s\n",
            "epoch: 98/100 batch: 20 loss: 12.327204 cur_accuracy: 0.6 test_accuracy: 0.41338584 duration: 3.137s\n",
            "epoch: 98/100 batch: 30 loss: 20.674826 cur_accuracy: 0.4 test_accuracy: 0.3464567 duration: 3.202s\n",
            "epoch: 98/100 batch: 40 loss: 18.00609 cur_accuracy: 0.4 test_accuracy: 0.4527559 duration: 3.163s\n",
            "epoch: 98/100 batch: 50 loss: 12.60813 cur_accuracy: 0.5 test_accuracy: 0.48031497 duration: 3.161s\n",
            "epoch: 98/100 batch: 60 loss: 16.158846 cur_accuracy: 0.5 test_accuracy: 0.4488189 duration: 3.121s\n",
            "epoch: 99/100 batch: 10 loss: 9.746653 cur_accuracy: 0.6 test_accuracy: 0.35826772 duration: 3.697s\n",
            "epoch: 99/100 batch: 20 loss: 8.724767 cur_accuracy: 0.6 test_accuracy: 0.42913386 duration: 3.115s\n",
            "epoch: 99/100 batch: 30 loss: 7.7416015 cur_accuracy: 0.5 test_accuracy: 0.43700787 duration: 3.094s\n",
            "epoch: 99/100 batch: 40 loss: 15.974795 cur_accuracy: 0.4 test_accuracy: 0.44094488 duration: 3.131s\n",
            "epoch: 99/100 batch: 50 loss: 30.605755 cur_accuracy: 0.2 test_accuracy: 0.35433072 duration: 3.107s\n",
            "epoch: 99/100 batch: 60 loss: 15.964478 cur_accuracy: 0.4 test_accuracy: 0.32677165 duration: 3.089s\n",
            "epoch: 100/100 batch: 10 loss: 37.48703 cur_accuracy: 0.6 test_accuracy: 0.26771653 duration: 3.677s\n",
            "epoch: 100/100 batch: 20 loss: 4.9337606 cur_accuracy: 0.8 test_accuracy: 0.47637796 duration: 3.108s\n",
            "Done.\n"
          ],
          "name": "stdout"
        }
      ]
    },
    {
      "metadata": {
        "id": "OSEdoLfqGdAV",
        "colab_type": "code",
        "colab": {
          "base_uri": "https://localhost:8080/",
          "height": 34
        },
        "outputId": "3786d8b5-0655-454d-ce16-c7faf44af000"
      },
      "cell_type": "code",
      "source": [
        "# restore checkpoint\n",
        "sessRes = tf.Session()\n",
        "saver = tf.train.import_meta_graph(os.path.join(chkp_dir, 'model.meta'))\n",
        "saver.restore(sessRes, tf.train.latest_checkpoint(chkp_dir))"
      ],
      "execution_count": 28,
      "outputs": [
        {
          "output_type": "stream",
          "text": [
            "INFO:tensorflow:Restoring parameters from checkpoints/cnnGesture/model\n"
          ],
          "name": "stdout"
        }
      ]
    },
    {
      "metadata": {
        "id": "SqvCis4YHpSX",
        "colab_type": "code",
        "colab": {}
      },
      "cell_type": "code",
      "source": [
        "# test data prediction randomly\n",
        "img_holder = sessRes.graph.get_tensor_by_name('img_holder:0')\n",
        "lbl_holder =sessRes.graph.get_tensor_by_name('lbl_holder:0')\n",
        "predict=tf.get_default_graph().get_tensor_by_name('prediction:0')\n",
        "accuracy=tf.get_default_graph().get_tensor_by_name('accuracy:0')\n",
        "train = sessRes.graph.get_tensor_by_name('train_bool:0')\n",
        "test_total = sessRes.run('test_total:0')"
      ],
      "execution_count": 0,
      "outputs": []
    },
    {
      "metadata": {
        "id": "u1LGYolfIZSd",
        "colab_type": "code",
        "colab": {
          "base_uri": "https://localhost:8080/",
          "height": 34
        },
        "outputId": "f2826564-35a5-48ae-9975-17163de82b9b"
      },
      "cell_type": "code",
      "source": [
        "# session to exexute queuing\n",
        "# restore checkpoint\n",
        "sess4Q = tf.Session()\n",
        "saver4Q = tf.train.import_meta_graph(os.path.join(chkp_dir, 'model.meta'))\n",
        "saver4Q.restore(sess4Q, tf.train.latest_checkpoint(chkp_dir))\n",
        "sess4Q.run(tf.global_variables_initializer())\n",
        "sess4Q.run(tf.local_variables_initializer())\n",
        "coord=tf.train.Coordinator()\n",
        "threads=tf.train.start_queue_runners(sess=sess4Q,coord=coord)\n",
        "# batchTrainData = sess4Q.graph.get_tensor_by_name('batchTrainData:0')\n",
        "# batchTrainLabel = sess4Q.graph.get_tensor_by_name('batchTrainData:1')\n",
        "totalTestData = sess4Q.graph.get_tensor_by_name('totalTestData:0')\n",
        "totalTestLabel = sess4Q.graph.get_tensor_by_name('totalTestData:1')\n",
        "images,labels = sess4Q.run([totalTestData,totalTestLabel])\n",
        "# reason stop here is we use queue to get test set within one time 'coz we are only tesing training result here. \n",
        "coord.request_stop()\n",
        "coord.join(threads)\n",
        "sess4Q.close()"
      ],
      "execution_count": 30,
      "outputs": [
        {
          "output_type": "stream",
          "text": [
            "INFO:tensorflow:Restoring parameters from checkpoints/cnnGesture/model\n"
          ],
          "name": "stdout"
        }
      ]
    },
    {
      "metadata": {
        "id": "xG409xEyGdAW",
        "colab_type": "code",
        "colab": {
          "base_uri": "https://localhost:8080/",
          "height": 128
        },
        "outputId": "f980ae95-d65b-47dc-9a99-4ad2f4ed21d6"
      },
      "cell_type": "code",
      "source": [
        "begin = random.randrange(0, test_total-10)\n",
        "end = begin + 10\n",
        "print(begin, end)\n",
        "res, accuracy_val = sessRes.run([predict, accuracy], feed_dict = {img_holder: images[begin:end], lbl_holder:labels[begin:end], train: False})\n",
        "titles = [str(np.argmax(labels[i])) + '->' + str(res[i-begin]) for i in range(begin, end)] \n",
        "plotImg(images[begin:end], titles)\n",
        "print('Accuracy:', accuracy_val)"
      ],
      "execution_count": 31,
      "outputs": [
        {
          "output_type": "stream",
          "text": [
            "169 179\n"
          ],
          "name": "stdout"
        },
        {
          "output_type": "display_data",
          "data": {
            "image/png": "[encoded data removed]",
            "text/plain": [
              "<matplotlib.figure.Figure at 0x7f4842f12198>"
            ]
          },
          "metadata": {
            "tags": []
          }
        },
        {
          "output_type": "stream",
          "text": [
            "Accuracy: 0.4\n"
          ],
          "name": "stdout"
        }
      ]
    },
    {
      "metadata": {
        "id": "QKzVBejXTsYG",
        "colab_type": "code",
        "colab": {}
      },
      "cell_type": "code",
      "source": [
        "sessRes.close()"
      ],
      "execution_count": 0,
      "outputs": []
    },
    {
      "metadata": {
        "id": "STIvxtMuGdAc",
        "colab_type": "code",
        "colab": {}
      },
      "cell_type": "code",
      "source": [
        "# # memory footprint support libraries/code\n",
        "# !ln -sf /opt/bin/nvidia-smi /usr/bin/nvidia-smi\n",
        "# !pip install gputil\n",
        "# !pip install psutil\n",
        "# !pip install humanize\n",
        "# import psutil\n",
        "# import humanize\n",
        "# import os\n",
        "# import GPUtil as GPU\n",
        "# GPUs = GPU.getGPUs()\n",
        "# # XXX: only one GPU on Colab and isn’t guaranteed\n",
        "# gpu = GPUs[0]\n",
        "# def printm():\n",
        "#  process = psutil.Process(os.getpid())\n",
        "#  print(\"Gen RAM Free: \" + humanize.naturalsize( psutil.virtual_memory().available ), \" I Proc size: \" + humanize.naturalsize( process.memory_info().rss))\n",
        "#  print(\"GPU RAM Free: {0:.0f}MB | Used: {1:.0f}MB | Util {2:3.0f}% | Total {3:.0f}MB\".format(gpu.memoryFree, gpu.memoryUsed, gpu.memoryUtil*100, gpu.memoryTotal))\n",
        "# printm()"
      ],
      "execution_count": 0,
      "outputs": []
    },
    {
      "metadata": {
        "id": "VNY_y6KMNlrf",
        "colab_type": "code",
        "colab": {
          "base_uri": "https://localhost:8080/",
          "height": 153
        },
        "outputId": "c192469a-7ee9-4a50-e5b1-9f9b77ccebac"
      },
      "cell_type": "code",
      "source": [
        "#------------------------------------------------\n",
        "#    Replace google drive trained model with new one\n",
        "#------------------------------------------------\n",
        "!rm -rf Hybrid7.zip\n",
        "!zip -r Hybrid7.zip checkpoints\n",
        "# Install the PyDrive wrapper & import libraries.\n",
        "# This only needs to be done once in a notebook.\n",
        "!pip install -U -q PyDrive\n",
        "from pydrive.auth import GoogleAuth\n",
        "from pydrive.drive import GoogleDrive\n",
        "from google.colab import auth\n",
        "from oauth2client.client import GoogleCredentials\n",
        "\n",
        "# Authenticate and create the PyDrive client.\n",
        "# This only needs to be done once in a notebook.\n",
        "auth.authenticate_user()\n",
        "gauth = GoogleAuth()\n",
        "gauth.credentials = GoogleCredentials.get_application_default()\n",
        "drive = GoogleDrive(gauth)\n",
        "\n",
        "file_list = drive.ListFile(\n",
        "    {'q': \"'19lVhhib3mhWMW_eQsFFoOQLVsmfN6SB3' in parents\"}).GetList()\n",
        "\n",
        "for f in file_list:\n",
        "  # delete old one\n",
        "  fname = f['title']\n",
        "  print('Deleting', fname)\n",
        "  f.Delete()\n",
        "file_metadata = {'title': 'Hybrid7.zip', \"parents\": [{\"id\": '19lVhhib3mhWMW_eQsFFoOQLVsmfN6SB3', \"kind\": \"drive#childList\"}]}\n",
        "# Create & upload a file.\n",
        "uploaded = drive.CreateFile(file_metadata)\n",
        "uploaded.SetContentFile('Hybrid7.zip')\n",
        "uploaded.Upload()\n",
        "print('Uploaded file with ID {}'.format(uploaded.get('id')))"
      ],
      "execution_count": 34,
      "outputs": [
        {
          "output_type": "stream",
          "text": [
            "  adding: checkpoints/ (stored 0%)\r\n",
            "  adding: checkpoints/cnnGesture/ (stored 0%)\n",
            "  adding: checkpoints/cnnGesture/model.data-00000-of-00001 (deflated 13%)\n",
            "  adding: checkpoints/cnnGesture/model.index (deflated 50%)\n",
            "  adding: checkpoints/cnnGesture/model.meta (deflated 88%)\n",
            "  adding: checkpoints/cnnGesture/checkpoint (deflated 39%)\n",
            "Deleting Hybrid7.zip\n",
            "Uploaded file with ID 1u_eTtZFXHHjksinXAwCtoXtPvJKwSqbt\n"
          ],
          "name": "stdout"
        }
      ]
    },
    {
      "metadata": {
        "id": "LAGbyy4ltk56",
        "colab_type": "code",
        "colab": {
          "base_uri": "https://localhost:8080/",
          "height": 102
        },
        "outputId": "6e34c9e9-2ecb-4cd9-e07a-6813d7d73fad"
      },
      "cell_type": "code",
      "source": [
        "ls Records/ -l"
      ],
      "execution_count": 35,
      "outputs": [
        {
          "output_type": "stream",
          "text": [
            "total 289488\r\n",
            "-rw-r--r-- 1 root root        34 Jul  2 22:44 test.meta\r\n",
            "-rw-r--r-- 1 root root  84598002 Jul  2 22:44 test.tfrecords\r\n",
            "-rw-r--r-- 1 root root        34 Jul  2 22:44 train.meta\r\n",
            "-rw-r--r-- 1 root root 211828068 Jul  2 22:44 train.tfrecords\r\n"
          ],
          "name": "stdout"
        }
      ]
    },
    {
      "metadata": {
        "id": "fBDMb4W7UbCy",
        "colab_type": "code",
        "colab": {}
      },
      "cell_type": "code",
      "source": [
        ""
      ],
      "execution_count": 0,
      "outputs": []
    }
  ]
}