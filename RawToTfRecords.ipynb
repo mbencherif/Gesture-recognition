{
  "nbformat": 4,
  "nbformat_minor": 0,
  "metadata": {
    "colab": {
      "name": "RawToTfRecords.ipynb",
      "version": "0.3.2",
      "provenance": [],
      "collapsed_sections": [],
      "include_colab_link": true
    },
    "kernelspec": {
      "display_name": "Python 3",
      "language": "python",
      "name": "python3"
    },
    "accelerator": "GPU"
  },
  "cells": [
    {
      "cell_type": "markdown",
      "metadata": {
        "id": "view-in-github",
        "colab_type": "text"
      },
      "source": [
        "[View in Colaboratory](https://colab.research.google.com/github/mingweihe/HandGestureRecognition/blob/master/RawToTfRecords.ipynb)"
      ]
    },
    {
      "metadata": {
        "id": "Gzxutshi-5Ov",
        "colab_type": "code",
        "colab": {}
      },
      "cell_type": "code",
      "source": [
        "!rm -rf data && rm -rf checkpoints\n",
        "!pip install -U -q PyDrive\n",
        "import os\n",
        "from pydrive.auth import GoogleAuth\n",
        "from pydrive.drive import GoogleDrive\n",
        "from google.colab import auth\n",
        "from oauth2client.client import GoogleCredentials\n",
        "from IPython.display import clear_output\n",
        "\n",
        "# 1. Authenticate and create the PyDrive client.\n",
        "auth.authenticate_user()\n",
        "gauth = GoogleAuth()\n",
        "gauth.credentials = GoogleCredentials.get_application_default()\n",
        "drive = GoogleDrive(gauth)\n",
        "\n",
        "# choose a local (colab) directory to store the data.\n",
        "local_download_path = os.path.expanduser('~/data/gesture')\n",
        "try:\n",
        "  os.makedirs(local_download_path)\n",
        "except: pass\n",
        "\n",
        "# 2. Auto-iterate using the query syntax\n",
        "#    https://developers.google.com/drive/v2/web/search-parameters\n",
        "file_list = drive.ListFile(\n",
        "    {'q': \"'1wX6r6kcXJqYigK6UPq35RDICKRL_pZ8M' in parents\"}).GetList()\n",
        "\n",
        "for f in file_list:\n",
        "  # 3. Create & download by id.\n",
        "  print('title: %s, id: %s' % (f['title'], f['id']))\n",
        "  fname = os.path.join(local_download_path, f['title'])\n",
        "  print('downloading to {}'.format(fname))\n",
        "  f_ = drive.CreateFile({'id': f['id']})\n",
        "  f_.GetContentFile(fname)\n",
        "  \n",
        "!unzip /content/data/gesture/*.zip -d /content/data/gesture/\n",
        "!mkdir checkpoints\n",
        "clear_output()"
      ],
      "execution_count": 0,
      "outputs": []
    },
    {
      "metadata": {
        "id": "fDJInVoud7wr",
        "colab_type": "code",
        "colab": {}
      },
      "cell_type": "code",
      "source": [
        "import tensorflow as tf\n",
        "from tensorflow.examples.tutorials.mnist import input_data\n",
        "import os\n",
        "!mkdir Records"
      ],
      "execution_count": 0,
      "outputs": []
    },
    {
      "metadata": {
        "id": "E2si_ZrKd7wu",
        "colab_type": "code",
        "colab": {}
      },
      "cell_type": "code",
      "source": [
        "# set parameter\n",
        "batch_size = 1\n",
        "image_height = 300\n",
        "image_width = 370\n",
        "num_channels = 3\n",
        "NUM_CLASS = 6"
      ],
      "execution_count": 0,
      "outputs": []
    },
    {
      "metadata": {
        "id": "73jNlW1Vd7ww",
        "colab_type": "code",
        "colab": {}
      },
      "cell_type": "code",
      "source": [
        "def _int64_feature(value):\n",
        "    return tf.train.Feature(int64_list=tf.train.Int64List(value=[value]))\n",
        "def _bytes_feature(value):\n",
        "    return tf.train.Feature(bytes_list=tf.train.BytesList(value=[value]))\n",
        "\n",
        "def queuingToTfRecord(fromDirs, toDirs, metaDirs):\n",
        "    for index in range(len(fromDirs)):\n",
        "        fromDir, toDir = fromDirs[index], toDirs[index]\n",
        "        writer=tf.python_io.TFRecordWriter(toDir)\n",
        "        fNamePos = len(fromDir.split(os.path.sep))\n",
        "        pattern = os.path.join(fromDir, '*.png')\n",
        "        filenames = tf.train.match_filenames_once(pattern, name='list_files')\n",
        "        queue = tf.train.string_input_producer(filenames, num_epochs = 1, shuffle=True, name='queue')\n",
        "        reader = tf.WholeFileReader()\n",
        "        filename, content = reader.read(queue, name='read_image')\n",
        "        filename = tf.Print(filename, data=[filename], message='loading: ')\n",
        "        filename_split = tf.string_split([filename], delimiter=os.path.sep)\n",
        "        label = tf.string_to_number(tf.substr(filename_split.values[fNamePos], 0, 1), out_type=tf.int32)\n",
        "        img_tensor = tf.image.decode_png(content, dtype=tf.uint8, channels=3, name='img_decode')\n",
        "        min_after_dequeue = 1000\n",
        "        capacity = min_after_dequeue + 3 * batch_size\n",
        "        image_batch,label_batch=tf.train.shuffle_batch([img_tensor,label],batch_size=batch_size,\n",
        "        shapes=[(image_height, image_width, num_channels), ()],capacity=capacity,\n",
        "        min_after_dequeue=min_after_dequeue, name='train_shuffle')\n",
        "        # Initialize variables\n",
        "        init = (tf.global_variables_initializer(), tf.local_variables_initializer())\n",
        "        # Launch session\n",
        "        sess = tf.Session()\n",
        "        sess.run(init)\n",
        "        coord=tf.train.Coordinator()\n",
        "        threads=tf.train.start_queue_runners(sess=sess,coord=coord)\n",
        "        \n",
        "        try:\n",
        "            cnt = 0\n",
        "            while not coord.should_stop():\n",
        "                cur_image_batch,cur_label_batch = sess.run([image_batch,label_batch])\n",
        "                for i in range(len(cur_label_batch)):\n",
        "                    image_raw=cur_image_batch[i].tostring()\n",
        "                    example=tf.train.Example(features=tf.train.Features(feature={\n",
        "                    'label':_int64_feature(cur_label_batch[i]),'image_raw':_bytes_feature(image_raw), }))\n",
        "                    writer.write(example.SerializeToString())\n",
        "                    cnt += 1\n",
        "        except tf.errors.OutOfRangeError:\n",
        "            metaWriter = tf.python_io.TFRecordWriter(metaDirs[index])\n",
        "            example=tf.train.Example(features=tf.train.Features(feature={'size':_int64_feature(cnt)}))\n",
        "            metaWriter.write(example.SerializeToString())\n",
        "            metaWriter.close()\n",
        "            print('Done.')\n",
        "        except Exception as e:\n",
        "            coord.request_stop(e)\n",
        "        finally:\n",
        "            coord.request_stop()\n",
        "        coord.join(threads)\n",
        "        print(cnt, 'TFRecords have been generated.') \n",
        "        sess.close()\n",
        "        writer.close()\n"
      ],
      "execution_count": 0,
      "outputs": []
    },
    {
      "metadata": {
        "id": "yBSq8zR1d7wz",
        "colab_type": "code",
        "colab": {
          "base_uri": "https://localhost:8080/",
          "height": 85
        },
        "outputId": "136429d0-af65-44e1-b52a-049f909cf44b"
      },
      "cell_type": "code",
      "source": [
        "fromDirs = [os.path.join('data', 'gesture', 'training_set'), os.path.join('data', 'gesture', 'test_set')]\n",
        "toDirs= [os.path.join('Records', 'train.tfrecords'), os.path.join('Records', 'test.tfrecords')]\n",
        "metaDirs = [os.path.join('Records', 'train.meta'), os.path.join('Records', 'test.meta')]\n",
        "queuingToTfRecord(fromDirs, toDirs, metaDirs)"
      ],
      "execution_count": 5,
      "outputs": [
        {
          "output_type": "stream",
          "text": [
            "Done.\n",
            "12000 TFRecords have been generated.\n",
            "Done.\n",
            "369 TFRecords have been generated.\n"
          ],
          "name": "stdout"
        }
      ]
    },
    {
      "metadata": {
        "id": "p5G-ML_3d7w3",
        "colab_type": "code",
        "colab": {}
      },
      "cell_type": "code",
      "source": [
        ""
      ],
      "execution_count": 0,
      "outputs": []
    }
  ]
}