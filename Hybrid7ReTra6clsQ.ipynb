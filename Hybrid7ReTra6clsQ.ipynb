{
  "nbformat": 4,
  "nbformat_minor": 0,
  "metadata": {
    "colab": {
      "name": "Hybrid7ReTra6clsQ.ipynb",
      "version": "0.3.2",
      "provenance": [],
      "collapsed_sections": [],
      "include_colab_link": true
    },
    "kernelspec": {
      "display_name": "Python 3",
      "language": "python",
      "name": "python3"
    },
    "accelerator": "GPU"
  },
  "cells": [
    {
      "cell_type": "markdown",
      "metadata": {
        "id": "view-in-github",
        "colab_type": "text"
      },
      "source": [
        "[View in Colaboratory](https://colab.research.google.com/github/mingweihe/HandGestureRecognition/blob/master/Hybrid7ReTra6clsQ.ipynb)"
      ]
    },
    {
      "metadata": {
        "id": "YJaLeZZIbe-B",
        "colab_type": "code",
        "colab": {}
      },
      "cell_type": "code",
      "source": [
        "#------------------------------------------------\n",
        "#    Training and Test data set preparation\n",
        "#------------------------------------------------\n",
        "!rm -rf checkpoints && rm -rf *.zip\n",
        "!pip install -U -q PyDrive\n",
        "import os\n",
        "from pydrive.auth import GoogleAuth\n",
        "from pydrive.drive import GoogleDrive\n",
        "from google.colab import auth\n",
        "from oauth2client.client import GoogleCredentials\n",
        "from IPython.display import clear_output\n",
        "\n",
        "# 1. Authenticate and create the PyDrive client.\n",
        "auth.authenticate_user()\n",
        "gauth = GoogleAuth()\n",
        "gauth.credentials = GoogleCredentials.get_application_default()\n",
        "drive = GoogleDrive(gauth)\n",
        "\n",
        "# 2. Downloading hafl trained model\n",
        "local_download_path = os.path.expanduser('~')\n",
        "file_list = drive.ListFile(\n",
        "    {'q': \"'19lVhhib3mhWMW_eQsFFoOQLVsmfN6SB3' in parents\"}).GetList()\n",
        "\n",
        "for f in file_list:\n",
        "  # 3. Create & download by id.\n",
        "  print('title: %s, id: %s' % (f['title'], f['id']))\n",
        "  fname = os.path.join(local_download_path, f['title'])\n",
        "  print('downloading to {}'.format(fname))\n",
        "  f_ = drive.CreateFile({'id': f['id']})\n",
        "  f_.GetContentFile(fname)\n",
        "\n",
        "!unzip /content/*.zip\n",
        "clear_output()"
      ],
      "execution_count": 0,
      "outputs": []
    },
    {
      "metadata": {
        "id": "M8h00KEOGc-P",
        "colab_type": "code",
        "colab": {}
      },
      "cell_type": "code",
      "source": [
        "import tensorflow as tf\n",
        "import numpy as np\n",
        "import random\n",
        "import matplotlib.pyplot as plt\n",
        "import time\n",
        "import os"
      ],
      "execution_count": 0,
      "outputs": []
    },
    {
      "metadata": {
        "id": "lReNlvi6VZQV",
        "colab_type": "code",
        "colab": {}
      },
      "cell_type": "code",
      "source": [
        "# Set parameters\n",
        "chkp_dir = os.path.join('checkpoints', 'cnnGesture')\n",
        "chkp_name = 'model'\n",
        "image_height,image_width,num_channels = 300, 370, 3\n",
        "num_categories = 6\n",
        "batch_size = 10\n",
        "min_after_dequeue = 1000\n",
        "capacity=min_after_dequeue+3*batch_size"
      ],
      "execution_count": 0,
      "outputs": []
    },
    {
      "metadata": {
        "id": "WtYcPcn7VZQY",
        "colab_type": "code",
        "colab": {}
      },
      "cell_type": "code",
      "source": [
        "# images plotting function\n",
        "def plotImg(imgs, titles = None):\n",
        "    fig = plt.figure()\n",
        "    for i in range(len(imgs)):\n",
        "        ax = fig.add_subplot(1, len(imgs), i + 1)\n",
        "        if titles != None:\n",
        "            ax.title.set_text(titles[i])\n",
        "        plt.imshow(imgs[i])\n",
        "        plt.axis('off')\n",
        "    plt.show()"
      ],
      "execution_count": 0,
      "outputs": []
    },
    {
      "metadata": {
        "id": "OSEdoLfqGdAV",
        "colab_type": "code",
        "colab": {}
      },
      "cell_type": "code",
      "source": [
        "# restore checkpoint\n",
        "sessRes = tf.Session()\n",
        "saver = tf.train.import_meta_graph(os.path.join(chkp_dir, 'model.meta'))\n",
        "saver.restore(sessRes, tf.train.latest_checkpoint(chkp_dir))"
      ],
      "execution_count": 0,
      "outputs": []
    },
    {
      "metadata": {
        "id": "SqvCis4YHpSX",
        "colab_type": "code",
        "colab": {
          "base_uri": "https://localhost:8080/",
          "height": 34
        },
        "outputId": "dd0cf478-a51b-4c50-f260-5a1f8e48aee1"
      },
      "cell_type": "code",
      "source": [
        "# variable and tensor initialization\n",
        "img_holder = sessRes.graph.get_tensor_by_name('img_holder:0')\n",
        "lbl_holder =sessRes.graph.get_tensor_by_name('lbl_holder:0')\n",
        "loss=sessRes.graph.get_tensor_by_name('loss:0')\n",
        "accuracy=tf.get_default_graph().get_tensor_by_name('accuracy:0')\n",
        "optimizer=tf.get_default_graph().get_tensor_by_name('optimizer:0')\n",
        "predict=tf.get_default_graph().get_tensor_by_name('prediction:0')\n",
        "train = sessRes.graph.get_tensor_by_name('train_bool:0')\n",
        "log_dir = sessRes.run('log_dir:0').decode('utf-8')\n",
        "test_total = sessRes.run('test_total:0')\n",
        "train_total = sessRes.run('train_total:0')\n",
        "num_epochs = sessRes.run('num_epochs:0')\n",
        "batch_size = sessRes.run('batch_size:0')\n",
        "global_step = sessRes.run('global_step:0')\n",
        "# tensorboard\n",
        "summary_loss = tf.summary.scalar('loss', loss)\n",
        "summary_accuracy = tf.summary.scalar('accuracy', accuracy)\n",
        "merged_op = tf.summary.merge([summary_loss, summary_accuracy])\n",
        "# Create FileWriter\n",
        "file_writer = tf.summary.FileWriter(log_dir, graph=tf.get_default_graph())\n",
        "print('setted up epoch number:', num_epochs, 'setted batch size:', batch_size)\n",
        "print('test total:', test_total)\n",
        "print('train total:', train_total)\n",
        "print('last epochs:', global_step*batch_size/train_total)\n",
        "print('last global steps:', global_step)"
      ],
      "execution_count": 6,
      "outputs": [
        {
          "output_type": "stream",
          "text": [
            "setted up epoch: 10 setted batch_size: 10 last global_step: 47200\n"
          ],
          "name": "stdout"
        }
      ]
    },
    {
      "metadata": {
        "id": "u1LGYolfIZSd",
        "colab_type": "code",
        "colab": {
          "base_uri": "https://localhost:8080/",
          "height": 34
        },
        "outputId": "222722ca-6aba-42a9-e4a2-c86d3263a8af"
      },
      "cell_type": "code",
      "source": [
        "# Because so much variables in original graph, it could cause OOM, so we comment it\n",
        "# session to exexute queuing\n",
        "# restore checkpoint\n",
        "sess4Q = tf.Session()\n",
        "saver4Q = tf.train.import_meta_graph(os.path.join(chkp_dir, 'model.meta'))\n",
        "saver4Q.restore(sess4Q, tf.train.latest_checkpoint(chkp_dir))\n",
        "batchTrainData = sess4Q.graph.get_tensor_by_name('batchTrainData:0')\n",
        "batchTrainLabel = sess4Q.graph.get_tensor_by_name('batchTrainData:1')\n",
        "totalTestData = sess4Q.graph.get_tensor_by_name('totalTestData:0')\n",
        "totalTestLabel = sess4Q.graph.get_tensor_by_name('totalTestData:1')\n",
        "sess4Q.run(tf.local_variables_initializer())\n",
        "coord=tf.train.Coordinator()\n",
        "threads=tf.train.start_queue_runners(sess=sess4Q,coord=coord)"
      ],
      "execution_count": 7,
      "outputs": [
        {
          "output_type": "stream",
          "text": [
            "INFO:tensorflow:Restoring parameters from checkpoints/cnnGesture/model\n"
          ],
          "name": "stdout"
        }
      ]
    },
    {
      "metadata": {
        "id": "Mj40oy8Oev6O",
        "colab_type": "code",
        "colab": {
          "base_uri": "https://localhost:8080/",
          "height": 2040
        },
        "outputId": "d19f14ff-7950-494d-cb65-3a82214f10a8"
      },
      "cell_type": "code",
      "source": [
        "try:\n",
        "    test_images,test_labels = sess4Q.run([totalTestData, totalTestLabel])\n",
        "    batch_i = 1\n",
        "    total_batch = 0\n",
        "    epoch = 1\n",
        "    start_time = time.time()\n",
        "    while not coord.should_stop():\n",
        "        imgs, labels = sess4Q.run([batchTrainData,batchTrainLabel])\n",
        "        loss_val, accuracy_val, _, summary = sessRes.run([loss, accuracy, optimizer, merged_op],feed_dict={img_holder:imgs,lbl_holder:labels,train: True})\n",
        "        duration = time.time() - start_time\n",
        "        # Print the summary data\n",
        "        file_writer.add_summary(summary)\n",
        "        if batch_i % 100 == 0:\n",
        "            test_accuracy = sessRes.run(accuracy, feed_dict={img_holder:test_images[125:225],lbl_holder:test_labels[125:225],train: False})\n",
        "            print('epoch:', epoch, 'batch:', batch_i, 'loss:', loss_val, 'cur_accuracy:', accuracy_val, 'test_accuracy:', test_accuracy, \n",
        "                  'duration: %.3fs' % duration)\n",
        "            file_writer.flush()\n",
        "            # save training result\n",
        "            saver.save(sessRes, os.path.join(chkp_dir, chkp_name))\n",
        "            start_time = time.time()\n",
        "        batch_i += 1\n",
        "        total_batch += batch_size\n",
        "        if total_batch >= train_total:\n",
        "            epoch += 1\n",
        "            total_batch = 0\n",
        "            batch_i = 1\n",
        "except tf.errors.OutOfRangeError:\n",
        "    print('Done.')\n",
        "except Exception as e:\n",
        "    coord.request_stop(e)\n",
        "finally:\n",
        "    coord.request_stop()\n",
        "coord.join(threads)\n",
        "sess4Q.close()"
      ],
      "execution_count": 8,
      "outputs": [
        {
          "output_type": "stream",
          "text": [
            "epoch: 1 batch: 100 loss: 0.33995324 cur_accuracy: 1.0 test_accuracy: 0.8 duration: 18.991s\n",
            "epoch: 1 batch: 200 loss: 0.7131488 cur_accuracy: 0.9 test_accuracy: 0.64 duration: 15.496s\n",
            "epoch: 1 batch: 300 loss: 0.32371944 cur_accuracy: 1.0 test_accuracy: 0.68 duration: 15.527s\n",
            "epoch: 1 batch: 400 loss: 0.49013108 cur_accuracy: 1.0 test_accuracy: 0.64 duration: 15.504s\n",
            "epoch: 1 batch: 500 loss: 0.4411231 cur_accuracy: 1.0 test_accuracy: 0.8 duration: 15.599s\n",
            "epoch: 1 batch: 600 loss: 0.5425765 cur_accuracy: 1.0 test_accuracy: 0.8 duration: 15.664s\n",
            "epoch: 1 batch: 700 loss: 0.32966647 cur_accuracy: 1.0 test_accuracy: 0.89 duration: 15.822s\n",
            "epoch: 1 batch: 800 loss: 0.54432887 cur_accuracy: 1.0 test_accuracy: 0.98 duration: 15.811s\n",
            "epoch: 1 batch: 900 loss: 0.51593596 cur_accuracy: 0.9 test_accuracy: 0.94 duration: 15.784s\n",
            "epoch: 1 batch: 1000 loss: 0.4360257 cur_accuracy: 1.0 test_accuracy: 0.87 duration: 15.833s\n",
            "epoch: 1 batch: 1100 loss: 0.59508073 cur_accuracy: 0.9 test_accuracy: 0.81 duration: 15.841s\n",
            "epoch: 1 batch: 1200 loss: 0.47282928 cur_accuracy: 1.0 test_accuracy: 0.78 duration: 15.842s\n",
            "epoch: 2 batch: 100 loss: 0.49035424 cur_accuracy: 0.9 test_accuracy: 0.84 duration: 15.711s\n",
            "epoch: 2 batch: 200 loss: 0.4461133 cur_accuracy: 1.0 test_accuracy: 0.84 duration: 15.888s\n",
            "epoch: 2 batch: 300 loss: 0.35005316 cur_accuracy: 1.0 test_accuracy: 0.8 duration: 15.784s\n",
            "epoch: 2 batch: 400 loss: 0.3212336 cur_accuracy: 1.0 test_accuracy: 0.79 duration: 15.745s\n",
            "epoch: 2 batch: 500 loss: 0.55029047 cur_accuracy: 1.0 test_accuracy: 0.77 duration: 15.799s\n",
            "epoch: 2 batch: 600 loss: 0.46626884 cur_accuracy: 1.0 test_accuracy: 0.79 duration: 15.791s\n",
            "epoch: 2 batch: 700 loss: 0.4423073 cur_accuracy: 1.0 test_accuracy: 0.62 duration: 15.507s\n",
            "epoch: 2 batch: 800 loss: 0.43696102 cur_accuracy: 1.0 test_accuracy: 0.86 duration: 15.568s\n",
            "epoch: 2 batch: 900 loss: 0.35265702 cur_accuracy: 1.0 test_accuracy: 0.81 duration: 15.673s\n",
            "epoch: 2 batch: 1000 loss: 0.58629084 cur_accuracy: 1.0 test_accuracy: 0.89 duration: 15.536s\n",
            "epoch: 2 batch: 1100 loss: 0.4412828 cur_accuracy: 1.0 test_accuracy: 0.76 duration: 15.525s\n",
            "epoch: 2 batch: 1200 loss: 0.7132758 cur_accuracy: 0.9 test_accuracy: 0.76 duration: 15.563s\n",
            "epoch: 3 batch: 100 loss: 0.4657874 cur_accuracy: 1.0 test_accuracy: 0.86 duration: 15.514s\n",
            "epoch: 3 batch: 200 loss: 0.43716398 cur_accuracy: 1.0 test_accuracy: 0.9 duration: 15.434s\n",
            "epoch: 3 batch: 300 loss: 0.46119133 cur_accuracy: 1.0 test_accuracy: 0.83 duration: 15.546s\n",
            "epoch: 3 batch: 400 loss: 0.6147094 cur_accuracy: 1.0 test_accuracy: 0.67 duration: 15.579s\n",
            "epoch: 3 batch: 500 loss: 0.6346158 cur_accuracy: 0.9 test_accuracy: 0.76 duration: 15.476s\n",
            "epoch: 3 batch: 600 loss: 0.342131 cur_accuracy: 1.0 test_accuracy: 0.76 duration: 15.596s\n",
            "epoch: 3 batch: 700 loss: 0.449547 cur_accuracy: 1.0 test_accuracy: 0.83 duration: 15.493s\n",
            "epoch: 3 batch: 800 loss: 0.70021325 cur_accuracy: 0.9 test_accuracy: 0.76 duration: 15.456s\n",
            "epoch: 3 batch: 900 loss: 0.7043748 cur_accuracy: 0.9 test_accuracy: 0.81 duration: 15.485s\n",
            "epoch: 3 batch: 1000 loss: 0.46200147 cur_accuracy: 1.0 test_accuracy: 0.85 duration: 15.595s\n",
            "epoch: 3 batch: 1100 loss: 0.464075 cur_accuracy: 1.0 test_accuracy: 0.78 duration: 15.480s\n",
            "epoch: 3 batch: 1200 loss: 0.43607527 cur_accuracy: 1.0 test_accuracy: 0.84 duration: 15.471s\n",
            "epoch: 4 batch: 100 loss: 0.35354757 cur_accuracy: 1.0 test_accuracy: 0.82 duration: 15.690s\n",
            "epoch: 4 batch: 200 loss: 0.5051444 cur_accuracy: 1.0 test_accuracy: 0.8 duration: 15.551s\n",
            "epoch: 4 batch: 300 loss: 0.526887 cur_accuracy: 0.9 test_accuracy: 0.81 duration: 15.459s\n",
            "epoch: 4 batch: 400 loss: 0.47097498 cur_accuracy: 1.0 test_accuracy: 0.76 duration: 15.528s\n",
            "epoch: 4 batch: 500 loss: 0.4668459 cur_accuracy: 1.0 test_accuracy: 0.83 duration: 15.438s\n",
            "epoch: 4 batch: 600 loss: 0.62134904 cur_accuracy: 1.0 test_accuracy: 0.79 duration: 15.402s\n",
            "epoch: 4 batch: 700 loss: 0.354752 cur_accuracy: 1.0 test_accuracy: 0.87 duration: 15.465s\n",
            "epoch: 4 batch: 800 loss: 0.5103999 cur_accuracy: 1.0 test_accuracy: 0.76 duration: 15.459s\n",
            "epoch: 4 batch: 900 loss: 0.4595681 cur_accuracy: 1.0 test_accuracy: 0.79 duration: 15.383s\n"
          ],
          "name": "stdout"
        },
        {
          "output_type": "stream",
          "text": [
            "epoch: 4 batch: 1000 loss: 0.47835517 cur_accuracy: 1.0 test_accuracy: 0.84 duration: 15.445s\n",
            "epoch: 4 batch: 1100 loss: 0.4623599 cur_accuracy: 1.0 test_accuracy: 0.74 duration: 15.483s\n",
            "epoch: 4 batch: 1200 loss: 0.66604835 cur_accuracy: 1.0 test_accuracy: 0.84 duration: 15.399s\n",
            "epoch: 5 batch: 100 loss: 0.48572898 cur_accuracy: 1.0 test_accuracy: 0.8 duration: 15.467s\n",
            "epoch: 5 batch: 200 loss: 0.6291823 cur_accuracy: 0.9 test_accuracy: 0.62 duration: 15.421s\n",
            "epoch: 5 batch: 300 loss: 0.65036196 cur_accuracy: 1.0 test_accuracy: 0.71 duration: 15.437s\n",
            "epoch: 5 batch: 400 loss: 0.34989366 cur_accuracy: 1.0 test_accuracy: 0.81 duration: 15.483s\n",
            "epoch: 5 batch: 500 loss: 0.43860275 cur_accuracy: 1.0 test_accuracy: 0.83 duration: 15.460s\n",
            "epoch: 5 batch: 600 loss: 0.4392794 cur_accuracy: 1.0 test_accuracy: 0.89 duration: 15.442s\n",
            "epoch: 5 batch: 700 loss: 0.4576757 cur_accuracy: 1.0 test_accuracy: 0.9 duration: 15.575s\n",
            "epoch: 5 batch: 800 loss: 0.3266355 cur_accuracy: 1.0 test_accuracy: 0.87 duration: 15.540s\n",
            "epoch: 5 batch: 900 loss: 0.5908228 cur_accuracy: 1.0 test_accuracy: 0.83 duration: 15.465s\n",
            "epoch: 5 batch: 1000 loss: 0.35416493 cur_accuracy: 1.0 test_accuracy: 0.88 duration: 15.517s\n",
            "epoch: 5 batch: 1100 loss: 0.58981216 cur_accuracy: 0.9 test_accuracy: 0.82 duration: 15.436s\n",
            "epoch: 5 batch: 1200 loss: 0.57805854 cur_accuracy: 1.0 test_accuracy: 0.88 duration: 15.394s\n",
            "epoch: 6 batch: 100 loss: 0.35235685 cur_accuracy: 1.0 test_accuracy: 0.89 duration: 15.447s\n",
            "epoch: 6 batch: 200 loss: 0.5378641 cur_accuracy: 1.0 test_accuracy: 0.88 duration: 15.480s\n",
            "epoch: 6 batch: 300 loss: 0.60913724 cur_accuracy: 1.0 test_accuracy: 0.76 duration: 15.432s\n",
            "epoch: 6 batch: 400 loss: 0.6532146 cur_accuracy: 1.0 test_accuracy: 0.79 duration: 15.379s\n",
            "epoch: 6 batch: 500 loss: 0.60680723 cur_accuracy: 1.0 test_accuracy: 0.85 duration: 15.508s\n",
            "epoch: 6 batch: 600 loss: 0.46728617 cur_accuracy: 1.0 test_accuracy: 0.78 duration: 15.411s\n",
            "epoch: 6 batch: 700 loss: 0.6443241 cur_accuracy: 1.0 test_accuracy: 0.87 duration: 15.438s\n",
            "epoch: 6 batch: 800 loss: 0.60426646 cur_accuracy: 1.0 test_accuracy: 0.91 duration: 15.474s\n",
            "epoch: 6 batch: 900 loss: 0.5936963 cur_accuracy: 1.0 test_accuracy: 0.8 duration: 15.453s\n",
            "epoch: 6 batch: 1000 loss: 0.36850837 cur_accuracy: 1.0 test_accuracy: 0.71 duration: 15.440s\n",
            "epoch: 6 batch: 1100 loss: 0.5146917 cur_accuracy: 1.0 test_accuracy: 0.87 duration: 15.460s\n",
            "epoch: 6 batch: 1200 loss: 0.51319766 cur_accuracy: 1.0 test_accuracy: 0.89 duration: 15.513s\n",
            "epoch: 7 batch: 100 loss: 0.43328467 cur_accuracy: 1.0 test_accuracy: 0.9 duration: 15.473s\n",
            "epoch: 7 batch: 200 loss: 0.35662916 cur_accuracy: 1.0 test_accuracy: 0.88 duration: 15.410s\n",
            "epoch: 7 batch: 300 loss: 0.36293048 cur_accuracy: 1.0 test_accuracy: 0.9 duration: 15.548s\n",
            "epoch: 7 batch: 400 loss: 0.4003585 cur_accuracy: 1.0 test_accuracy: 0.91 duration: 15.428s\n",
            "epoch: 7 batch: 500 loss: 0.50108975 cur_accuracy: 1.0 test_accuracy: 0.79 duration: 15.398s\n",
            "epoch: 7 batch: 600 loss: 0.40099 cur_accuracy: 1.0 test_accuracy: 0.82 duration: 15.476s\n",
            "epoch: 7 batch: 700 loss: 0.38018745 cur_accuracy: 1.0 test_accuracy: 0.76 duration: 15.409s\n",
            "epoch: 7 batch: 800 loss: 0.5124181 cur_accuracy: 0.9 test_accuracy: 0.74 duration: 15.401s\n",
            "epoch: 7 batch: 900 loss: 0.44635972 cur_accuracy: 1.0 test_accuracy: 0.58 duration: 15.476s\n",
            "epoch: 7 batch: 1000 loss: 0.5588495 cur_accuracy: 1.0 test_accuracy: 0.84 duration: 15.401s\n",
            "epoch: 7 batch: 1100 loss: 0.5976099 cur_accuracy: 1.0 test_accuracy: 0.91 duration: 15.406s\n",
            "epoch: 7 batch: 1200 loss: 0.35368678 cur_accuracy: 1.0 test_accuracy: 0.8 duration: 15.475s\n",
            "epoch: 8 batch: 100 loss: 0.4465994 cur_accuracy: 1.0 test_accuracy: 0.83 duration: 15.447s\n",
            "epoch: 8 batch: 200 loss: 0.32263237 cur_accuracy: 1.0 test_accuracy: 0.81 duration: 15.429s\n",
            "epoch: 8 batch: 300 loss: 0.44209042 cur_accuracy: 1.0 test_accuracy: 0.81 duration: 15.451s\n",
            "epoch: 8 batch: 400 loss: 0.46365127 cur_accuracy: 1.0 test_accuracy: 0.83 duration: 15.489s\n",
            "epoch: 8 batch: 500 loss: 0.43830696 cur_accuracy: 1.0 test_accuracy: 0.83 duration: 15.453s\n",
            "epoch: 8 batch: 600 loss: 0.43919793 cur_accuracy: 1.0 test_accuracy: 0.79 duration: 15.513s\n"
          ],
          "name": "stdout"
        },
        {
          "output_type": "stream",
          "text": [
            "epoch: 8 batch: 700 loss: 0.4402167 cur_accuracy: 1.0 test_accuracy: 0.9 duration: 15.679s\n",
            "epoch: 8 batch: 800 loss: 0.60316736 cur_accuracy: 1.0 test_accuracy: 0.89 duration: 15.547s\n",
            "epoch: 8 batch: 900 loss: 0.47885665 cur_accuracy: 1.0 test_accuracy: 0.85 duration: 15.447s\n",
            "epoch: 8 batch: 1000 loss: 0.3532861 cur_accuracy: 1.0 test_accuracy: 0.91 duration: 15.499s\n",
            "epoch: 8 batch: 1100 loss: 0.5400976 cur_accuracy: 1.0 test_accuracy: 0.9 duration: 15.494s\n",
            "epoch: 8 batch: 1200 loss: 0.4464468 cur_accuracy: 1.0 test_accuracy: 0.87 duration: 15.460s\n",
            "epoch: 9 batch: 100 loss: 0.64099234 cur_accuracy: 1.0 test_accuracy: 0.92 duration: 15.439s\n",
            "epoch: 9 batch: 200 loss: 0.44046503 cur_accuracy: 1.0 test_accuracy: 0.83 duration: 15.477s\n",
            "epoch: 9 batch: 300 loss: 0.54264385 cur_accuracy: 1.0 test_accuracy: 0.85 duration: 15.399s\n",
            "epoch: 9 batch: 400 loss: 0.47539678 cur_accuracy: 1.0 test_accuracy: 0.86 duration: 15.435s\n",
            "epoch: 9 batch: 500 loss: 0.61116153 cur_accuracy: 1.0 test_accuracy: 0.89 duration: 15.431s\n",
            "epoch: 9 batch: 600 loss: 0.4458456 cur_accuracy: 1.0 test_accuracy: 0.9 duration: 15.429s\n",
            "epoch: 9 batch: 700 loss: 0.46079826 cur_accuracy: 1.0 test_accuracy: 0.81 duration: 15.444s\n",
            "epoch: 9 batch: 800 loss: 0.46551293 cur_accuracy: 1.0 test_accuracy: 0.84 duration: 15.539s\n",
            "epoch: 9 batch: 900 loss: 0.32525054 cur_accuracy: 1.0 test_accuracy: 0.91 duration: 15.468s\n",
            "epoch: 9 batch: 1000 loss: 0.45943522 cur_accuracy: 1.0 test_accuracy: 0.94 duration: 15.408s\n",
            "epoch: 9 batch: 1100 loss: 0.65317726 cur_accuracy: 1.0 test_accuracy: 0.89 duration: 15.434s\n",
            "epoch: 9 batch: 1200 loss: 0.35398802 cur_accuracy: 1.0 test_accuracy: 0.85 duration: 15.624s\n",
            "epoch: 10 batch: 100 loss: 0.34876156 cur_accuracy: 1.0 test_accuracy: 0.89 duration: 15.627s\n",
            "epoch: 10 batch: 200 loss: 0.3544867 cur_accuracy: 1.0 test_accuracy: 0.87 duration: 15.539s\n",
            "epoch: 10 batch: 300 loss: 0.5861595 cur_accuracy: 1.0 test_accuracy: 0.75 duration: 15.424s\n",
            "epoch: 10 batch: 400 loss: 0.4700888 cur_accuracy: 1.0 test_accuracy: 0.84 duration: 15.458s\n",
            "epoch: 10 batch: 500 loss: 0.50415695 cur_accuracy: 1.0 test_accuracy: 0.83 duration: 15.455s\n",
            "epoch: 10 batch: 600 loss: 0.40334892 cur_accuracy: 1.0 test_accuracy: 0.87 duration: 15.420s\n",
            "epoch: 10 batch: 700 loss: 0.5918373 cur_accuracy: 1.0 test_accuracy: 0.79 duration: 15.416s\n",
            "epoch: 10 batch: 800 loss: 0.3553282 cur_accuracy: 1.0 test_accuracy: 0.92 duration: 15.393s\n",
            "epoch: 10 batch: 900 loss: 0.45871753 cur_accuracy: 1.0 test_accuracy: 0.92 duration: 15.404s\n",
            "epoch: 10 batch: 1000 loss: 0.35179633 cur_accuracy: 1.0 test_accuracy: 0.87 duration: 17.633s\n",
            "Done.\n"
          ],
          "name": "stdout"
        }
      ]
    },
    {
      "metadata": {
        "id": "xG409xEyGdAW",
        "colab_type": "code",
        "colab": {
          "base_uri": "https://localhost:8080/",
          "height": 111
        },
        "outputId": "335825a1-a5c9-4d66-86bc-7bfedf0beee4"
      },
      "cell_type": "code",
      "source": [
        "begin = random.randrange(0, test_total-10)\n",
        "end = begin + 10\n",
        "res, accuracy_val = sessRes.run([predict, accuracy], feed_dict = {img_holder: test_images[begin:end], lbl_holder:test_labels[begin:end], train: False})\n",
        "titles = [str(np.argmax(test_labels[i])) + '->' + str(res[i-begin]) for i in range(begin, end)] \n",
        "plotImg(test_images[begin:end], titles)\n",
        "print('Accuracy:', accuracy_val)"
      ],
      "execution_count": 9,
      "outputs": [
        {
          "output_type": "display_data",
          "data": {
            "image/png": "[encoded data removed]",
            "text/plain": [
              "<matplotlib.figure.Figure at 0x7f6aadaa8dd8>"
            ]
          },
          "metadata": {
            "tags": []
          }
        },
        {
          "output_type": "stream",
          "text": [
            "Accuracy: 1.0\n"
          ],
          "name": "stdout"
        }
      ]
    },
    {
      "metadata": {
        "id": "QKzVBejXTsYG",
        "colab_type": "code",
        "colab": {}
      },
      "cell_type": "code",
      "source": [
        "sessRes.close()"
      ],
      "execution_count": 0,
      "outputs": []
    },
    {
      "metadata": {
        "id": "STIvxtMuGdAc",
        "colab_type": "code",
        "colab": {}
      },
      "cell_type": "code",
      "source": [
        "# # memory footprint support libraries/code\n",
        "# !ln -sf /opt/bin/nvidia-smi /usr/bin/nvidia-smi\n",
        "# !pip install gputil\n",
        "# !pip install psutil\n",
        "# !pip install humanize\n",
        "# import psutil\n",
        "# import humanize\n",
        "# import os\n",
        "# import GPUtil as GPU\n",
        "# GPUs = GPU.getGPUs()\n",
        "# # XXX: only one GPU on Colab and isn’t guaranteed\n",
        "# gpu = GPUs[0]\n",
        "# def printm():\n",
        "#  process = psutil.Process(os.getpid())\n",
        "#  print(\"Gen RAM Free: \" + humanize.naturalsize( psutil.virtual_memory().available ), \" I Proc size: \" + humanize.naturalsize( process.memory_info().rss))\n",
        "#  print(\"GPU RAM Free: {0:.0f}MB | Used: {1:.0f}MB | Util {2:3.0f}% | Total {3:.0f}MB\".format(gpu.memoryFree, gpu.memoryUsed, gpu.memoryUtil*100, gpu.memoryTotal))\n",
        "# printm()"
      ],
      "execution_count": 0,
      "outputs": []
    },
    {
      "metadata": {
        "id": "VNY_y6KMNlrf",
        "colab_type": "code",
        "colab": {
          "base_uri": "https://localhost:8080/",
          "height": 153
        },
        "outputId": "ff84d8d0-ede4-43a8-cddd-0ccee24f876e"
      },
      "cell_type": "code",
      "source": [
        "#------------------------------------------------\n",
        "#    Replace google drive trained model with new one\n",
        "#------------------------------------------------\n",
        "!rm -rf Hybrid7.zip\n",
        "!zip -r Hybrid7.zip checkpoints\n",
        "# Install the PyDrive wrapper & import libraries.\n",
        "# This only needs to be done once in a notebook.\n",
        "!pip install -U -q PyDrive\n",
        "from pydrive.auth import GoogleAuth\n",
        "from pydrive.drive import GoogleDrive\n",
        "from google.colab import auth\n",
        "from oauth2client.client import GoogleCredentials\n",
        "\n",
        "# Authenticate and create the PyDrive client.\n",
        "# This only needs to be done once in a notebook.\n",
        "auth.authenticate_user()\n",
        "gauth = GoogleAuth()\n",
        "gauth.credentials = GoogleCredentials.get_application_default()\n",
        "drive = GoogleDrive(gauth)\n",
        "\n",
        "file_list = drive.ListFile(\n",
        "    {'q': \"'19lVhhib3mhWMW_eQsFFoOQLVsmfN6SB3' in parents\"}).GetList()\n",
        "\n",
        "for f in file_list:\n",
        "  # delete old one\n",
        "  fname = f['title']\n",
        "  print('Deleting', fname)\n",
        "  f.Delete()\n",
        "file_metadata = {'title': 'Hybrid7.zip', \"parents\": [{\"id\": '19lVhhib3mhWMW_eQsFFoOQLVsmfN6SB3', \"kind\": \"drive#childList\"}]}\n",
        "# Create & upload a file.\n",
        "uploaded = drive.CreateFile(file_metadata)\n",
        "uploaded.SetContentFile('Hybrid7.zip')\n",
        "uploaded.Upload()\n",
        "print('Uploaded file with ID {}'.format(uploaded.get('id')))"
      ],
      "execution_count": 12,
      "outputs": [
        {
          "output_type": "stream",
          "text": [
            "  adding: checkpoints/ (stored 0%)\r\n",
            "  adding: checkpoints/cnnGesture/ (stored 0%)\r\n",
            "  adding: checkpoints/cnnGesture/checkpoint (deflated 39%)\n",
            "  adding: checkpoints/cnnGesture/model.data-00000-of-00001 (deflated 18%)\n",
            "  adding: checkpoints/cnnGesture/model.index (deflated 50%)\n",
            "  adding: checkpoints/cnnGesture/model.meta (deflated 90%)\n",
            "Deleting Hybrid7.zip\n",
            "Uploaded file with ID 1wLNzvhDseuJrOxfsAvnikpsKzQFY7N1_\n"
          ],
          "name": "stdout"
        }
      ]
    },
    {
      "metadata": {
        "id": "LAGbyy4ltk56",
        "colab_type": "code",
        "colab": {}
      },
      "cell_type": "code",
      "source": [
        ""
      ],
      "execution_count": 0,
      "outputs": []
    },
    {
      "metadata": {
        "id": "ezHE1qGtSZUj",
        "colab_type": "code",
        "colab": {}
      },
      "cell_type": "code",
      "source": [
        ""
      ],
      "execution_count": 0,
      "outputs": []
    }
  ]
}