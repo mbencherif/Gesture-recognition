{
  "nbformat": 4,
  "nbformat_minor": 0,
  "metadata": {
    "colab": {
      "name": "Hybrid7ReTra6clsQ.ipynb",
      "version": "0.3.2",
      "provenance": [],
      "collapsed_sections": [],
      "include_colab_link": true
    },
    "kernelspec": {
      "display_name": "Python 3",
      "language": "python",
      "name": "python3"
    },
    "accelerator": "GPU"
  },
  "cells": [
    {
      "cell_type": "markdown",
      "metadata": {
        "id": "view-in-github",
        "colab_type": "text"
      },
      "source": [
        "[View in Colaboratory](https://colab.research.google.com/github/mingweihe/HandGestureRecognition/blob/master/Hybrid7ReTra6clsQ.ipynb)"
      ]
    },
    {
      "metadata": {
        "id": "YJaLeZZIbe-B",
        "colab_type": "code",
        "colab": {}
      },
      "cell_type": "code",
      "source": [
        "# #------------------------------------------------\n",
        "# #    Training and Test data set preparation\n",
        "# #------------------------------------------------\n",
        "# !rm -rf checkpoints && rm -rf *.zip\n",
        "# !pip install -U -q PyDrive\n",
        "# import os\n",
        "# from pydrive.auth import GoogleAuth\n",
        "# from pydrive.drive import GoogleDrive\n",
        "# from google.colab import auth\n",
        "# from oauth2client.client import GoogleCredentials\n",
        "# from IPython.display import clear_output\n",
        "\n",
        "# # 1. Authenticate and create the PyDrive client.\n",
        "# auth.authenticate_user()\n",
        "# gauth = GoogleAuth()\n",
        "# gauth.credentials = GoogleCredentials.get_application_default()\n",
        "# drive = GoogleDrive(gauth)\n",
        "\n",
        "# # 2. Downloading hafl trained model\n",
        "# local_download_path = os.path.expanduser('~')\n",
        "# file_list = drive.ListFile(\n",
        "#     {'q': \"'19lVhhib3mhWMW_eQsFFoOQLVsmfN6SB3' in parents\"}).GetList()\n",
        "\n",
        "# for f in file_list:\n",
        "#   # 3. Create & download by id.\n",
        "#   print('title: %s, id: %s' % (f['title'], f['id']))\n",
        "#   fname = os.path.join(local_download_path, f['title'])\n",
        "#   print('downloading to {}'.format(fname))\n",
        "#   f_ = drive.CreateFile({'id': f['id']})\n",
        "#   f_.GetContentFile(fname)\n",
        "\n",
        "# !unzip /content/*.zip\n",
        "# clear_output()"
      ],
      "execution_count": 0,
      "outputs": []
    },
    {
      "metadata": {
        "id": "M8h00KEOGc-P",
        "colab_type": "code",
        "colab": {}
      },
      "cell_type": "code",
      "source": [
        "import tensorflow as tf\n",
        "import numpy as np\n",
        "import random\n",
        "import matplotlib.pyplot as plt\n",
        "import time\n",
        "import os"
      ],
      "execution_count": 0,
      "outputs": []
    },
    {
      "metadata": {
        "id": "lReNlvi6VZQV",
        "colab_type": "code",
        "colab": {}
      },
      "cell_type": "code",
      "source": [
        "# Set parameters\n",
        "chkp_dir = os.path.join('checkpoints', 'cnnGesture')\n",
        "chkp_name = 'model'\n",
        "image_height,image_width,num_channels = 300, 370, 3\n",
        "num_categories = 6\n",
        "batch_size = 10\n",
        "min_after_dequeue = 1000\n",
        "capacity=min_after_dequeue+3*batch_size"
      ],
      "execution_count": 0,
      "outputs": []
    },
    {
      "metadata": {
        "id": "WtYcPcn7VZQY",
        "colab_type": "code",
        "colab": {}
      },
      "cell_type": "code",
      "source": [
        "# images plotting function\n",
        "def plotImg(imgs, titles = None):\n",
        "    fig = plt.figure()\n",
        "    for i in range(len(imgs)):\n",
        "        ax = fig.add_subplot(1, len(imgs), i + 1)\n",
        "        if titles != None:\n",
        "            ax.title.set_text(titles[i])\n",
        "        plt.imshow(imgs[i])\n",
        "        plt.axis('off')\n",
        "    plt.show()"
      ],
      "execution_count": 0,
      "outputs": []
    },
    {
      "metadata": {
        "id": "OSEdoLfqGdAV",
        "colab_type": "code",
        "colab": {
          "base_uri": "https://localhost:8080/",
          "height": 1068
        },
        "outputId": "991d8e83-16e3-46be-9d68-ed319bb6a8af"
      },
      "cell_type": "code",
      "source": [
        "# restore checkpoint\n",
        "sessRes = tf.Session()\n",
        "saver = tf.train.import_meta_graph(os.path.join(chkp_dir, 'model.meta'))\n",
        "saver.restore(sessRes, tf.train.latest_checkpoint(chkp_dir))"
      ],
      "execution_count": 17,
      "outputs": [
        {
          "output_type": "stream",
          "text": [
            "INFO:tensorflow:Restoring parameters from checkpoints/cnnGesture/model\n"
          ],
          "name": "stdout"
        },
        {
          "output_type": "error",
          "ename": "KeyboardInterrupt",
          "evalue": "ignored",
          "traceback": [
            "\u001b[0;31m---------------------------------------------------------------------------\u001b[0m",
            "\u001b[0;31mKeyboardInterrupt\u001b[0m                         Traceback (most recent call last)",
            "\u001b[0;32m<ipython-input-17-2fdcd9df97d9>\u001b[0m in \u001b[0;36m<module>\u001b[0;34m()\u001b[0m\n\u001b[1;32m      1\u001b[0m \u001b[0msessRes\u001b[0m \u001b[0;34m=\u001b[0m \u001b[0mtf\u001b[0m\u001b[0;34m.\u001b[0m\u001b[0mSession\u001b[0m\u001b[0;34m(\u001b[0m\u001b[0;34m)\u001b[0m\u001b[0;34m\u001b[0m\u001b[0m\n\u001b[1;32m      2\u001b[0m \u001b[0msaver\u001b[0m \u001b[0;34m=\u001b[0m \u001b[0mtf\u001b[0m\u001b[0;34m.\u001b[0m\u001b[0mtrain\u001b[0m\u001b[0;34m.\u001b[0m\u001b[0mimport_meta_graph\u001b[0m\u001b[0;34m(\u001b[0m\u001b[0mos\u001b[0m\u001b[0;34m.\u001b[0m\u001b[0mpath\u001b[0m\u001b[0;34m.\u001b[0m\u001b[0mjoin\u001b[0m\u001b[0;34m(\u001b[0m\u001b[0mchkp_dir\u001b[0m\u001b[0;34m,\u001b[0m \u001b[0;34m'model.meta'\u001b[0m\u001b[0;34m)\u001b[0m\u001b[0;34m)\u001b[0m\u001b[0;34m\u001b[0m\u001b[0m\n\u001b[0;32m----> 3\u001b[0;31m \u001b[0msaver\u001b[0m\u001b[0;34m.\u001b[0m\u001b[0mrestore\u001b[0m\u001b[0;34m(\u001b[0m\u001b[0msessRes\u001b[0m\u001b[0;34m,\u001b[0m \u001b[0mtf\u001b[0m\u001b[0;34m.\u001b[0m\u001b[0mtrain\u001b[0m\u001b[0;34m.\u001b[0m\u001b[0mlatest_checkpoint\u001b[0m\u001b[0;34m(\u001b[0m\u001b[0mchkp_dir\u001b[0m\u001b[0;34m)\u001b[0m\u001b[0;34m)\u001b[0m\u001b[0;34m\u001b[0m\u001b[0m\n\u001b[0m",
            "\u001b[0;32m/usr/local/lib/python3.6/dist-packages/tensorflow/python/training/saver.py\u001b[0m in \u001b[0;36mrestore\u001b[0;34m(self, sess, save_path)\u001b[0m\n\u001b[1;32m   1750\u001b[0m       \u001b[0;32melse\u001b[0m\u001b[0;34m:\u001b[0m\u001b[0;34m\u001b[0m\u001b[0m\n\u001b[1;32m   1751\u001b[0m         sess.run(self.saver_def.restore_op_name,\n\u001b[0;32m-> 1752\u001b[0;31m                  {self.saver_def.filename_tensor_name: save_path})\n\u001b[0m\u001b[1;32m   1753\u001b[0m     \u001b[0;32mexcept\u001b[0m \u001b[0merrors\u001b[0m\u001b[0;34m.\u001b[0m\u001b[0mNotFoundError\u001b[0m\u001b[0;34m:\u001b[0m\u001b[0;34m\u001b[0m\u001b[0m\n\u001b[1;32m   1754\u001b[0m       \u001b[0mexception_type\u001b[0m\u001b[0;34m,\u001b[0m \u001b[0mexception_value\u001b[0m\u001b[0;34m,\u001b[0m \u001b[0mexception_traceback\u001b[0m \u001b[0;34m=\u001b[0m \u001b[0msys\u001b[0m\u001b[0;34m.\u001b[0m\u001b[0mexc_info\u001b[0m\u001b[0;34m(\u001b[0m\u001b[0;34m)\u001b[0m\u001b[0;34m\u001b[0m\u001b[0m\n",
            "\u001b[0;32m/usr/local/lib/python3.6/dist-packages/tensorflow/python/client/session.py\u001b[0m in \u001b[0;36mrun\u001b[0;34m(self, fetches, feed_dict, options, run_metadata)\u001b[0m\n\u001b[1;32m    898\u001b[0m     \u001b[0;32mtry\u001b[0m\u001b[0;34m:\u001b[0m\u001b[0;34m\u001b[0m\u001b[0m\n\u001b[1;32m    899\u001b[0m       result = self._run(None, fetches, feed_dict, options_ptr,\n\u001b[0;32m--> 900\u001b[0;31m                          run_metadata_ptr)\n\u001b[0m\u001b[1;32m    901\u001b[0m       \u001b[0;32mif\u001b[0m \u001b[0mrun_metadata\u001b[0m\u001b[0;34m:\u001b[0m\u001b[0;34m\u001b[0m\u001b[0m\n\u001b[1;32m    902\u001b[0m         \u001b[0mproto_data\u001b[0m \u001b[0;34m=\u001b[0m \u001b[0mtf_session\u001b[0m\u001b[0;34m.\u001b[0m\u001b[0mTF_GetBuffer\u001b[0m\u001b[0;34m(\u001b[0m\u001b[0mrun_metadata_ptr\u001b[0m\u001b[0;34m)\u001b[0m\u001b[0;34m\u001b[0m\u001b[0m\n",
            "\u001b[0;32m/usr/local/lib/python3.6/dist-packages/tensorflow/python/client/session.py\u001b[0m in \u001b[0;36m_run\u001b[0;34m(self, handle, fetches, feed_dict, options, run_metadata)\u001b[0m\n\u001b[1;32m   1133\u001b[0m     \u001b[0;32mif\u001b[0m \u001b[0mfinal_fetches\u001b[0m \u001b[0;32mor\u001b[0m \u001b[0mfinal_targets\u001b[0m \u001b[0;32mor\u001b[0m \u001b[0;34m(\u001b[0m\u001b[0mhandle\u001b[0m \u001b[0;32mand\u001b[0m \u001b[0mfeed_dict_tensor\u001b[0m\u001b[0;34m)\u001b[0m\u001b[0;34m:\u001b[0m\u001b[0;34m\u001b[0m\u001b[0m\n\u001b[1;32m   1134\u001b[0m       results = self._do_run(handle, final_targets, final_fetches,\n\u001b[0;32m-> 1135\u001b[0;31m                              feed_dict_tensor, options, run_metadata)\n\u001b[0m\u001b[1;32m   1136\u001b[0m     \u001b[0;32melse\u001b[0m\u001b[0;34m:\u001b[0m\u001b[0;34m\u001b[0m\u001b[0m\n\u001b[1;32m   1137\u001b[0m       \u001b[0mresults\u001b[0m \u001b[0;34m=\u001b[0m \u001b[0;34m[\u001b[0m\u001b[0;34m]\u001b[0m\u001b[0;34m\u001b[0m\u001b[0m\n",
            "\u001b[0;32m/usr/local/lib/python3.6/dist-packages/tensorflow/python/client/session.py\u001b[0m in \u001b[0;36m_do_run\u001b[0;34m(self, handle, target_list, fetch_list, feed_dict, options, run_metadata)\u001b[0m\n\u001b[1;32m   1314\u001b[0m     \u001b[0;32mif\u001b[0m \u001b[0mhandle\u001b[0m \u001b[0;32mis\u001b[0m \u001b[0;32mNone\u001b[0m\u001b[0;34m:\u001b[0m\u001b[0;34m\u001b[0m\u001b[0m\n\u001b[1;32m   1315\u001b[0m       return self._do_call(_run_fn, feeds, fetches, targets, options,\n\u001b[0;32m-> 1316\u001b[0;31m                            run_metadata)\n\u001b[0m\u001b[1;32m   1317\u001b[0m     \u001b[0;32melse\u001b[0m\u001b[0;34m:\u001b[0m\u001b[0;34m\u001b[0m\u001b[0m\n\u001b[1;32m   1318\u001b[0m       \u001b[0;32mreturn\u001b[0m \u001b[0mself\u001b[0m\u001b[0;34m.\u001b[0m\u001b[0m_do_call\u001b[0m\u001b[0;34m(\u001b[0m\u001b[0m_prun_fn\u001b[0m\u001b[0;34m,\u001b[0m \u001b[0mhandle\u001b[0m\u001b[0;34m,\u001b[0m \u001b[0mfeeds\u001b[0m\u001b[0;34m,\u001b[0m \u001b[0mfetches\u001b[0m\u001b[0;34m)\u001b[0m\u001b[0;34m\u001b[0m\u001b[0m\n",
            "\u001b[0;32m/usr/local/lib/python3.6/dist-packages/tensorflow/python/client/session.py\u001b[0m in \u001b[0;36m_do_call\u001b[0;34m(self, fn, *args)\u001b[0m\n\u001b[1;32m   1320\u001b[0m   \u001b[0;32mdef\u001b[0m \u001b[0m_do_call\u001b[0m\u001b[0;34m(\u001b[0m\u001b[0mself\u001b[0m\u001b[0;34m,\u001b[0m \u001b[0mfn\u001b[0m\u001b[0;34m,\u001b[0m \u001b[0;34m*\u001b[0m\u001b[0margs\u001b[0m\u001b[0;34m)\u001b[0m\u001b[0;34m:\u001b[0m\u001b[0;34m\u001b[0m\u001b[0m\n\u001b[1;32m   1321\u001b[0m     \u001b[0;32mtry\u001b[0m\u001b[0;34m:\u001b[0m\u001b[0;34m\u001b[0m\u001b[0m\n\u001b[0;32m-> 1322\u001b[0;31m       \u001b[0;32mreturn\u001b[0m \u001b[0mfn\u001b[0m\u001b[0;34m(\u001b[0m\u001b[0;34m*\u001b[0m\u001b[0margs\u001b[0m\u001b[0;34m)\u001b[0m\u001b[0;34m\u001b[0m\u001b[0m\n\u001b[0m\u001b[1;32m   1323\u001b[0m     \u001b[0;32mexcept\u001b[0m \u001b[0merrors\u001b[0m\u001b[0;34m.\u001b[0m\u001b[0mOpError\u001b[0m \u001b[0;32mas\u001b[0m \u001b[0me\u001b[0m\u001b[0;34m:\u001b[0m\u001b[0;34m\u001b[0m\u001b[0m\n\u001b[1;32m   1324\u001b[0m       \u001b[0mmessage\u001b[0m \u001b[0;34m=\u001b[0m \u001b[0mcompat\u001b[0m\u001b[0;34m.\u001b[0m\u001b[0mas_text\u001b[0m\u001b[0;34m(\u001b[0m\u001b[0me\u001b[0m\u001b[0;34m.\u001b[0m\u001b[0mmessage\u001b[0m\u001b[0;34m)\u001b[0m\u001b[0;34m\u001b[0m\u001b[0m\n",
            "\u001b[0;32m/usr/local/lib/python3.6/dist-packages/tensorflow/python/client/session.py\u001b[0m in \u001b[0;36m_run_fn\u001b[0;34m(feed_dict, fetch_list, target_list, options, run_metadata)\u001b[0m\n\u001b[1;32m   1303\u001b[0m     \u001b[0;32mdef\u001b[0m \u001b[0m_run_fn\u001b[0m\u001b[0;34m(\u001b[0m\u001b[0mfeed_dict\u001b[0m\u001b[0;34m,\u001b[0m \u001b[0mfetch_list\u001b[0m\u001b[0;34m,\u001b[0m \u001b[0mtarget_list\u001b[0m\u001b[0;34m,\u001b[0m \u001b[0moptions\u001b[0m\u001b[0;34m,\u001b[0m \u001b[0mrun_metadata\u001b[0m\u001b[0;34m)\u001b[0m\u001b[0;34m:\u001b[0m\u001b[0;34m\u001b[0m\u001b[0m\n\u001b[1;32m   1304\u001b[0m       \u001b[0;31m# Ensure any changes to the graph are reflected in the runtime.\u001b[0m\u001b[0;34m\u001b[0m\u001b[0;34m\u001b[0m\u001b[0m\n\u001b[0;32m-> 1305\u001b[0;31m       \u001b[0mself\u001b[0m\u001b[0;34m.\u001b[0m\u001b[0m_extend_graph\u001b[0m\u001b[0;34m(\u001b[0m\u001b[0;34m)\u001b[0m\u001b[0;34m\u001b[0m\u001b[0m\n\u001b[0m\u001b[1;32m   1306\u001b[0m       return self._call_tf_sessionrun(\n\u001b[1;32m   1307\u001b[0m           options, feed_dict, fetch_list, target_list, run_metadata)\n",
            "\u001b[0;32m/usr/local/lib/python3.6/dist-packages/tensorflow/python/client/session.py\u001b[0m in \u001b[0;36m_extend_graph\u001b[0;34m(self)\u001b[0m\n\u001b[1;32m   1338\u001b[0m     \u001b[0;32mif\u001b[0m \u001b[0mself\u001b[0m\u001b[0;34m.\u001b[0m\u001b[0m_created_with_new_api\u001b[0m\u001b[0;34m:\u001b[0m\u001b[0;34m\u001b[0m\u001b[0m\n\u001b[1;32m   1339\u001b[0m       \u001b[0;32mwith\u001b[0m \u001b[0mself\u001b[0m\u001b[0;34m.\u001b[0m\u001b[0m_graph\u001b[0m\u001b[0;34m.\u001b[0m\u001b[0m_lock\u001b[0m\u001b[0;34m:\u001b[0m  \u001b[0;31m# pylint: disable=protected-access\u001b[0m\u001b[0;34m\u001b[0m\u001b[0m\n\u001b[0;32m-> 1340\u001b[0;31m         \u001b[0mtf_session\u001b[0m\u001b[0;34m.\u001b[0m\u001b[0mExtendSession\u001b[0m\u001b[0;34m(\u001b[0m\u001b[0mself\u001b[0m\u001b[0;34m.\u001b[0m\u001b[0m_session\u001b[0m\u001b[0;34m)\u001b[0m\u001b[0;34m\u001b[0m\u001b[0m\n\u001b[0m\u001b[1;32m   1341\u001b[0m     \u001b[0;32melse\u001b[0m\u001b[0;34m:\u001b[0m\u001b[0;34m\u001b[0m\u001b[0m\n\u001b[1;32m   1342\u001b[0m       \u001b[0;31m# Ensure any changes to the graph are reflected in the runtime.\u001b[0m\u001b[0;34m\u001b[0m\u001b[0;34m\u001b[0m\u001b[0m\n",
            "\u001b[0;31mKeyboardInterrupt\u001b[0m: "
          ]
        }
      ]
    },
    {
      "metadata": {
        "id": "SqvCis4YHpSX",
        "colab_type": "code",
        "colab": {}
      },
      "cell_type": "code",
      "source": [
        "# variable and tensor initialization\n",
        "img_holder = sessRes.graph.get_tensor_by_name('img_holder:0')\n",
        "lbl_holder =sessRes.graph.get_tensor_by_name('lbl_holder:0')\n",
        "loss=sessRes.graph.get_tensor_by_name('loss:0')\n",
        "accuracy=tf.get_default_graph().get_tensor_by_name('accuracy:0')\n",
        "optimizer=tf.get_default_graph().get_tensor_by_name('optimizer:0')\n",
        "predict=tf.get_default_graph().get_tensor_by_name('prediction:0')\n",
        "train = sessRes.graph.get_tensor_by_name('train_bool:0')\n",
        "log_dir = sessRes.run('log_dir:0').decode('utf-8')\n",
        "test_total = sessRes.run('test_total:0')\n",
        "train_total = sessRes.run('train_total:0')\n",
        "num_epochs = sessRes.run('num_epochs:0')\n",
        "batch_size = sessRes.run('batch_size:0')\n",
        "global_step = sessRes.run('global_step:0')\n",
        "# # tensorboard\n",
        "# summary_loss = tf.summary.scalar('loss', loss)\n",
        "# summary_accuracy = tf.summary.scalar('accuracy', accuracy)\n",
        "# merged_op = tf.summary.merge([summary_loss, summary_accuracy])\n",
        "# # Create FileWriter\n",
        "# file_writer = tf.summary.FileWriter(log_dir, graph=tf.get_default_graph())\n",
        "print('setted up epoch number:', num_epochs, 'setted batch size:', batch_size)\n",
        "print('test total:', test_total)\n",
        "print('train total:', train_total)\n",
        "print('last epochs:', global_step*batch_size/train_total)\n",
        "print('last global steps:', global_step)"
      ],
      "execution_count": 0,
      "outputs": []
    },
    {
      "metadata": {
        "id": "u1LGYolfIZSd",
        "colab_type": "code",
        "colab": {}
      },
      "cell_type": "code",
      "source": [
        "# session to exexute queuing\n",
        "# restore checkpoint\n",
        "sess4Q = tf.Session()\n",
        "saver4Q = tf.train.import_meta_graph(os.path.join(chkp_dir, 'model.meta'))\n",
        "saver4Q.restore(sess4Q, tf.train.latest_checkpoint(chkp_dir))\n",
        "batchTrainData = sess4Q.graph.get_tensor_by_name('batchTrainData:0')\n",
        "batchTrainLabel = sess4Q.graph.get_tensor_by_name('batchTrainData:1')\n",
        "totalTestData = sess4Q.graph.get_tensor_by_name('totalTestData:0')\n",
        "totalTestLabel = sess4Q.graph.get_tensor_by_name('totalTestData:1')\n",
        "sess4Q.run(tf.local_variables_initializer())\n",
        "coord=tf.train.Coordinator()\n",
        "threads=tf.train.start_queue_runners(sess=sess4Q,coord=coord)"
      ],
      "execution_count": 0,
      "outputs": []
    },
    {
      "metadata": {
        "id": "Mj40oy8Oev6O",
        "colab_type": "code",
        "colab": {
          "base_uri": "https://localhost:8080/",
          "height": 3026
        },
        "outputId": "5b65c064-c5e6-4c50-d0ea-0f4f40d14d6e"
      },
      "cell_type": "code",
      "source": [
        "try:\n",
        "    test_images,test_labels = sess4Q.run([totalTestData, totalTestLabel])\n",
        "    batch_i = 1\n",
        "    total_batch = 0\n",
        "    epoch = 1\n",
        "    start_time = time.time()\n",
        "    while not coord.should_stop():\n",
        "        imgs, labels = sess4Q.run([batchTrainData,batchTrainLabel])\n",
        "        sessRes.run(optimizer, feed_dict={img_holder:imgs,lbl_holder:labels,train: True})\n",
        "#         loss_val, accuracy_val, summary = sessRes.run([loss, accuracy, merged_op],feed_dict={img_holder:imgs,lbl_holder:labels,train: False})\n",
        "#         # Print the summary data\n",
        "#         file_writer.add_summary(summary)\n",
        "        if batch_i % 100 == 0:\n",
        "            loss_val, accuracy_val = sessRes.run([loss, accuracy],feed_dict={img_holder:imgs,lbl_holder:labels,train: False})\n",
        "            test_accuracy = sessRes.run(accuracy, feed_dict={img_holder:test_images[269:369],lbl_holder:test_labels[269:369],train: False})\n",
        "            file_writer.flush()\n",
        "            # save training result\n",
        "            saver.save(sessRes, os.path.join(chkp_dir, chkp_name))\n",
        "            duration = time.time() - start_time\n",
        "            print('epoch:', epoch, 'batch:', batch_i, 'loss:', loss_val, 'cur_accuracy:', accuracy_val, 'test_accuracy:', test_accuracy, \n",
        "                  'duration: %.3fs' % duration)\n",
        "            start_time = time.time()\n",
        "        batch_i += 1\n",
        "        total_batch += batch_size\n",
        "        if total_batch >= train_total:\n",
        "            epoch += 1\n",
        "            total_batch = 0\n",
        "            batch_i = 1\n",
        "except tf.errors.OutOfRangeError:\n",
        "    print('Done.')\n",
        "except Exception as e:\n",
        "    coord.request_stop(e)\n",
        "finally:\n",
        "    coord.request_stop()\n",
        "coord.join(threads)\n",
        "sess4Q.close()"
      ],
      "execution_count": 8,
      "outputs": [
        {
          "output_type": "stream",
          "text": [
            "epoch: 6 batch: 300 loss: 0.592834 cur_accuracy: 1.0 test_accuracy: 0.9 duration: 16.524s\n",
            "epoch: 6 batch: 400 loss: 0.58714044 cur_accuracy: 0.9 test_accuracy: 0.92 duration: 16.463s\n",
            "epoch: 6 batch: 500 loss: 0.5494409 cur_accuracy: 1.0 test_accuracy: 0.82 duration: 16.557s\n",
            "epoch: 6 batch: 600 loss: 0.41266376 cur_accuracy: 1.0 test_accuracy: 0.91 duration: 16.550s\n",
            "epoch: 6 batch: 700 loss: 0.6400164 cur_accuracy: 1.0 test_accuracy: 0.85 duration: 16.562s\n",
            "epoch: 6 batch: 800 loss: 0.41401166 cur_accuracy: 0.9 test_accuracy: 0.84 duration: 16.572s\n",
            "epoch: 6 batch: 900 loss: 0.47028214 cur_accuracy: 1.0 test_accuracy: 0.91 duration: 16.517s\n",
            "epoch: 6 batch: 1000 loss: 0.4238142 cur_accuracy: 1.0 test_accuracy: 0.84 duration: 16.512s\n",
            "epoch: 6 batch: 1100 loss: 0.47897846 cur_accuracy: 1.0 test_accuracy: 0.91 duration: 16.467s\n",
            "epoch: 6 batch: 1200 loss: 0.467484 cur_accuracy: 1.0 test_accuracy: 0.87 duration: 16.501s\n",
            "epoch: 7 batch: 100 loss: 0.74884987 cur_accuracy: 0.9 test_accuracy: 0.89 duration: 16.610s\n",
            "epoch: 7 batch: 200 loss: 0.4806501 cur_accuracy: 1.0 test_accuracy: 0.88 duration: 16.697s\n",
            "epoch: 7 batch: 300 loss: 0.37381083 cur_accuracy: 1.0 test_accuracy: 0.93 duration: 16.580s\n",
            "epoch: 7 batch: 400 loss: 0.44747034 cur_accuracy: 1.0 test_accuracy: 0.96 duration: 16.720s\n",
            "epoch: 7 batch: 500 loss: 0.4975399 cur_accuracy: 1.0 test_accuracy: 0.92 duration: 16.523s\n",
            "epoch: 7 batch: 600 loss: 0.44953704 cur_accuracy: 1.0 test_accuracy: 0.88 duration: 16.602s\n",
            "epoch: 7 batch: 700 loss: 0.5045813 cur_accuracy: 0.9 test_accuracy: 0.95 duration: 16.510s\n",
            "epoch: 7 batch: 800 loss: 0.35532758 cur_accuracy: 1.0 test_accuracy: 0.78 duration: 16.601s\n",
            "epoch: 7 batch: 900 loss: 0.557142 cur_accuracy: 1.0 test_accuracy: 0.83 duration: 16.572s\n",
            "epoch: 7 batch: 1000 loss: 0.625535 cur_accuracy: 1.0 test_accuracy: 0.78 duration: 16.563s\n",
            "epoch: 7 batch: 1100 loss: 0.5944901 cur_accuracy: 0.9 test_accuracy: 0.86 duration: 16.452s\n",
            "epoch: 7 batch: 1200 loss: 0.62877715 cur_accuracy: 1.0 test_accuracy: 0.82 duration: 16.439s\n",
            "epoch: 8 batch: 100 loss: 0.49964365 cur_accuracy: 1.0 test_accuracy: 0.91 duration: 16.544s\n",
            "epoch: 8 batch: 200 loss: 0.44403067 cur_accuracy: 1.0 test_accuracy: 0.92 duration: 16.505s\n",
            "epoch: 8 batch: 300 loss: 0.48546267 cur_accuracy: 1.0 test_accuracy: 0.83 duration: 16.500s\n",
            "epoch: 8 batch: 400 loss: 0.36018747 cur_accuracy: 1.0 test_accuracy: 0.88 duration: 16.494s\n",
            "epoch: 8 batch: 500 loss: 0.4716002 cur_accuracy: 1.0 test_accuracy: 0.84 duration: 16.496s\n",
            "epoch: 8 batch: 600 loss: 0.5180349 cur_accuracy: 1.0 test_accuracy: 0.8 duration: 16.602s\n",
            "epoch: 8 batch: 700 loss: 0.62100375 cur_accuracy: 0.8 test_accuracy: 0.81 duration: 16.566s\n",
            "epoch: 8 batch: 800 loss: 0.62054765 cur_accuracy: 1.0 test_accuracy: 0.71 duration: 16.547s\n",
            "epoch: 8 batch: 900 loss: 0.46385393 cur_accuracy: 1.0 test_accuracy: 0.79 duration: 16.493s\n",
            "epoch: 8 batch: 1000 loss: 0.35862744 cur_accuracy: 1.0 test_accuracy: 0.73 duration: 16.578s\n",
            "epoch: 8 batch: 1100 loss: 0.44276756 cur_accuracy: 1.0 test_accuracy: 0.86 duration: 16.578s\n",
            "epoch: 8 batch: 1200 loss: 0.46841615 cur_accuracy: 1.0 test_accuracy: 0.74 duration: 16.542s\n",
            "epoch: 9 batch: 100 loss: 0.67431384 cur_accuracy: 1.0 test_accuracy: 0.57 duration: 16.539s\n",
            "epoch: 9 batch: 200 loss: 0.4542304 cur_accuracy: 1.0 test_accuracy: 0.8 duration: 16.601s\n",
            "epoch: 9 batch: 300 loss: 0.452312 cur_accuracy: 1.0 test_accuracy: 0.94 duration: 16.595s\n",
            "epoch: 9 batch: 400 loss: 0.5297882 cur_accuracy: 0.9 test_accuracy: 0.95 duration: 16.569s\n",
            "epoch: 9 batch: 500 loss: 0.45692664 cur_accuracy: 0.9 test_accuracy: 0.75 duration: 16.580s\n",
            "epoch: 9 batch: 600 loss: 0.44333786 cur_accuracy: 1.0 test_accuracy: 0.99 duration: 16.614s\n",
            "epoch: 9 batch: 700 loss: 0.4894879 cur_accuracy: 1.0 test_accuracy: 0.97 duration: 16.559s\n",
            "epoch: 9 batch: 800 loss: 0.64692724 cur_accuracy: 0.9 test_accuracy: 0.98 duration: 16.549s\n",
            "epoch: 9 batch: 900 loss: 0.6260476 cur_accuracy: 0.9 test_accuracy: 0.99 duration: 16.540s\n",
            "epoch: 9 batch: 1000 loss: 0.5168017 cur_accuracy: 1.0 test_accuracy: 0.86 duration: 16.669s\n",
            "epoch: 9 batch: 1100 loss: 0.5895051 cur_accuracy: 1.0 test_accuracy: 0.76 duration: 16.676s\n"
          ],
          "name": "stdout"
        },
        {
          "output_type": "stream",
          "text": [
            "epoch: 9 batch: 1200 loss: 0.36087117 cur_accuracy: 1.0 test_accuracy: 0.92 duration: 16.791s\n",
            "epoch: 10 batch: 100 loss: 0.47799286 cur_accuracy: 1.0 test_accuracy: 0.81 duration: 16.618s\n",
            "epoch: 10 batch: 200 loss: 0.46349174 cur_accuracy: 1.0 test_accuracy: 0.9 duration: 16.633s\n",
            "epoch: 10 batch: 300 loss: 0.46414328 cur_accuracy: 1.0 test_accuracy: 0.94 duration: 16.594s\n",
            "epoch: 10 batch: 400 loss: 0.48443574 cur_accuracy: 1.0 test_accuracy: 0.82 duration: 16.592s\n",
            "epoch: 10 batch: 500 loss: 0.4439252 cur_accuracy: 1.0 test_accuracy: 0.96 duration: 16.603s\n",
            "epoch: 10 batch: 600 loss: 0.58888614 cur_accuracy: 0.9 test_accuracy: 0.94 duration: 16.609s\n",
            "epoch: 10 batch: 700 loss: 0.43714684 cur_accuracy: 1.0 test_accuracy: 0.78 duration: 16.552s\n",
            "epoch: 10 batch: 800 loss: 0.4721493 cur_accuracy: 1.0 test_accuracy: 0.93 duration: 16.559s\n",
            "epoch: 10 batch: 900 loss: 0.36215714 cur_accuracy: 1.0 test_accuracy: 0.85 duration: 16.597s\n",
            "epoch: 10 batch: 1000 loss: 0.3547989 cur_accuracy: 1.0 test_accuracy: 0.78 duration: 16.631s\n",
            "epoch: 10 batch: 1100 loss: 0.44818473 cur_accuracy: 1.0 test_accuracy: 0.76 duration: 16.554s\n",
            "epoch: 10 batch: 1200 loss: 0.32188982 cur_accuracy: 1.0 test_accuracy: 0.84 duration: 16.527s\n",
            "epoch: 11 batch: 100 loss: 0.3559971 cur_accuracy: 1.0 test_accuracy: 0.86 duration: 16.624s\n",
            "epoch: 11 batch: 200 loss: 0.82256174 cur_accuracy: 0.8 test_accuracy: 0.89 duration: 16.617s\n",
            "epoch: 11 batch: 300 loss: 0.4492178 cur_accuracy: 1.0 test_accuracy: 0.82 duration: 16.619s\n",
            "epoch: 11 batch: 400 loss: 0.490034 cur_accuracy: 1.0 test_accuracy: 0.81 duration: 16.645s\n",
            "epoch: 11 batch: 500 loss: 0.42232102 cur_accuracy: 1.0 test_accuracy: 0.95 duration: 16.595s\n",
            "epoch: 11 batch: 600 loss: 0.40892592 cur_accuracy: 1.0 test_accuracy: 0.89 duration: 16.762s\n",
            "epoch: 11 batch: 700 loss: 0.48390278 cur_accuracy: 1.0 test_accuracy: 0.87 duration: 16.610s\n",
            "epoch: 11 batch: 800 loss: 0.35777894 cur_accuracy: 1.0 test_accuracy: 0.91 duration: 16.633s\n",
            "epoch: 11 batch: 900 loss: 0.4634927 cur_accuracy: 1.0 test_accuracy: 0.91 duration: 16.686s\n",
            "epoch: 11 batch: 1000 loss: 0.557369 cur_accuracy: 1.0 test_accuracy: 0.94 duration: 16.652s\n",
            "epoch: 11 batch: 1100 loss: 0.39984506 cur_accuracy: 1.0 test_accuracy: 0.99 duration: 16.625s\n",
            "epoch: 11 batch: 1200 loss: 0.49016207 cur_accuracy: 1.0 test_accuracy: 0.95 duration: 16.596s\n",
            "epoch: 12 batch: 100 loss: 0.44081283 cur_accuracy: 1.0 test_accuracy: 0.99 duration: 16.617s\n",
            "epoch: 12 batch: 200 loss: 0.3525592 cur_accuracy: 1.0 test_accuracy: 0.95 duration: 16.698s\n",
            "epoch: 12 batch: 300 loss: 0.51684475 cur_accuracy: 1.0 test_accuracy: 0.94 duration: 16.613s\n",
            "epoch: 12 batch: 400 loss: 0.48423457 cur_accuracy: 1.0 test_accuracy: 0.81 duration: 16.621s\n",
            "epoch: 12 batch: 500 loss: 0.5031589 cur_accuracy: 1.0 test_accuracy: 0.97 duration: 16.573s\n",
            "epoch: 12 batch: 600 loss: 0.33582464 cur_accuracy: 1.0 test_accuracy: 0.79 duration: 16.593s\n",
            "epoch: 12 batch: 700 loss: 0.32648438 cur_accuracy: 1.0 test_accuracy: 0.83 duration: 16.541s\n",
            "epoch: 12 batch: 800 loss: 0.64986074 cur_accuracy: 1.0 test_accuracy: 0.84 duration: 16.614s\n",
            "epoch: 12 batch: 900 loss: 0.60794055 cur_accuracy: 1.0 test_accuracy: 0.89 duration: 16.601s\n",
            "epoch: 12 batch: 1000 loss: 0.47847447 cur_accuracy: 1.0 test_accuracy: 0.84 duration: 16.647s\n",
            "epoch: 12 batch: 1100 loss: 0.41302413 cur_accuracy: 1.0 test_accuracy: 0.87 duration: 16.595s\n",
            "epoch: 12 batch: 1200 loss: 0.46529517 cur_accuracy: 1.0 test_accuracy: 0.83 duration: 16.783s\n",
            "epoch: 13 batch: 100 loss: 0.46855775 cur_accuracy: 1.0 test_accuracy: 0.89 duration: 16.618s\n",
            "epoch: 13 batch: 200 loss: 0.35546377 cur_accuracy: 1.0 test_accuracy: 0.81 duration: 16.677s\n",
            "epoch: 13 batch: 300 loss: 0.6135448 cur_accuracy: 1.0 test_accuracy: 0.82 duration: 16.623s\n",
            "epoch: 13 batch: 400 loss: 0.6111878 cur_accuracy: 1.0 test_accuracy: 0.83 duration: 16.575s\n",
            "epoch: 13 batch: 500 loss: 0.58974564 cur_accuracy: 0.9 test_accuracy: 0.88 duration: 16.594s\n",
            "epoch: 13 batch: 600 loss: 0.7185815 cur_accuracy: 0.9 test_accuracy: 0.85 duration: 16.574s\n",
            "epoch: 13 batch: 700 loss: 0.620535 cur_accuracy: 0.9 test_accuracy: 0.87 duration: 16.592s\n",
            "epoch: 13 batch: 800 loss: 0.46927387 cur_accuracy: 1.0 test_accuracy: 0.84 duration: 16.594s\n"
          ],
          "name": "stdout"
        },
        {
          "output_type": "stream",
          "text": [
            "epoch: 13 batch: 900 loss: 0.56066793 cur_accuracy: 1.0 test_accuracy: 0.88 duration: 16.629s\n",
            "epoch: 13 batch: 1000 loss: 0.43907794 cur_accuracy: 1.0 test_accuracy: 0.81 duration: 16.586s\n",
            "epoch: 13 batch: 1100 loss: 0.5932411 cur_accuracy: 1.0 test_accuracy: 0.86 duration: 16.630s\n",
            "epoch: 13 batch: 1200 loss: 0.6211865 cur_accuracy: 0.9 test_accuracy: 0.89 duration: 16.576s\n",
            "epoch: 14 batch: 100 loss: 0.48354498 cur_accuracy: 1.0 test_accuracy: 0.9 duration: 16.651s\n",
            "epoch: 14 batch: 200 loss: 0.4616018 cur_accuracy: 1.0 test_accuracy: 0.89 duration: 16.623s\n",
            "epoch: 14 batch: 300 loss: 0.44029126 cur_accuracy: 1.0 test_accuracy: 0.77 duration: 16.566s\n",
            "epoch: 14 batch: 400 loss: 0.32203478 cur_accuracy: 1.0 test_accuracy: 0.86 duration: 16.627s\n",
            "epoch: 14 batch: 500 loss: 0.3253836 cur_accuracy: 1.0 test_accuracy: 0.8 duration: 16.698s\n",
            "epoch: 14 batch: 600 loss: 0.35319567 cur_accuracy: 1.0 test_accuracy: 0.91 duration: 16.798s\n",
            "epoch: 14 batch: 700 loss: 0.3866191 cur_accuracy: 1.0 test_accuracy: 0.93 duration: 16.599s\n",
            "epoch: 14 batch: 800 loss: 0.6350988 cur_accuracy: 0.9 test_accuracy: 0.89 duration: 16.583s\n",
            "epoch: 14 batch: 900 loss: 0.44453722 cur_accuracy: 1.0 test_accuracy: 0.84 duration: 16.565s\n",
            "epoch: 14 batch: 1000 loss: 0.4450818 cur_accuracy: 1.0 test_accuracy: 0.82 duration: 16.631s\n",
            "epoch: 14 batch: 1100 loss: 0.5832035 cur_accuracy: 1.0 test_accuracy: 0.9 duration: 16.602s\n",
            "epoch: 14 batch: 1200 loss: 0.36058235 cur_accuracy: 1.0 test_accuracy: 0.8 duration: 16.593s\n",
            "epoch: 15 batch: 100 loss: 0.40089542 cur_accuracy: 1.0 test_accuracy: 0.95 duration: 16.626s\n",
            "epoch: 15 batch: 200 loss: 0.44153944 cur_accuracy: 1.0 test_accuracy: 0.89 duration: 16.604s\n",
            "epoch: 15 batch: 300 loss: 0.3264389 cur_accuracy: 1.0 test_accuracy: 0.87 duration: 16.580s\n",
            "epoch: 15 batch: 400 loss: 0.43594274 cur_accuracy: 1.0 test_accuracy: 0.9 duration: 16.616s\n",
            "epoch: 15 batch: 500 loss: 0.47894153 cur_accuracy: 1.0 test_accuracy: 0.87 duration: 16.607s\n",
            "epoch: 15 batch: 600 loss: 0.4608245 cur_accuracy: 1.0 test_accuracy: 0.93 duration: 16.635s\n",
            "epoch: 15 batch: 700 loss: 0.6728698 cur_accuracy: 1.0 test_accuracy: 0.93 duration: 16.618s\n",
            "epoch: 15 batch: 800 loss: 0.4891328 cur_accuracy: 1.0 test_accuracy: 0.91 duration: 16.604s\n",
            "epoch: 15 batch: 900 loss: 0.4433307 cur_accuracy: 1.0 test_accuracy: 0.99 duration: 16.642s\n",
            "epoch: 15 batch: 1000 loss: 0.35556397 cur_accuracy: 1.0 test_accuracy: 0.99 duration: 16.675s\n",
            "epoch: 15 batch: 1100 loss: 0.61069375 cur_accuracy: 0.9 test_accuracy: 0.95 duration: 16.745s\n",
            "epoch: 15 batch: 1200 loss: 0.67229474 cur_accuracy: 0.9 test_accuracy: 0.95 duration: 16.704s\n",
            "epoch: 16 batch: 100 loss: 0.54758364 cur_accuracy: 1.0 test_accuracy: 0.85 duration: 16.647s\n",
            "epoch: 16 batch: 200 loss: 0.50249356 cur_accuracy: 1.0 test_accuracy: 0.88 duration: 16.645s\n",
            "epoch: 16 batch: 300 loss: 0.6380898 cur_accuracy: 1.0 test_accuracy: 0.87 duration: 16.613s\n",
            "epoch: 16 batch: 400 loss: 0.3566835 cur_accuracy: 1.0 test_accuracy: 0.82 duration: 16.640s\n",
            "epoch: 16 batch: 500 loss: 0.6537693 cur_accuracy: 1.0 test_accuracy: 0.93 duration: 16.613s\n",
            "epoch: 16 batch: 600 loss: 0.47768277 cur_accuracy: 1.0 test_accuracy: 0.86 duration: 16.595s\n",
            "epoch: 16 batch: 700 loss: 0.5426714 cur_accuracy: 1.0 test_accuracy: 0.86 duration: 16.603s\n",
            "epoch: 16 batch: 800 loss: 0.4432258 cur_accuracy: 1.0 test_accuracy: 0.93 duration: 16.723s\n",
            "epoch: 16 batch: 900 loss: 0.3525556 cur_accuracy: 1.0 test_accuracy: 0.84 duration: 16.657s\n",
            "epoch: 16 batch: 1000 loss: 0.6151092 cur_accuracy: 1.0 test_accuracy: 0.84 duration: 16.625s\n",
            "epoch: 16 batch: 1100 loss: 0.44297385 cur_accuracy: 1.0 test_accuracy: 0.83 duration: 16.583s\n",
            "epoch: 16 batch: 1200 loss: 0.5836178 cur_accuracy: 0.9 test_accuracy: 0.86 duration: 16.581s\n",
            "epoch: 17 batch: 100 loss: 0.48268288 cur_accuracy: 1.0 test_accuracy: 0.92 duration: 16.549s\n",
            "epoch: 17 batch: 200 loss: 0.444414 cur_accuracy: 1.0 test_accuracy: 0.88 duration: 16.609s\n",
            "epoch: 17 batch: 300 loss: 0.44050914 cur_accuracy: 1.0 test_accuracy: 0.84 duration: 16.626s\n",
            "epoch: 17 batch: 400 loss: 0.3692359 cur_accuracy: 1.0 test_accuracy: 0.87 duration: 16.669s\n",
            "epoch: 17 batch: 500 loss: 0.46910143 cur_accuracy: 1.0 test_accuracy: 0.82 duration: 16.822s\n"
          ],
          "name": "stdout"
        },
        {
          "output_type": "stream",
          "text": [
            "epoch: 17 batch: 600 loss: 0.42162967 cur_accuracy: 1.0 test_accuracy: 0.85 duration: 16.599s\n",
            "epoch: 17 batch: 700 loss: 0.48526508 cur_accuracy: 1.0 test_accuracy: 0.85 duration: 16.616s\n",
            "epoch: 17 batch: 800 loss: 0.60899127 cur_accuracy: 0.9 test_accuracy: 0.85 duration: 16.622s\n",
            "epoch: 17 batch: 900 loss: 0.46534538 cur_accuracy: 1.0 test_accuracy: 0.84 duration: 16.585s\n",
            "epoch: 17 batch: 1000 loss: 0.39942434 cur_accuracy: 1.0 test_accuracy: 0.97 duration: 16.615s\n",
            "epoch: 17 batch: 1100 loss: 0.43814865 cur_accuracy: 1.0 test_accuracy: 0.86 duration: 16.537s\n",
            "epoch: 17 batch: 1200 loss: 0.6052577 cur_accuracy: 1.0 test_accuracy: 0.96 duration: 16.557s\n",
            "epoch: 18 batch: 100 loss: 0.36225247 cur_accuracy: 1.0 test_accuracy: 0.95 duration: 16.609s\n",
            "epoch: 18 batch: 200 loss: 0.3482378 cur_accuracy: 1.0 test_accuracy: 0.91 duration: 16.601s\n",
            "epoch: 18 batch: 300 loss: 0.3518293 cur_accuracy: 1.0 test_accuracy: 0.94 duration: 16.558s\n",
            "epoch: 18 batch: 400 loss: 0.46452516 cur_accuracy: 1.0 test_accuracy: 0.95 duration: 16.554s\n",
            "epoch: 18 batch: 500 loss: 0.4402956 cur_accuracy: 1.0 test_accuracy: 0.94 duration: 16.643s\n",
            "epoch: 18 batch: 600 loss: 0.403261 cur_accuracy: 1.0 test_accuracy: 0.97 duration: 16.617s\n",
            "epoch: 18 batch: 700 loss: 0.3214694 cur_accuracy: 1.0 test_accuracy: 0.88 duration: 16.619s\n",
            "epoch: 18 batch: 800 loss: 0.35278434 cur_accuracy: 1.0 test_accuracy: 0.91 duration: 16.626s\n",
            "epoch: 18 batch: 900 loss: 0.48094517 cur_accuracy: 1.0 test_accuracy: 0.92 duration: 16.730s\n",
            "epoch: 18 batch: 1000 loss: 0.7672858 cur_accuracy: 0.9 test_accuracy: 0.82 duration: 16.821s\n",
            "epoch: 18 batch: 1100 loss: 0.37901872 cur_accuracy: 1.0 test_accuracy: 0.87 duration: 16.774s\n",
            "epoch: 18 batch: 1200 loss: 0.4801895 cur_accuracy: 1.0 test_accuracy: 0.8 duration: 16.643s\n",
            "epoch: 19 batch: 100 loss: 0.43853027 cur_accuracy: 1.0 test_accuracy: 0.88 duration: 16.576s\n",
            "epoch: 19 batch: 200 loss: 0.6669464 cur_accuracy: 1.0 test_accuracy: 0.9 duration: 16.664s\n",
            "epoch: 19 batch: 300 loss: 0.46059546 cur_accuracy: 1.0 test_accuracy: 0.92 duration: 16.591s\n",
            "epoch: 19 batch: 400 loss: 0.43950278 cur_accuracy: 1.0 test_accuracy: 0.93 duration: 16.580s\n",
            "epoch: 19 batch: 500 loss: 0.355275 cur_accuracy: 1.0 test_accuracy: 0.91 duration: 16.619s\n",
            "epoch: 19 batch: 600 loss: 0.62302905 cur_accuracy: 0.8 test_accuracy: 0.86 duration: 16.584s\n",
            "epoch: 19 batch: 700 loss: 0.40156284 cur_accuracy: 1.0 test_accuracy: 0.79 duration: 16.588s\n",
            "epoch: 19 batch: 800 loss: 0.43476066 cur_accuracy: 1.0 test_accuracy: 0.9 duration: 16.629s\n",
            "epoch: 19 batch: 900 loss: 0.45827588 cur_accuracy: 1.0 test_accuracy: 0.95 duration: 16.564s\n",
            "epoch: 19 batch: 1000 loss: 0.61103356 cur_accuracy: 1.0 test_accuracy: 0.89 duration: 16.614s\n",
            "epoch: 19 batch: 1100 loss: 0.44552192 cur_accuracy: 1.0 test_accuracy: 1.0 duration: 16.647s\n",
            "epoch: 19 batch: 1200 loss: 0.43775958 cur_accuracy: 1.0 test_accuracy: 0.99 duration: 16.598s\n",
            "epoch: 20 batch: 100 loss: 0.43757877 cur_accuracy: 1.0 test_accuracy: 0.98 duration: 16.608s\n",
            "epoch: 20 batch: 200 loss: 0.4638092 cur_accuracy: 1.0 test_accuracy: 0.98 duration: 16.607s\n",
            "epoch: 20 batch: 300 loss: 0.6758534 cur_accuracy: 0.9 test_accuracy: 0.98 duration: 16.661s\n",
            "epoch: 20 batch: 400 loss: 0.47551766 cur_accuracy: 1.0 test_accuracy: 0.99 duration: 16.778s\n",
            "epoch: 20 batch: 500 loss: 0.59198725 cur_accuracy: 1.0 test_accuracy: 0.95 duration: 16.769s\n",
            "epoch: 20 batch: 600 loss: 0.47605938 cur_accuracy: 1.0 test_accuracy: 0.93 duration: 16.574s\n",
            "epoch: 20 batch: 700 loss: 0.463729 cur_accuracy: 1.0 test_accuracy: 0.99 duration: 16.634s\n",
            "epoch: 20 batch: 800 loss: 0.48335558 cur_accuracy: 1.0 test_accuracy: 0.99 duration: 16.614s\n",
            "epoch: 20 batch: 900 loss: 0.4945251 cur_accuracy: 1.0 test_accuracy: 0.98 duration: 16.641s\n",
            "epoch: 20 batch: 1000 loss: 0.58403987 cur_accuracy: 1.0 test_accuracy: 1.0 duration: 16.707s\n",
            "Done.\n"
          ],
          "name": "stdout"
        }
      ]
    },
    {
      "metadata": {
        "id": "xG409xEyGdAW",
        "colab_type": "code",
        "colab": {
          "base_uri": "https://localhost:8080/",
          "height": 111
        },
        "outputId": "ed8f383a-999c-405e-dbbe-8e86d59614e4"
      },
      "cell_type": "code",
      "source": [
        "begin = random.randrange(0, test_total-10)\n",
        "end = begin + 10\n",
        "res, accuracy_val = sessRes.run([predict, accuracy], feed_dict = {img_holder: test_images[begin:end], lbl_holder:test_labels[begin:end], train: False})\n",
        "titles = [str(np.argmax(test_labels[i])) + '->' + str(res[i-begin]) for i in range(begin, end)] \n",
        "plotImg(test_images[begin:end], titles)\n",
        "print('Accuracy:', accuracy_val)"
      ],
      "execution_count": 9,
      "outputs": [
        {
          "output_type": "display_data",
          "data": {
            "image/png": "[encoded data removed]",
            "text/plain": [
              "<matplotlib.figure.Figure at 0x7f8040e6ae48>"
            ]
          },
          "metadata": {
            "tags": []
          }
        },
        {
          "output_type": "stream",
          "text": [
            "Accuracy: 0.8\n"
          ],
          "name": "stdout"
        }
      ]
    },
    {
      "metadata": {
        "id": "QKzVBejXTsYG",
        "colab_type": "code",
        "colab": {}
      },
      "cell_type": "code",
      "source": [
        "sessRes.close()"
      ],
      "execution_count": 0,
      "outputs": []
    },
    {
      "metadata": {
        "id": "STIvxtMuGdAc",
        "colab_type": "code",
        "colab": {}
      },
      "cell_type": "code",
      "source": [
        "# # memory footprint support libraries/code\n",
        "# !ln -sf /opt/bin/nvidia-smi /usr/bin/nvidia-smi\n",
        "# !pip install gputil\n",
        "# !pip install psutil\n",
        "# !pip install humanize\n",
        "# import psutil\n",
        "# import humanize\n",
        "# import os\n",
        "# import GPUtil as GPU\n",
        "# GPUs = GPU.getGPUs()\n",
        "# # XXX: only one GPU on Colab and isn’t guaranteed\n",
        "# gpu = GPUs[0]\n",
        "# def printm():\n",
        "#  process = psutil.Process(os.getpid())\n",
        "#  print(\"Gen RAM Free: \" + humanize.naturalsize( psutil.virtual_memory().available ), \" I Proc size: \" + humanize.naturalsize( process.memory_info().rss))\n",
        "#  print(\"GPU RAM Free: {0:.0f}MB | Used: {1:.0f}MB | Util {2:3.0f}% | Total {3:.0f}MB\".format(gpu.memoryFree, gpu.memoryUsed, gpu.memoryUtil*100, gpu.memoryTotal))\n",
        "# printm()"
      ],
      "execution_count": 0,
      "outputs": []
    },
    {
      "metadata": {
        "id": "VNY_y6KMNlrf",
        "colab_type": "code",
        "colab": {
          "base_uri": "https://localhost:8080/",
          "height": 153
        },
        "outputId": "114bcf9e-b872-432d-9641-9bdda10295e4"
      },
      "cell_type": "code",
      "source": [
        "#------------------------------------------------\n",
        "#    Replace google drive trained model with new one\n",
        "#------------------------------------------------\n",
        "!rm -rf Hybrid7.zip\n",
        "!zip -r Hybrid7.zip checkpoints\n",
        "# Install the PyDrive wrapper & import libraries.\n",
        "# This only needs to be done once in a notebook.\n",
        "!pip install -U -q PyDrive\n",
        "from pydrive.auth import GoogleAuth\n",
        "from pydrive.drive import GoogleDrive\n",
        "from google.colab import auth\n",
        "from oauth2client.client import GoogleCredentials\n",
        "\n",
        "# Authenticate and create the PyDrive client.\n",
        "# This only needs to be done once in a notebook.\n",
        "auth.authenticate_user()\n",
        "gauth = GoogleAuth()\n",
        "gauth.credentials = GoogleCredentials.get_application_default()\n",
        "drive = GoogleDrive(gauth)\n",
        "\n",
        "file_list = drive.ListFile(\n",
        "    {'q': \"'19lVhhib3mhWMW_eQsFFoOQLVsmfN6SB3' in parents\"}).GetList()\n",
        "\n",
        "for f in file_list:\n",
        "  # delete old one\n",
        "  fname = f['title']\n",
        "  print('Deleting', fname)\n",
        "  f.Delete()\n",
        "file_metadata = {'title': 'Hybrid7.zip', \"parents\": [{\"id\": '19lVhhib3mhWMW_eQsFFoOQLVsmfN6SB3', \"kind\": \"drive#childList\"}]}\n",
        "# Create & upload a file.\n",
        "uploaded = drive.CreateFile(file_metadata)\n",
        "uploaded.SetContentFile('Hybrid7.zip')\n",
        "uploaded.Upload()\n",
        "print('Uploaded file with ID {}'.format(uploaded.get('id')))"
      ],
      "execution_count": 12,
      "outputs": [
        {
          "output_type": "stream",
          "text": [
            "  adding: checkpoints/ (stored 0%)\r\n",
            "  adding: checkpoints/cnnGesture/ (stored 0%)\n",
            "  adding: checkpoints/cnnGesture/model.meta (deflated 90%)\n",
            "  adding: checkpoints/cnnGesture/model.data-00000-of-00001 (deflated 16%)\n",
            "  adding: checkpoints/cnnGesture/model.index (deflated 50%)\n",
            "  adding: checkpoints/cnnGesture/checkpoint (deflated 39%)\n",
            "Deleting Hybrid7.zip\n",
            "Uploaded file with ID 1rWgglN8BWqbN-tTXhgKLvwIRKxrPJorf\n"
          ],
          "name": "stdout"
        }
      ]
    },
    {
      "metadata": {
        "id": "LAGbyy4ltk56",
        "colab_type": "code",
        "colab": {}
      },
      "cell_type": "code",
      "source": [
        ""
      ],
      "execution_count": 0,
      "outputs": []
    }
  ]
}