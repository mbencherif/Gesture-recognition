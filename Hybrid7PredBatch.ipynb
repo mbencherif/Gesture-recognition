{
 "cells": [
  {
   "cell_type": "code",
   "execution_count": 1,
   "metadata": {
    "scrolled": true
   },
   "outputs": [
    {
     "name": "stderr",
     "output_type": "stream",
     "text": [
      "/anaconda3/lib/python3.6/site-packages/h5py/__init__.py:36: FutureWarning: Conversion of the second argument of issubdtype from `float` to `np.floating` is deprecated. In future, it will be treated as `np.float64 == np.dtype(float).type`.\n",
      "  from ._conv import register_converters as _register_converters\n"
     ]
    }
   ],
   "source": [
    "import tensorflow as tf\n",
    "import numpy as np\n",
    "import glob\n",
    "import cv2\n",
    "import matplotlib.pyplot as plt\n",
    "import os\n",
    "import random"
   ]
  },
  {
   "cell_type": "code",
   "execution_count": 2,
   "metadata": {},
   "outputs": [],
   "source": [
    "def plotImg(imgs, titles = None):\n",
    "    fig = plt.figure()\n",
    "    for i in range(len(imgs)):\n",
    "        ax = fig.add_subplot(1, len(imgs), i + 1)\n",
    "        if titles != None:\n",
    "            ax.title.set_text(titles[i])\n",
    "        plt.imshow(imgs[i])\n",
    "        plt.axis('off')\n",
    "    plt.show()"
   ]
  },
  {
   "cell_type": "code",
   "execution_count": 3,
   "metadata": {},
   "outputs": [],
   "source": [
    "# Set parameters\n",
    "chkp_dir = 'checkpoints/cnnGesture/'\n",
    "chkp_name = 'model'\n",
    "PATH_TO_TEST_IMAGES_DIR = 'data/gesture/test_set'\n",
    "TEST_IMAGE_PATHS = glob.glob(PATH_TO_TEST_IMAGES_DIR + '/*.png')"
   ]
  },
  {
   "cell_type": "code",
   "execution_count": 4,
   "metadata": {},
   "outputs": [
    {
     "name": "stdout",
     "output_type": "stream",
     "text": [
      "(369, 300, 370, 3) (369,)\n"
     ]
    }
   ],
   "source": [
    "# test images collection\n",
    "test_data = []\n",
    "test_labels = []\n",
    "for image_path in TEST_IMAGE_PATHS:\n",
    "    cls = int(image_path[image_path.rfind('/')+1:image_path.index('-')])\n",
    "    img = cv2.imread(image_path, cv2.IMREAD_UNCHANGED)\n",
    "    img = cv2.cvtColor(img, cv2.COLOR_BGR2RGB)\n",
    "    test_data.append(img)\n",
    "    test_labels.append(cls)\n",
    "print(np.shape(test_data), np.shape(test_labels))"
   ]
  },
  {
   "cell_type": "code",
   "execution_count": 5,
   "metadata": {
    "scrolled": true
   },
   "outputs": [
    {
     "name": "stdout",
     "output_type": "stream",
     "text": [
      "INFO:tensorflow:Restoring parameters from checkpoints/cnnGesture/model\n"
     ]
    }
   ],
   "source": [
    "# restore checkpoint\n",
    "sessRes = tf.Session()\n",
    "saver = tf.train.import_meta_graph(chkp_dir + 'model.meta')\n",
    "saver.restore(sessRes, tf.train.latest_checkpoint(chkp_dir))"
   ]
  },
  {
   "cell_type": "code",
   "execution_count": 6,
   "metadata": {},
   "outputs": [],
   "source": [
    "# restore tensors\n",
    "img_holder = sessRes.graph.get_tensor_by_name('img_holder:0')\n",
    "lbl_holder =sessRes.graph.get_tensor_by_name('lbl_holder:0')\n",
    "train = sessRes.graph.get_tensor_by_name('train_bool:0')\n",
    "predict = sessRes.graph.get_tensor_by_name('prediction:0')\n",
    "accuracy = sessRes.graph.get_tensor_by_name('accuracy:0')"
   ]
  },
  {
   "cell_type": "code",
   "execution_count": 7,
   "metadata": {
    "scrolled": true
   },
   "outputs": [
    {
     "data": {
      "image/png": "[encoded data removed]",
      "text/plain": [
       "<matplotlib.figure.Figure at 0x132ae9fd0>"
      ]
     },
     "metadata": {},
     "output_type": "display_data"
    },
    {
     "name": "stdout",
     "output_type": "stream",
     "text": [
      "Accuracy: 0.2\n"
     ]
    }
   ],
   "source": [
    "# test data prediction\n",
    "begin = random.randrange(0,254-10)\n",
    "end = begin+10\n",
    "test_labels_one_hot = [np.eye(6)[i] for i in test_labels]\n",
    "res, accuracy_val = sessRes.run([predict, accuracy], feed_dict = {img_holder: test_data[begin:end],\n",
    "lbl_holder: test_labels_one_hot[begin:end],train: False})\n",
    "titles = [str(test_labels[begin + i]) + '->' + str(res[i]) for i in range(end - begin)] \n",
    "plotImg(test_data[begin:end], titles)\n",
    "print('Accuracy:', accuracy_val)  "
   ]
  },
  {
   "cell_type": "code",
   "execution_count": 8,
   "metadata": {},
   "outputs": [],
   "source": [
    "sessRes.close()"
   ]
  }
 ],
 "metadata": {
  "kernelspec": {
   "display_name": "Python 3",
   "language": "python",
   "name": "python3"
  },
  "language_info": {
   "codemirror_mode": {
    "name": "ipython",
    "version": 3
   },
   "file_extension": ".py",
   "mimetype": "text/x-python",
   "name": "python",
   "nbconvert_exporter": "python",
   "pygments_lexer": "ipython3",
   "version": "3.6.4"
  }
 },
 "nbformat": 4,
 "nbformat_minor": 2
}
